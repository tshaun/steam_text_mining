{
  "cells": [
    {
      "cell_type": "code",
      "execution_count": 4,
      "metadata": {
        "colab": {
          "base_uri": "https://localhost:8080/"
        },
        "id": "FxuGGGPKMvP5",
        "outputId": "52d27d0c-a164-4d95-b428-f321bae93d0c"
      },
      "outputs": [
        {
          "name": "stdout",
          "output_type": "stream",
          "text": [
            "app_name\n",
            "Dota 2                            73541\n",
            "Rocket League                     54227\n",
            "The Witcher 3: Wild Hunt          31853\n",
            "DOOM                              20682\n",
            "Counter-Strike                    12353\n",
            "Call of Duty: Modern Warfare 3     5197\n",
            "NBA 2K16                           2534\n",
            "The Elder Scrolls V: Skyrim        2260\n",
            "Football Manager 2016              1742\n",
            "Name: count, dtype: int64\n"
          ]
        }
      ],
      "source": [
        "import pandas as pd\n",
        "import numpy as np\n",
        "import scipy.sparse\n",
        "from sklearn.feature_extraction.text import TfidfVectorizer\n",
        "\n",
        "df = pd.read_csv('/content/preprocessed_reviews.csv')\n",
        "\n",
        "# Get the number of reviews for each product\n",
        "product_review_count = df['app_name'].value_counts()\n",
        "\n",
        "\n",
        "print(product_review_count)\n"
      ]
    },
    {
      "cell_type": "code",
      "execution_count": 5,
      "metadata": {
        "colab": {
          "base_uri": "https://localhost:8080/",
          "height": 1000
        },
        "id": "M3wY_kDaNU0E",
        "outputId": "e60c99af-a2b1-4a60-a96d-64fcceaad756"
      },
      "outputs": [
        {
          "name": "stdout",
          "output_type": "stream",
          "text": [
            "Requirement already satisfied: transformers in /usr/local/lib/python3.11/dist-packages (4.48.3)\n",
            "Requirement already satisfied: torch in /usr/local/lib/python3.11/dist-packages (2.6.0+cu124)\n",
            "Requirement already satisfied: filelock in /usr/local/lib/python3.11/dist-packages (from transformers) (3.17.0)\n",
            "Requirement already satisfied: huggingface-hub<1.0,>=0.24.0 in /usr/local/lib/python3.11/dist-packages (from transformers) (0.28.1)\n",
            "Requirement already satisfied: numpy>=1.17 in /usr/local/lib/python3.11/dist-packages (from transformers) (2.0.2)\n",
            "Requirement already satisfied: packaging>=20.0 in /usr/local/lib/python3.11/dist-packages (from transformers) (24.2)\n",
            "Requirement already satisfied: pyyaml>=5.1 in /usr/local/lib/python3.11/dist-packages (from transformers) (6.0.2)\n",
            "Requirement already satisfied: regex!=2019.12.17 in /usr/local/lib/python3.11/dist-packages (from transformers) (2024.11.6)\n",
            "Requirement already satisfied: requests in /usr/local/lib/python3.11/dist-packages (from transformers) (2.32.3)\n",
            "Requirement already satisfied: tokenizers<0.22,>=0.21 in /usr/local/lib/python3.11/dist-packages (from transformers) (0.21.1)\n",
            "Requirement already satisfied: safetensors>=0.4.1 in /usr/local/lib/python3.11/dist-packages (from transformers) (0.5.3)\n",
            "Requirement already satisfied: tqdm>=4.27 in /usr/local/lib/python3.11/dist-packages (from transformers) (4.67.1)\n",
            "Requirement already satisfied: typing-extensions>=4.10.0 in /usr/local/lib/python3.11/dist-packages (from torch) (4.12.2)\n",
            "Requirement already satisfied: networkx in /usr/local/lib/python3.11/dist-packages (from torch) (3.4.2)\n",
            "Requirement already satisfied: jinja2 in /usr/local/lib/python3.11/dist-packages (from torch) (3.1.6)\n",
            "Requirement already satisfied: fsspec in /usr/local/lib/python3.11/dist-packages (from torch) (2024.10.0)\n",
            "Collecting nvidia-cuda-nvrtc-cu12==12.4.127 (from torch)\n",
            "  Downloading nvidia_cuda_nvrtc_cu12-12.4.127-py3-none-manylinux2014_x86_64.whl.metadata (1.5 kB)\n",
            "Collecting nvidia-cuda-runtime-cu12==12.4.127 (from torch)\n",
            "  Downloading nvidia_cuda_runtime_cu12-12.4.127-py3-none-manylinux2014_x86_64.whl.metadata (1.5 kB)\n",
            "Collecting nvidia-cuda-cupti-cu12==12.4.127 (from torch)\n",
            "  Downloading nvidia_cuda_cupti_cu12-12.4.127-py3-none-manylinux2014_x86_64.whl.metadata (1.6 kB)\n",
            "Collecting nvidia-cudnn-cu12==9.1.0.70 (from torch)\n",
            "  Downloading nvidia_cudnn_cu12-9.1.0.70-py3-none-manylinux2014_x86_64.whl.metadata (1.6 kB)\n",
            "Collecting nvidia-cublas-cu12==12.4.5.8 (from torch)\n",
            "  Downloading nvidia_cublas_cu12-12.4.5.8-py3-none-manylinux2014_x86_64.whl.metadata (1.5 kB)\n",
            "Collecting nvidia-cufft-cu12==11.2.1.3 (from torch)\n",
            "  Downloading nvidia_cufft_cu12-11.2.1.3-py3-none-manylinux2014_x86_64.whl.metadata (1.5 kB)\n",
            "Collecting nvidia-curand-cu12==10.3.5.147 (from torch)\n",
            "  Downloading nvidia_curand_cu12-10.3.5.147-py3-none-manylinux2014_x86_64.whl.metadata (1.5 kB)\n",
            "Collecting nvidia-cusolver-cu12==11.6.1.9 (from torch)\n",
            "  Downloading nvidia_cusolver_cu12-11.6.1.9-py3-none-manylinux2014_x86_64.whl.metadata (1.6 kB)\n",
            "Collecting nvidia-cusparse-cu12==12.3.1.170 (from torch)\n",
            "  Downloading nvidia_cusparse_cu12-12.3.1.170-py3-none-manylinux2014_x86_64.whl.metadata (1.6 kB)\n",
            "Requirement already satisfied: nvidia-cusparselt-cu12==0.6.2 in /usr/local/lib/python3.11/dist-packages (from torch) (0.6.2)\n",
            "Requirement already satisfied: nvidia-nccl-cu12==2.21.5 in /usr/local/lib/python3.11/dist-packages (from torch) (2.21.5)\n",
            "Requirement already satisfied: nvidia-nvtx-cu12==12.4.127 in /usr/local/lib/python3.11/dist-packages (from torch) (12.4.127)\n",
            "Collecting nvidia-nvjitlink-cu12==12.4.127 (from torch)\n",
            "  Downloading nvidia_nvjitlink_cu12-12.4.127-py3-none-manylinux2014_x86_64.whl.metadata (1.5 kB)\n",
            "Requirement already satisfied: triton==3.2.0 in /usr/local/lib/python3.11/dist-packages (from torch) (3.2.0)\n",
            "Requirement already satisfied: sympy==1.13.1 in /usr/local/lib/python3.11/dist-packages (from torch) (1.13.1)\n",
            "Requirement already satisfied: mpmath<1.4,>=1.1.0 in /usr/local/lib/python3.11/dist-packages (from sympy==1.13.1->torch) (1.3.0)\n",
            "Requirement already satisfied: MarkupSafe>=2.0 in /usr/local/lib/python3.11/dist-packages (from jinja2->torch) (3.0.2)\n",
            "Requirement already satisfied: charset-normalizer<4,>=2 in /usr/local/lib/python3.11/dist-packages (from requests->transformers) (3.4.1)\n",
            "Requirement already satisfied: idna<4,>=2.5 in /usr/local/lib/python3.11/dist-packages (from requests->transformers) (3.10)\n",
            "Requirement already satisfied: urllib3<3,>=1.21.1 in /usr/local/lib/python3.11/dist-packages (from requests->transformers) (2.3.0)\n",
            "Requirement already satisfied: certifi>=2017.4.17 in /usr/local/lib/python3.11/dist-packages (from requests->transformers) (2025.1.31)\n",
            "Downloading nvidia_cublas_cu12-12.4.5.8-py3-none-manylinux2014_x86_64.whl (363.4 MB)\n",
            "\u001b[2K   \u001b[90m━━━━━━━━━━━━━━━━━━━━━━━━━━━━━━━━━━━━━━━━\u001b[0m \u001b[32m363.4/363.4 MB\u001b[0m \u001b[31m2.8 MB/s\u001b[0m eta \u001b[36m0:00:00\u001b[0m\n",
            "\u001b[?25hDownloading nvidia_cuda_cupti_cu12-12.4.127-py3-none-manylinux2014_x86_64.whl (13.8 MB)\n",
            "\u001b[2K   \u001b[90m━━━━━━━━━━━━━━━━━━━━━━━━━━━━━━━━━━━━━━━━\u001b[0m \u001b[32m13.8/13.8 MB\u001b[0m \u001b[31m116.3 MB/s\u001b[0m eta \u001b[36m0:00:00\u001b[0m\n",
            "\u001b[?25hDownloading nvidia_cuda_nvrtc_cu12-12.4.127-py3-none-manylinux2014_x86_64.whl (24.6 MB)\n",
            "\u001b[2K   \u001b[90m━━━━━━━━━━━━━━━━━━━━━━━━━━━━━━━━━━━━━━━━\u001b[0m \u001b[32m24.6/24.6 MB\u001b[0m \u001b[31m91.8 MB/s\u001b[0m eta \u001b[36m0:00:00\u001b[0m\n",
            "\u001b[?25hDownloading nvidia_cuda_runtime_cu12-12.4.127-py3-none-manylinux2014_x86_64.whl (883 kB)\n",
            "\u001b[2K   \u001b[90m━━━━━━━━━━━━━━━━━━━━━━━━━━━━━━━━━━━━━━━━\u001b[0m \u001b[32m883.7/883.7 kB\u001b[0m \u001b[31m59.3 MB/s\u001b[0m eta \u001b[36m0:00:00\u001b[0m\n",
            "\u001b[?25hDownloading nvidia_cudnn_cu12-9.1.0.70-py3-none-manylinux2014_x86_64.whl (664.8 MB)\n",
            "\u001b[2K   \u001b[90m━━━━━━━━━━━━━━━━━━━━━━━━━━━━━━━━━━━━━━━━\u001b[0m \u001b[32m664.8/664.8 MB\u001b[0m \u001b[31m1.7 MB/s\u001b[0m eta \u001b[36m0:00:00\u001b[0m\n",
            "\u001b[?25hDownloading nvidia_cufft_cu12-11.2.1.3-py3-none-manylinux2014_x86_64.whl (211.5 MB)\n",
            "\u001b[2K   \u001b[90m━━━━━━━━━━━━━━━━━━━━━━━━━━━━━━━━━━━━━━━━\u001b[0m \u001b[32m211.5/211.5 MB\u001b[0m \u001b[31m10.6 MB/s\u001b[0m eta \u001b[36m0:00:00\u001b[0m\n",
            "\u001b[?25hDownloading nvidia_curand_cu12-10.3.5.147-py3-none-manylinux2014_x86_64.whl (56.3 MB)\n",
            "\u001b[2K   \u001b[90m━━━━━━━━━━━━━━━━━━━━━━━━━━━━━━━━━━━━━━━━\u001b[0m \u001b[32m56.3/56.3 MB\u001b[0m \u001b[31m39.5 MB/s\u001b[0m eta \u001b[36m0:00:00\u001b[0m\n",
            "\u001b[?25hDownloading nvidia_cusolver_cu12-11.6.1.9-py3-none-manylinux2014_x86_64.whl (127.9 MB)\n",
            "\u001b[2K   \u001b[90m━━━━━━━━━━━━━━━━━━━━━━━━━━━━━━━━━━━━━━━━\u001b[0m \u001b[32m127.9/127.9 MB\u001b[0m \u001b[31m18.0 MB/s\u001b[0m eta \u001b[36m0:00:00\u001b[0m\n",
            "\u001b[?25hDownloading nvidia_cusparse_cu12-12.3.1.170-py3-none-manylinux2014_x86_64.whl (207.5 MB)\n",
            "\u001b[2K   \u001b[90m━━━━━━━━━━━━━━━━━━━━━━━━━━━━━━━━━━━━━━━━\u001b[0m \u001b[32m207.5/207.5 MB\u001b[0m \u001b[31m5.7 MB/s\u001b[0m eta \u001b[36m0:00:00\u001b[0m\n",
            "\u001b[?25hDownloading nvidia_nvjitlink_cu12-12.4.127-py3-none-manylinux2014_x86_64.whl (21.1 MB)\n",
            "\u001b[2K   \u001b[90m━━━━━━━━━━━━━━━━━━━━━━━━━━━━━━━━━━━━━━━━\u001b[0m \u001b[32m21.1/21.1 MB\u001b[0m \u001b[31m96.6 MB/s\u001b[0m eta \u001b[36m0:00:00\u001b[0m\n",
            "\u001b[?25hInstalling collected packages: nvidia-nvjitlink-cu12, nvidia-curand-cu12, nvidia-cufft-cu12, nvidia-cuda-runtime-cu12, nvidia-cuda-nvrtc-cu12, nvidia-cuda-cupti-cu12, nvidia-cublas-cu12, nvidia-cusparse-cu12, nvidia-cudnn-cu12, nvidia-cusolver-cu12\n",
            "  Attempting uninstall: nvidia-nvjitlink-cu12\n",
            "    Found existing installation: nvidia-nvjitlink-cu12 12.5.82\n",
            "    Uninstalling nvidia-nvjitlink-cu12-12.5.82:\n",
            "      Successfully uninstalled nvidia-nvjitlink-cu12-12.5.82\n",
            "  Attempting uninstall: nvidia-curand-cu12\n",
            "    Found existing installation: nvidia-curand-cu12 10.3.6.82\n",
            "    Uninstalling nvidia-curand-cu12-10.3.6.82:\n",
            "      Successfully uninstalled nvidia-curand-cu12-10.3.6.82\n",
            "  Attempting uninstall: nvidia-cufft-cu12\n",
            "    Found existing installation: nvidia-cufft-cu12 11.2.3.61\n",
            "    Uninstalling nvidia-cufft-cu12-11.2.3.61:\n",
            "      Successfully uninstalled nvidia-cufft-cu12-11.2.3.61\n",
            "  Attempting uninstall: nvidia-cuda-runtime-cu12\n",
            "    Found existing installation: nvidia-cuda-runtime-cu12 12.5.82\n",
            "    Uninstalling nvidia-cuda-runtime-cu12-12.5.82:\n",
            "      Successfully uninstalled nvidia-cuda-runtime-cu12-12.5.82\n",
            "  Attempting uninstall: nvidia-cuda-nvrtc-cu12\n",
            "    Found existing installation: nvidia-cuda-nvrtc-cu12 12.5.82\n",
            "    Uninstalling nvidia-cuda-nvrtc-cu12-12.5.82:\n",
            "      Successfully uninstalled nvidia-cuda-nvrtc-cu12-12.5.82\n",
            "  Attempting uninstall: nvidia-cuda-cupti-cu12\n",
            "    Found existing installation: nvidia-cuda-cupti-cu12 12.5.82\n",
            "    Uninstalling nvidia-cuda-cupti-cu12-12.5.82:\n",
            "      Successfully uninstalled nvidia-cuda-cupti-cu12-12.5.82\n",
            "  Attempting uninstall: nvidia-cublas-cu12\n",
            "    Found existing installation: nvidia-cublas-cu12 12.5.3.2\n",
            "    Uninstalling nvidia-cublas-cu12-12.5.3.2:\n",
            "      Successfully uninstalled nvidia-cublas-cu12-12.5.3.2\n",
            "  Attempting uninstall: nvidia-cusparse-cu12\n",
            "    Found existing installation: nvidia-cusparse-cu12 12.5.1.3\n",
            "    Uninstalling nvidia-cusparse-cu12-12.5.1.3:\n",
            "      Successfully uninstalled nvidia-cusparse-cu12-12.5.1.3\n",
            "  Attempting uninstall: nvidia-cudnn-cu12\n",
            "    Found existing installation: nvidia-cudnn-cu12 9.3.0.75\n",
            "    Uninstalling nvidia-cudnn-cu12-9.3.0.75:\n",
            "      Successfully uninstalled nvidia-cudnn-cu12-9.3.0.75\n",
            "  Attempting uninstall: nvidia-cusolver-cu12\n",
            "    Found existing installation: nvidia-cusolver-cu12 11.6.3.83\n",
            "    Uninstalling nvidia-cusolver-cu12-11.6.3.83:\n",
            "      Successfully uninstalled nvidia-cusolver-cu12-11.6.3.83\n",
            "Successfully installed nvidia-cublas-cu12-12.4.5.8 nvidia-cuda-cupti-cu12-12.4.127 nvidia-cuda-nvrtc-cu12-12.4.127 nvidia-cuda-runtime-cu12-12.4.127 nvidia-cudnn-cu12-9.1.0.70 nvidia-cufft-cu12-11.2.1.3 nvidia-curand-cu12-10.3.5.147 nvidia-cusolver-cu12-11.6.1.9 nvidia-cusparse-cu12-12.3.1.170 nvidia-nvjitlink-cu12-12.4.127\n"
          ]
        },
        {
          "data": {
            "application/vnd.colab-display-data+json": {
              "id": "47ca4d1b0122474d81ff31f3a78591aa",
              "pip_warning": {
                "packages": [
                  "nvidia"
                ]
              }
            }
          },
          "metadata": {},
          "output_type": "display_data"
        }
      ],
      "source": [
        "!pip install transformers torch\n",
        "\n"
      ]
    },
    {
      "cell_type": "code",
      "execution_count": 7,
      "metadata": {
        "colab": {
          "base_uri": "https://localhost:8080/"
        },
        "id": "6PXLDCDiqLTL",
        "outputId": "4f716180-69c3-4e66-e751-c4b690c3b20f"
      },
      "outputs": [
        {
          "name": "stderr",
          "output_type": "stream",
          "text": [
            "\rProcessing Batches:   0%|          | 0/390 [00:00<?, ?batch/s]"
          ]
        },
        {
          "name": "stdout",
          "output_type": "stream",
          "text": [
            "DEBUG - Processing batch starting at index 0. Sample text: ruined my life...\n"
          ]
        },
        {
          "name": "stderr",
          "output_type": "stream",
          "text": [
            "\rProcessing Batches:   0%|          | 1/390 [00:09<1:01:45,  9.52s/batch]"
          ]
        },
        {
          "name": "stdout",
          "output_type": "stream",
          "text": [
            "DEBUG - Batch sample output: Sentiment: 0, Confidence: 1.00\n",
            "Processed 512/199235 reviews. Time elapsed: 9.53s. Estimated time remaining: 3706.11s\n",
            "DEBUG - Processing batch starting at index 512. Sample text: u dont have nospread lel this game only for legit...\n"
          ]
        },
        {
          "name": "stderr",
          "output_type": "stream",
          "text": [
            "\rProcessing Batches:   1%|          | 2/390 [00:17<54:21,  8.41s/batch]  "
          ]
        },
        {
          "name": "stdout",
          "output_type": "stream",
          "text": [
            "DEBUG - Batch sample output: Sentiment: 0, Confidence: 0.99\n",
            "Processed 1024/199235 reviews. Time elapsed: 17.15s. Estimated time remaining: 3327.40s\n",
            "DEBUG - Processing batch starting at index 1024. Sample text: the besttttttt...\n"
          ]
        },
        {
          "name": "stderr",
          "output_type": "stream",
          "text": [
            "\rProcessing Batches:   1%|          | 3/390 [00:26<57:21,  8.89s/batch]"
          ]
        },
        {
          "name": "stdout",
          "output_type": "stream",
          "text": [
            "DEBUG - Batch sample output: Sentiment: 1, Confidence: 1.00\n",
            "Processed 1536/199235 reviews. Time elapsed: 26.62s. Estimated time remaining: 3433.97s\n",
            "DEBUG - Processing batch starting at index 1536. Sample text: perfect game to play at school d...\n"
          ]
        },
        {
          "name": "stderr",
          "output_type": "stream",
          "text": [
            "\rProcessing Batches:   1%|          | 4/390 [00:36<58:34,  9.11s/batch]"
          ]
        },
        {
          "name": "stdout",
          "output_type": "stream",
          "text": [
            "DEBUG - Batch sample output: Sentiment: 1, Confidence: 1.00\n",
            "Processed 2048/199235 reviews. Time elapsed: 36.05s. Estimated time remaining: 3479.17s\n",
            "DEBUG - Processing batch starting at index 2048. Sample text: great game too bad its not competitive anymore...\n"
          ]
        },
        {
          "name": "stderr",
          "output_type": "stream",
          "text": [
            "\rProcessing Batches:   1%|▏         | 5/390 [00:45<59:15,  9.23s/batch]"
          ]
        },
        {
          "name": "stdout",
          "output_type": "stream",
          "text": [
            "DEBUG - Batch sample output: Sentiment: 0, Confidence: 1.00\n",
            "Processed 2560/199235 reviews. Time elapsed: 45.52s. Estimated time remaining: 3504.76s\n",
            "DEBUG - Processing batch starting at index 2560. Sample text:  would play again...\n"
          ]
        },
        {
          "name": "stderr",
          "output_type": "stream",
          "text": [
            "\rProcessing Batches:   2%|▏         | 6/390 [00:54<59:36,  9.31s/batch]"
          ]
        },
        {
          "name": "stdout",
          "output_type": "stream",
          "text": [
            "DEBUG - Batch sample output: Sentiment: 1, Confidence: 0.99\n",
            "Processed 3072/199235 reviews. Time elapsed: 54.99s. Estimated time remaining: 3519.21s\n",
            "DEBUG - Processing batch starting at index 3072. Sample text: you shoot people...\n"
          ]
        },
        {
          "name": "stderr",
          "output_type": "stream",
          "text": [
            "\rProcessing Batches:   2%|▏         | 7/390 [01:04<59:47,  9.37s/batch]"
          ]
        },
        {
          "name": "stdout",
          "output_type": "stream",
          "text": [
            "DEBUG - Batch sample output: Sentiment: 0, Confidence: 1.00\n",
            "Processed 3584/199235 reviews. Time elapsed: 64.46s. Estimated time remaining: 3527.10s\n",
            "DEBUG - Processing batch starting at index 3584. Sample text: anybody can play this game and enjoy lt...\n"
          ]
        },
        {
          "name": "stderr",
          "output_type": "stream",
          "text": [
            "\rProcessing Batches:   2%|▏         | 8/390 [01:09<49:52,  7.83s/batch]"
          ]
        },
        {
          "name": "stdout",
          "output_type": "stream",
          "text": [
            "DEBUG - Batch sample output: Sentiment: 1, Confidence: 1.00\n",
            "Processed 4096/199235 reviews. Time elapsed: 69.01s. Estimated time remaining: 3295.28s\n",
            "DEBUG - Processing batch starting at index 4096. Sample text: all time play...\n"
          ]
        },
        {
          "name": "stderr",
          "output_type": "stream",
          "text": [
            "\rProcessing Batches:   2%|▏         | 9/390 [01:18<52:58,  8.34s/batch]"
          ]
        },
        {
          "name": "stdout",
          "output_type": "stream",
          "text": [
            "DEBUG - Batch sample output: Sentiment: 1, Confidence: 1.00\n",
            "Processed 4608/199235 reviews. Time elapsed: 78.48s. Estimated time remaining: 3322.17s\n",
            "DEBUG - Processing batch starting at index 4608. Sample text: because im such a huge fan of csgo and css i decided to purchase and play the original counter strik...\n"
          ]
        },
        {
          "name": "stderr",
          "output_type": "stream",
          "text": [
            "\rProcessing Batches:   3%|▎         | 10/390 [01:27<55:02,  8.69s/batch]"
          ]
        },
        {
          "name": "stdout",
          "output_type": "stream",
          "text": [
            "DEBUG - Batch sample output: Sentiment: 0, Confidence: 1.00\n",
            "Processed 5120/199235 reviews. Time elapsed: 87.95s. Estimated time remaining: 3342.06s\n",
            "DEBUG - Processing batch starting at index 5120. Sample text: no doubt this is the best online game...\n"
          ]
        },
        {
          "name": "stderr",
          "output_type": "stream",
          "text": [
            "\rProcessing Batches:   3%|▎         | 11/390 [01:37<56:25,  8.93s/batch]"
          ]
        },
        {
          "name": "stdout",
          "output_type": "stream",
          "text": [
            "DEBUG - Batch sample output: Sentiment: 1, Confidence: 1.00\n",
            "Processed 5632/199235 reviews. Time elapsed: 97.42s. Estimated time remaining: 3356.69s\n",
            "DEBUG - Processing batch starting at index 5632. Sample text: old game but still good ...\n"
          ]
        },
        {
          "name": "stderr",
          "output_type": "stream",
          "text": [
            "\rProcessing Batches:   3%|▎         | 12/390 [01:46<57:18,  9.10s/batch]"
          ]
        },
        {
          "name": "stdout",
          "output_type": "stream",
          "text": [
            "DEBUG - Batch sample output: Sentiment: 1, Confidence: 1.00\n",
            "Processed 6144/199235 reviews. Time elapsed: 106.90s. Estimated time remaining: 3367.22s\n",
            "DEBUG - Processing batch starting at index 6144. Sample text: first game where i was addicted as a kid great gameplay and a lot of mods give me thousands hourse o...\n"
          ]
        },
        {
          "name": "stderr",
          "output_type": "stream",
          "text": [
            "\rProcessing Batches:   3%|▎         | 13/390 [01:56<57:52,  9.21s/batch]"
          ]
        },
        {
          "name": "stdout",
          "output_type": "stream",
          "text": [
            "DEBUG - Batch sample output: Sentiment: 1, Confidence: 1.00\n",
            "Processed 6656/199235 reviews. Time elapsed: 116.37s. Estimated time remaining: 3374.66s\n",
            "DEBUG - Processing batch starting at index 6656. Sample text: ported to linux  years after release thank you valve...\n"
          ]
        },
        {
          "name": "stderr",
          "output_type": "stream",
          "text": [
            "\rProcessing Batches:   4%|▎         | 14/390 [02:05<58:12,  9.29s/batch]"
          ]
        },
        {
          "name": "stdout",
          "output_type": "stream",
          "text": [
            "DEBUG - Batch sample output: Sentiment: 1, Confidence: 1.00\n",
            "Processed 7168/199235 reviews. Time elapsed: 125.84s. Estimated time remaining: 3379.75s\n",
            "DEBUG - Processing batch starting at index 7168. Sample text: some old school shooting d...\n"
          ]
        },
        {
          "name": "stderr",
          "output_type": "stream",
          "text": [
            "\rProcessing Batches:   4%|▍         | 15/390 [02:09<47:58,  7.68s/batch]"
          ]
        },
        {
          "name": "stdout",
          "output_type": "stream",
          "text": [
            "DEBUG - Batch sample output: Sentiment: 0, Confidence: 0.99\n",
            "Processed 7680/199235 reviews. Time elapsed: 129.78s. Estimated time remaining: 3244.42s\n",
            "DEBUG - Processing batch starting at index 7680. Sample text: oh the classic counterstrike the first and best fps ive played it just brings sooo many memories pla...\n"
          ]
        },
        {
          "name": "stderr",
          "output_type": "stream",
          "text": [
            "\rProcessing Batches:   4%|▍         | 16/390 [02:17<47:31,  7.62s/batch]"
          ]
        },
        {
          "name": "stdout",
          "output_type": "stream",
          "text": [
            "DEBUG - Batch sample output: Sentiment: 1, Confidence: 1.00\n",
            "Processed 8192/199235 reviews. Time elapsed: 137.28s. Estimated time remaining: 3208.89s\n",
            "DEBUG - Processing batch starting at index 8192. Sample text: the best games ...\n"
          ]
        },
        {
          "name": "stderr",
          "output_type": "stream",
          "text": [
            "\rProcessing Batches:   4%|▍         | 17/390 [02:26<50:33,  8.13s/batch]"
          ]
        },
        {
          "name": "stdout",
          "output_type": "stream",
          "text": [
            "DEBUG - Batch sample output: Sentiment: 1, Confidence: 1.00\n",
            "Processed 8704/199235 reviews. Time elapsed: 146.59s. Estimated time remaining: 3216.43s\n",
            "DEBUG - Processing batch starting at index 8704. Sample text: convince yourself how much fun youre having through all of the frustration  be thankful that there a...\n"
          ]
        },
        {
          "name": "stderr",
          "output_type": "stream",
          "text": [
            "\rProcessing Batches:   5%|▍         | 18/390 [02:36<52:54,  8.53s/batch]"
          ]
        },
        {
          "name": "stdout",
          "output_type": "stream",
          "text": [
            "DEBUG - Batch sample output: Sentiment: 0, Confidence: 1.00\n",
            "Processed 9216/199235 reviews. Time elapsed: 156.06s. Estimated time remaining: 3225.34s\n",
            "DEBUG - Processing batch starting at index 9216. Sample text: the time spent on this game lt...\n"
          ]
        },
        {
          "name": "stderr",
          "output_type": "stream",
          "text": [
            "\rProcessing Batches:   5%|▍         | 19/390 [02:45<54:26,  8.80s/batch]"
          ]
        },
        {
          "name": "stdout",
          "output_type": "stream",
          "text": [
            "DEBUG - Batch sample output: Sentiment: 1, Confidence: 0.99\n",
            "Processed 9728/199235 reviews. Time elapsed: 165.50s. Estimated time remaining: 3231.56s\n",
            "DEBUG - Processing batch starting at index 9728. Sample text: best game that ever was released on steam...\n"
          ]
        },
        {
          "name": "stderr",
          "output_type": "stream",
          "text": [
            "\rProcessing Batches:   5%|▌         | 20/390 [02:49<45:52,  7.44s/batch]"
          ]
        },
        {
          "name": "stdout",
          "output_type": "stream",
          "text": [
            "DEBUG - Batch sample output: Sentiment: 1, Confidence: 1.00\n",
            "Processed 10240/199235 reviews. Time elapsed: 169.75s. Estimated time remaining: 3140.46s\n",
            "DEBUG - Processing batch starting at index 10240. Sample text:   old but gold...\n"
          ]
        },
        {
          "name": "stderr",
          "output_type": "stream",
          "text": [
            "\rProcessing Batches:   5%|▌         | 21/390 [02:54<41:28,  6.74s/batch]"
          ]
        },
        {
          "name": "stdout",
          "output_type": "stream",
          "text": [
            "DEBUG - Batch sample output: Sentiment: 1, Confidence: 0.99\n",
            "Processed 10752/199235 reviews. Time elapsed: 174.87s. Estimated time remaining: 3072.79s\n",
            "DEBUG - Processing batch starting at index 10752. Sample text:   ...\n"
          ]
        },
        {
          "name": "stderr",
          "output_type": "stream",
          "text": [
            "\rProcessing Batches:   6%|▌         | 22/390 [02:57<33:55,  5.53s/batch]"
          ]
        },
        {
          "name": "stdout",
          "output_type": "stream",
          "text": [
            "DEBUG - Batch sample output: Sentiment: 1, Confidence: 0.85\n",
            "Processed 11264/199235 reviews. Time elapsed: 177.58s. Estimated time remaining: 2970.36s\n",
            "DEBUG - Processing batch starting at index 11264. Sample text: the original and the best one...\n"
          ]
        },
        {
          "name": "stderr",
          "output_type": "stream",
          "text": [
            "\rProcessing Batches:   6%|▌         | 23/390 [03:07<41:04,  6.72s/batch]"
          ]
        },
        {
          "name": "stdout",
          "output_type": "stream",
          "text": [
            "DEBUG - Batch sample output: Sentiment: 1, Confidence: 1.00\n",
            "Processed 11776/199235 reviews. Time elapsed: 187.06s. Estimated time remaining: 2984.79s\n",
            "DEBUG - Processing batch starting at index 11776. Sample text: what can i say about this game that already hasnt been said its great it has a decent price its high...\n"
          ]
        },
        {
          "name": "stderr",
          "output_type": "stream",
          "text": [
            "\rProcessing Batches:   6%|▌         | 24/390 [03:16<46:02,  7.55s/batch]"
          ]
        },
        {
          "name": "stdout",
          "output_type": "stream",
          "text": [
            "DEBUG - Batch sample output: Sentiment: 1, Confidence: 1.00\n",
            "Processed 12288/199235 reviews. Time elapsed: 196.54s. Estimated time remaining: 2997.28s\n",
            "DEBUG - Processing batch starting at index 12288. Sample text: one of the most hard games i ever played but its amazing ...\n"
          ]
        },
        {
          "name": "stderr",
          "output_type": "stream",
          "text": [
            "\rProcessing Batches:   6%|▋         | 25/390 [03:26<49:26,  8.13s/batch]"
          ]
        },
        {
          "name": "stdout",
          "output_type": "stream",
          "text": [
            "DEBUG - Batch sample output: Sentiment: 1, Confidence: 1.00\n",
            "Processed 12800/199235 reviews. Time elapsed: 206.02s. Estimated time remaining: 3007.96s\n",
            "DEBUG - Processing batch starting at index 12800. Sample text:  most adreniline pumping game i have ever played...\n"
          ]
        },
        {
          "name": "stderr",
          "output_type": "stream",
          "text": [
            "\rProcessing Batches:   7%|▋         | 26/390 [03:35<51:45,  8.53s/batch]"
          ]
        },
        {
          "name": "stdout",
          "output_type": "stream",
          "text": [
            "DEBUG - Batch sample output: Sentiment: 1, Confidence: 1.00\n",
            "Processed 13312/199235 reviews. Time elapsed: 215.50s. Estimated time remaining: 3017.04s\n",
            "DEBUG - Processing batch starting at index 13312. Sample text: got to gold in  days  ...\n"
          ]
        },
        {
          "name": "stderr",
          "output_type": "stream",
          "text": [
            "\rProcessing Batches:   7%|▋         | 27/390 [03:44<53:20,  8.82s/batch]"
          ]
        },
        {
          "name": "stdout",
          "output_type": "stream",
          "text": [
            "DEBUG - Batch sample output: Sentiment: 1, Confidence: 1.00\n",
            "Processed 13824/199235 reviews. Time elapsed: 224.98s. Estimated time remaining: 3024.75s\n",
            "DEBUG - Processing batch starting at index 13824. Sample text: best game ever love it so much d...\n"
          ]
        },
        {
          "name": "stderr",
          "output_type": "stream",
          "text": [
            "\rProcessing Batches:   7%|▋         | 28/390 [03:54<54:23,  9.02s/batch]"
          ]
        },
        {
          "name": "stdout",
          "output_type": "stream",
          "text": [
            "DEBUG - Batch sample output: Sentiment: 1, Confidence: 1.00\n",
            "Processed 14336/199235 reviews. Time elapsed: 234.46s. Estimated time remaining: 3031.29s\n",
            "DEBUG - Processing batch starting at index 14336. Sample text: jk rocket league is life...\n"
          ]
        },
        {
          "name": "stderr",
          "output_type": "stream",
          "text": [
            "\rProcessing Batches:   7%|▋         | 29/390 [04:03<55:05,  9.16s/batch]"
          ]
        },
        {
          "name": "stdout",
          "output_type": "stream",
          "text": [
            "DEBUG - Batch sample output: Sentiment: 1, Confidence: 0.99\n",
            "Processed 14848/199235 reviews. Time elapsed: 243.94s. Estimated time remaining: 3036.69s\n",
            "DEBUG - Processing batch starting at index 14848. Sample text: i hate sports and i love this game im terrible but when a game is this fun even when youre bad that ...\n"
          ]
        },
        {
          "name": "stderr",
          "output_type": "stream",
          "text": [
            "\rProcessing Batches:   8%|▊         | 30/390 [04:13<55:31,  9.26s/batch]"
          ]
        },
        {
          "name": "stdout",
          "output_type": "stream",
          "text": [
            "DEBUG - Batch sample output: Sentiment: 1, Confidence: 1.00\n",
            "Processed 15360/199235 reviews. Time elapsed: 253.43s. Estimated time remaining: 3041.19s\n",
            "DEBUG - Processing batch starting at index 15360. Sample text: simply fantastic this game has the community and support that every game wants the gameplay and aest...\n"
          ]
        },
        {
          "name": "stderr",
          "output_type": "stream",
          "text": [
            "\rProcessing Batches:   8%|▊         | 31/390 [04:22<54:30,  9.11s/batch]"
          ]
        },
        {
          "name": "stdout",
          "output_type": "stream",
          "text": [
            "DEBUG - Batch sample output: Sentiment: 1, Confidence: 1.00\n",
            "Processed 15872/199235 reviews. Time elapsed: 262.20s. Estimated time remaining: 3036.50s\n",
            "DEBUG - Processing batch starting at index 15872. Sample text: ok so umm this game sucks  but i recommond it to your mlg frins i mean umm know what this game sucks...\n"
          ]
        },
        {
          "name": "stderr",
          "output_type": "stream",
          "text": [
            "\rProcessing Batches:   8%|▊         | 32/390 [04:31<55:00,  9.22s/batch]"
          ]
        },
        {
          "name": "stdout",
          "output_type": "stream",
          "text": [
            "DEBUG - Batch sample output: Sentiment: 0, Confidence: 1.00\n",
            "Processed 16384/199235 reviews. Time elapsed: 271.68s. Estimated time remaining: 3039.43s\n",
            "DEBUG - Processing batch starting at index 16384. Sample text: what a game no bs all gameplay this is definitely one of the rare games that you can just pick up fo...\n"
          ]
        },
        {
          "name": "stderr",
          "output_type": "stream",
          "text": [
            "\rProcessing Batches:   8%|▊         | 33/390 [04:39<52:51,  8.88s/batch]"
          ]
        },
        {
          "name": "stdout",
          "output_type": "stream",
          "text": [
            "DEBUG - Batch sample output: Sentiment: 1, Confidence: 1.00\n",
            "Processed 16896/199235 reviews. Time elapsed: 279.78s. Estimated time remaining: 3026.75s\n",
            "DEBUG - Processing batch starting at index 16896. Sample text: i was doing a simple backward dodge and accidentally scored a goal   would do a simple backward dodg...\n"
          ]
        },
        {
          "name": "stderr",
          "output_type": "stream",
          "text": [
            "\rProcessing Batches:   9%|▊         | 34/390 [04:48<52:17,  8.81s/batch]"
          ]
        },
        {
          "name": "stdout",
          "output_type": "stream",
          "text": [
            "DEBUG - Batch sample output: Sentiment: 1, Confidence: 0.99\n",
            "Processed 17408/199235 reviews. Time elapsed: 288.43s. Estimated time remaining: 3020.02s\n",
            "DEBUG - Processing batch starting at index 17408. Sample text: this game is so friggin good its like fifa on wheels an absolute must buy...\n"
          ]
        },
        {
          "name": "stderr",
          "output_type": "stream",
          "text": [
            "\rProcessing Batches:   9%|▉         | 35/390 [04:54<46:35,  7.88s/batch]"
          ]
        },
        {
          "name": "stdout",
          "output_type": "stream",
          "text": [
            "DEBUG - Batch sample output: Sentiment: 1, Confidence: 1.00\n",
            "Processed 17920/199235 reviews. Time elapsed: 294.12s. Estimated time remaining: 2983.19s\n",
            "DEBUG - Processing batch starting at index 17920. Sample text: best game ever done good psyonix...\n"
          ]
        },
        {
          "name": "stderr",
          "output_type": "stream",
          "text": [
            "\rProcessing Batches:   9%|▉         | 36/390 [05:03<48:16,  8.18s/batch]"
          ]
        },
        {
          "name": "stdout",
          "output_type": "stream",
          "text": [
            "DEBUG - Batch sample output: Sentiment: 1, Confidence: 1.00\n",
            "Processed 18432/199235 reviews. Time elapsed: 303.02s. Estimated time remaining: 2979.67s\n",
            "DEBUG - Processing batch starting at index 18432. Sample text: game took me by suprise i hate sports games but soon as you add cars and physics im all in well wort...\n"
          ]
        },
        {
          "name": "stderr",
          "output_type": "stream",
          "text": [
            "\rProcessing Batches:   9%|▉         | 37/390 [05:12<50:25,  8.57s/batch]"
          ]
        },
        {
          "name": "stdout",
          "output_type": "stream",
          "text": [
            "DEBUG - Batch sample output: Sentiment: 1, Confidence: 1.00\n",
            "Processed 18944/199235 reviews. Time elapsed: 312.49s. Estimated time remaining: 2981.36s\n",
            "DEBUG - Processing batch starting at index 18944. Sample text: i recommend this game dd its awesome and good fun with friends d...\n"
          ]
        },
        {
          "name": "stderr",
          "output_type": "stream",
          "text": [
            "\rProcessing Batches:  10%|▉         | 38/390 [05:21<51:52,  8.84s/batch]"
          ]
        },
        {
          "name": "stdout",
          "output_type": "stream",
          "text": [
            "DEBUG - Batch sample output: Sentiment: 1, Confidence: 1.00\n",
            "Processed 19456/199235 reviews. Time elapsed: 321.97s. Estimated time remaining: 2982.47s\n",
            "DEBUG - Processing batch starting at index 19456. Sample text: such great fun to just drop in and out  easy to play difficult to master...\n"
          ]
        },
        {
          "name": "stderr",
          "output_type": "stream",
          "text": [
            "\rProcessing Batches:  10%|█         | 39/390 [05:31<52:52,  9.04s/batch]"
          ]
        },
        {
          "name": "stdout",
          "output_type": "stream",
          "text": [
            "DEBUG - Batch sample output: Sentiment: 1, Confidence: 1.00\n",
            "Processed 19968/199235 reviews. Time elapsed: 331.46s. Estimated time remaining: 2983.18s\n",
            "DEBUG - Processing batch starting at index 19968. Sample text: this game is honestly one of the best i have ever played it hooks you almost immediately and you jus...\n"
          ]
        },
        {
          "name": "stderr",
          "output_type": "stream",
          "text": [
            "\rProcessing Batches:  10%|█         | 40/390 [05:40<53:29,  9.17s/batch]"
          ]
        },
        {
          "name": "stdout",
          "output_type": "stream",
          "text": [
            "DEBUG - Batch sample output: Sentiment: 1, Confidence: 1.00\n",
            "Processed 20480/199235 reviews. Time elapsed: 340.94s. Estimated time remaining: 2983.24s\n",
            "DEBUG - Processing batch starting at index 20480. Sample text: cars and ing soccer...\n"
          ]
        },
        {
          "name": "stderr",
          "output_type": "stream",
          "text": [
            "\rProcessing Batches:  11%|█         | 41/390 [05:50<53:52,  9.26s/batch]"
          ]
        },
        {
          "name": "stdout",
          "output_type": "stream",
          "text": [
            "DEBUG - Batch sample output: Sentiment: 1, Confidence: 1.00\n",
            "Processed 20992/199235 reviews. Time elapsed: 350.42s. Estimated time remaining: 2982.83s\n",
            "DEBUG - Processing batch starting at index 20992. Sample text: gtbe me gttry rocket league during the free weekend gtplay game gtgets tons of lag gtquits match gti...\n"
          ]
        },
        {
          "name": "stderr",
          "output_type": "stream",
          "text": [
            "\rProcessing Batches:  11%|█         | 42/390 [05:59<54:05,  9.33s/batch]"
          ]
        },
        {
          "name": "stdout",
          "output_type": "stream",
          "text": [
            "DEBUG - Batch sample output: Sentiment: 0, Confidence: 1.00\n",
            "Processed 21504/199235 reviews. Time elapsed: 359.89s. Estimated time remaining: 2981.98s\n",
            "DEBUG - Processing batch starting at index 21504. Sample text: report system pls its fine if u give me two rookie teammate with all pro enermy but pls make sure th...\n"
          ]
        },
        {
          "name": "stderr",
          "output_type": "stream",
          "text": [
            "\rProcessing Batches:  11%|█         | 43/390 [06:09<54:12,  9.37s/batch]"
          ]
        },
        {
          "name": "stdout",
          "output_type": "stream",
          "text": [
            "DEBUG - Batch sample output: Sentiment: 0, Confidence: 1.00\n",
            "Processed 22016/199235 reviews. Time elapsed: 369.38s. Estimated time remaining: 2980.78s\n",
            "DEBUG - Processing batch starting at index 22016. Sample text: i feel like this game is very   fun    because all you do is    hit balls    thats it but not really...\n"
          ]
        },
        {
          "name": "stderr",
          "output_type": "stream",
          "text": [
            "\rProcessing Batches:  11%|█▏        | 44/390 [06:18<54:13,  9.40s/batch]"
          ]
        },
        {
          "name": "stdout",
          "output_type": "stream",
          "text": [
            "DEBUG - Batch sample output: Sentiment: 1, Confidence: 1.00\n",
            "Processed 22528/199235 reviews. Time elapsed: 378.85s. Estimated time remaining: 2979.17s\n",
            "DEBUG - Processing batch starting at index 22528. Sample text: nice pass wow wow wow nice shot defending nice pass  wow nice pass wow wow wow nice shot nice shot n...\n"
          ]
        },
        {
          "name": "stderr",
          "output_type": "stream",
          "text": [
            "\rProcessing Batches:  12%|█▏        | 45/390 [06:28<54:11,  9.43s/batch]"
          ]
        },
        {
          "name": "stdout",
          "output_type": "stream",
          "text": [
            "DEBUG - Batch sample output: Sentiment: 1, Confidence: 1.00\n",
            "Processed 23040/199235 reviews. Time elapsed: 388.33s. Estimated time remaining: 2977.20s\n",
            "DEBUG - Processing batch starting at index 23040. Sample text: write a review for rocket league...\n"
          ]
        },
        {
          "name": "stderr",
          "output_type": "stream",
          "text": [
            "\rProcessing Batches:  12%|█▏        | 46/390 [06:37<54:07,  9.44s/batch]"
          ]
        },
        {
          "name": "stdout",
          "output_type": "stream",
          "text": [
            "DEBUG - Batch sample output: Sentiment: 1, Confidence: 0.99\n",
            "Processed 23552/199235 reviews. Time elapsed: 397.81s. Estimated time remaining: 2974.91s\n",
            "DEBUG - Processing batch starting at index 23552. Sample text: i kept seeing all this gameplay from my friends and different youtubers that i follow and i thought ...\n"
          ]
        },
        {
          "name": "stderr",
          "output_type": "stream",
          "text": [
            "\rProcessing Batches:  12%|█▏        | 47/390 [06:47<54:02,  9.45s/batch]"
          ]
        },
        {
          "name": "stdout",
          "output_type": "stream",
          "text": [
            "DEBUG - Batch sample output: Sentiment: 1, Confidence: 1.00\n",
            "Processed 24064/199235 reviews. Time elapsed: 407.29s. Estimated time remaining: 2972.32s\n",
            "DEBUG - Processing batch starting at index 24064. Sample text: this game amazing crossplatform in one match wow just only think sonyboys which have ping  playing w...\n"
          ]
        },
        {
          "name": "stderr",
          "output_type": "stream",
          "text": [
            "\rProcessing Batches:  12%|█▏        | 48/390 [06:56<53:55,  9.46s/batch]"
          ]
        },
        {
          "name": "stdout",
          "output_type": "stream",
          "text": [
            "DEBUG - Batch sample output: Sentiment: 1, Confidence: 1.00\n",
            "Processed 24576/199235 reviews. Time elapsed: 416.77s. Estimated time remaining: 2969.45s\n",
            "DEBUG - Processing batch starting at index 24576. Sample text: fifa  cars  a adiction worse than nutella nothing else to be said...\n"
          ]
        },
        {
          "name": "stderr",
          "output_type": "stream",
          "text": [
            "\rProcessing Batches:  13%|█▎        | 49/390 [07:06<53:47,  9.47s/batch]"
          ]
        },
        {
          "name": "stdout",
          "output_type": "stream",
          "text": [
            "DEBUG - Batch sample output: Sentiment: 0, Confidence: 1.00\n",
            "Processed 25088/199235 reviews. Time elapsed: 426.24s. Estimated time remaining: 2966.30s\n",
            "DEBUG - Processing batch starting at index 25088. Sample text: i dont write many reviews but seriously this game is amazing its not techincally amazing like elder ...\n"
          ]
        },
        {
          "name": "stderr",
          "output_type": "stream",
          "text": [
            "\rProcessing Batches:  13%|█▎        | 50/390 [07:13<49:51,  8.80s/batch]"
          ]
        },
        {
          "name": "stdout",
          "output_type": "stream",
          "text": [
            "DEBUG - Batch sample output: Sentiment: 1, Confidence: 1.00\n",
            "Processed 25600/199235 reviews. Time elapsed: 433.49s. Estimated time remaining: 2947.70s\n",
            "DEBUG - Processing batch starting at index 25600. Sample text: why do i like this game so much dont even like car games or sports games but i cant stop playing thi...\n"
          ]
        },
        {
          "name": "stderr",
          "output_type": "stream",
          "text": [
            "\rProcessing Batches:  13%|█▎        | 51/390 [07:22<50:51,  9.00s/batch]"
          ]
        },
        {
          "name": "stdout",
          "output_type": "stream",
          "text": [
            "DEBUG - Batch sample output: Sentiment: 1, Confidence: 0.98\n",
            "Processed 26112/199235 reviews. Time elapsed: 442.96s. Estimated time remaining: 2944.39s\n",
            "DEBUG - Processing batch starting at index 26112. Sample text: one of the most addictive games...\n"
          ]
        },
        {
          "name": "stderr",
          "output_type": "stream",
          "text": [
            "\rProcessing Batches:  13%|█▎        | 52/390 [07:32<51:33,  9.15s/batch]"
          ]
        },
        {
          "name": "stdout",
          "output_type": "stream",
          "text": [
            "DEBUG - Batch sample output: Sentiment: 1, Confidence: 1.00\n",
            "Processed 26624/199235 reviews. Time elapsed: 452.46s. Estimated time remaining: 2941.02s\n",
            "DEBUG - Processing batch starting at index 26624. Sample text: first time i saw this game i toughtfootball with cars thats just stupid  dam that free weekend could...\n"
          ]
        },
        {
          "name": "stderr",
          "output_type": "stream",
          "text": [
            "\rProcessing Batches:  14%|█▎        | 53/390 [07:39<48:24,  8.62s/batch]"
          ]
        },
        {
          "name": "stdout",
          "output_type": "stream",
          "text": [
            "DEBUG - Batch sample output: Sentiment: 0, Confidence: 1.00\n",
            "Processed 27136/199235 reviews. Time elapsed: 459.83s. Estimated time remaining: 2923.85s\n",
            "DEBUG - Processing batch starting at index 27136. Sample text: its good...\n"
          ]
        },
        {
          "name": "stderr",
          "output_type": "stream",
          "text": [
            "\rProcessing Batches:  14%|█▍        | 54/390 [07:48<47:34,  8.50s/batch]"
          ]
        },
        {
          "name": "stdout",
          "output_type": "stream",
          "text": [
            "DEBUG - Batch sample output: Sentiment: 1, Confidence: 1.00\n",
            "Processed 27648/199235 reviews. Time elapsed: 468.05s. Estimated time remaining: 2912.30s\n",
            "DEBUG - Processing batch starting at index 27648. Sample text: the best pure skill competitive game i have ever played...\n"
          ]
        },
        {
          "name": "stderr",
          "output_type": "stream",
          "text": [
            "\rProcessing Batches:  14%|█▍        | 55/390 [07:57<49:04,  8.79s/batch]"
          ]
        },
        {
          "name": "stdout",
          "output_type": "stream",
          "text": [
            "DEBUG - Batch sample output: Sentiment: 1, Confidence: 1.00\n",
            "Processed 28160/199235 reviews. Time elapsed: 477.53s. Estimated time remaining: 2908.57s\n",
            "DEBUG - Processing batch starting at index 28160. Sample text: was it bad  no   was it good  kinda  was it good enough to reccomend  yes it was indeed fabolous  wo...\n"
          ]
        },
        {
          "name": "stderr",
          "output_type": "stream",
          "text": [
            "\rProcessing Batches:  14%|█▍        | 56/390 [08:06<49:09,  8.83s/batch]"
          ]
        },
        {
          "name": "stdout",
          "output_type": "stream",
          "text": [
            "DEBUG - Batch sample output: Sentiment: 1, Confidence: 1.00\n",
            "Processed 28672/199235 reviews. Time elapsed: 486.45s. Estimated time remaining: 2901.30s\n",
            "DEBUG - Processing batch starting at index 28672. Sample text:  my personal review for this game   ...\n"
          ]
        },
        {
          "name": "stderr",
          "output_type": "stream",
          "text": [
            "\rProcessing Batches:  15%|█▍        | 57/390 [08:15<50:04,  9.02s/batch]"
          ]
        },
        {
          "name": "stdout",
          "output_type": "stream",
          "text": [
            "DEBUG - Batch sample output: Sentiment: 1, Confidence: 0.99\n",
            "Processed 29184/199235 reviews. Time elapsed: 495.92s. Estimated time remaining: 2897.22s\n",
            "DEBUG - Processing batch starting at index 29184. Sample text: games pretty decent id recommend it if youre a fan of soccer ...\n"
          ]
        },
        {
          "name": "stderr",
          "output_type": "stream",
          "text": [
            "\rProcessing Batches:  15%|█▍        | 58/390 [08:25<50:40,  9.16s/batch]"
          ]
        },
        {
          "name": "stdout",
          "output_type": "stream",
          "text": [
            "DEBUG - Batch sample output: Sentiment: 1, Confidence: 1.00\n",
            "Processed 29696/199235 reviews. Time elapsed: 505.39s. Estimated time remaining: 2892.94s\n",
            "DEBUG - Processing batch starting at index 29696. Sample text: this game is so fun i was hesitant at first because i would just watch my roommate lose every game b...\n"
          ]
        },
        {
          "name": "stderr",
          "output_type": "stream",
          "text": [
            "\rProcessing Batches:  15%|█▌        | 59/390 [08:34<51:02,  9.25s/batch]"
          ]
        },
        {
          "name": "stdout",
          "output_type": "stream",
          "text": [
            "DEBUG - Batch sample output: Sentiment: 1, Confidence: 1.00\n",
            "Processed 30208/199235 reviews. Time elapsed: 514.87s. Estimated time remaining: 2888.51s\n",
            "DEBUG - Processing batch starting at index 30208. Sample text: best game tons of fun...\n"
          ]
        },
        {
          "name": "stderr",
          "output_type": "stream",
          "text": [
            "\rProcessing Batches:  15%|█▌        | 60/390 [08:44<51:17,  9.33s/batch]"
          ]
        },
        {
          "name": "stdout",
          "output_type": "stream",
          "text": [
            "DEBUG - Batch sample output: Sentiment: 1, Confidence: 1.00\n",
            "Processed 30720/199235 reviews. Time elapsed: 524.37s. Estimated time remaining: 2884.02s\n",
            "DEBUG - Processing batch starting at index 30720. Sample text: so here is the deal i dont care for onlinee multi competative play cars sports     this game changed...\n"
          ]
        },
        {
          "name": "stderr",
          "output_type": "stream",
          "text": [
            "\rProcessing Batches:  16%|█▌        | 61/390 [08:53<51:23,  9.37s/batch]"
          ]
        },
        {
          "name": "stdout",
          "output_type": "stream",
          "text": [
            "DEBUG - Batch sample output: Sentiment: 1, Confidence: 1.00\n",
            "Processed 31232/199235 reviews. Time elapsed: 533.84s. Estimated time remaining: 2879.25s\n",
            "DEBUG - Processing batch starting at index 31232. Sample text: how do you update rocket league it says theirs a problem with is and it stops working i think it may...\n"
          ]
        },
        {
          "name": "stderr",
          "output_type": "stream",
          "text": [
            "\rProcessing Batches:  16%|█▌        | 62/390 [09:03<51:24,  9.40s/batch]"
          ]
        },
        {
          "name": "stdout",
          "output_type": "stream",
          "text": [
            "DEBUG - Batch sample output: Sentiment: 0, Confidence: 1.00\n",
            "Processed 31744/199235 reviews. Time elapsed: 543.32s. Estimated time remaining: 2874.34s\n",
            "DEBUG - Processing batch starting at index 31744. Sample text: it is really laggy for my computer please help staff...\n"
          ]
        },
        {
          "name": "stderr",
          "output_type": "stream",
          "text": [
            "\rProcessing Batches:  16%|█▌        | 63/390 [09:12<51:22,  9.43s/batch]"
          ]
        },
        {
          "name": "stdout",
          "output_type": "stream",
          "text": [
            "DEBUG - Batch sample output: Sentiment: 0, Confidence: 1.00\n",
            "Processed 32256/199235 reviews. Time elapsed: 552.80s. Estimated time remaining: 2869.30s\n",
            "DEBUG - Processing batch starting at index 32256. Sample text: rocket league is thirty minutes of fun for twenty dollars id say the same with goat simulator except...\n"
          ]
        },
        {
          "name": "stderr",
          "output_type": "stream",
          "text": [
            "\rProcessing Batches:  16%|█▋        | 64/390 [09:22<51:18,  9.44s/batch]"
          ]
        },
        {
          "name": "stdout",
          "output_type": "stream",
          "text": [
            "DEBUG - Batch sample output: Sentiment: 0, Confidence: 1.00\n",
            "Processed 32768/199235 reviews. Time elapsed: 562.29s. Estimated time remaining: 2864.14s\n",
            "DEBUG - Processing batch starting at index 32768. Sample text: crap game not worth the money...\n"
          ]
        },
        {
          "name": "stderr",
          "output_type": "stream",
          "text": [
            "\rProcessing Batches:  17%|█▋        | 65/390 [09:31<51:12,  9.45s/batch]"
          ]
        },
        {
          "name": "stdout",
          "output_type": "stream",
          "text": [
            "DEBUG - Batch sample output: Sentiment: 0, Confidence: 1.00\n",
            "Processed 33280/199235 reviews. Time elapsed: 571.77s. Estimated time remaining: 2858.83s\n",
            "DEBUG - Processing batch starting at index 33280. Sample text: this stupid game cant let u play a game with a local pc just like warcraft  i cant imagine how the d...\n"
          ]
        },
        {
          "name": "stderr",
          "output_type": "stream",
          "text": [
            "\rProcessing Batches:  17%|█▋        | 66/390 [09:39<48:34,  9.00s/batch]"
          ]
        },
        {
          "name": "stdout",
          "output_type": "stream",
          "text": [
            "DEBUG - Batch sample output: Sentiment: 0, Confidence: 1.00\n",
            "Processed 33792/199235 reviews. Time elapsed: 579.69s. Estimated time remaining: 2845.76s\n",
            "DEBUG - Processing batch starting at index 33792. Sample text: love them hats...\n"
          ]
        },
        {
          "name": "stderr",
          "output_type": "stream",
          "text": [
            "\rProcessing Batches:  17%|█▋        | 67/390 [09:46<45:27,  8.44s/batch]"
          ]
        },
        {
          "name": "stdout",
          "output_type": "stream",
          "text": [
            "DEBUG - Batch sample output: Sentiment: 1, Confidence: 1.00\n",
            "Processed 34304/199235 reviews. Time elapsed: 586.84s. Estimated time remaining: 2829.11s\n",
            "DEBUG - Processing batch starting at index 34304. Sample text: so this game one word amazing this game is a cross between mario kart carmageddon with a slash of fo...\n"
          ]
        },
        {
          "name": "stderr",
          "output_type": "stream",
          "text": [
            "\rProcessing Batches:  17%|█▋        | 68/390 [09:54<43:17,  8.07s/batch]"
          ]
        },
        {
          "name": "stdout",
          "output_type": "stream",
          "text": [
            "DEBUG - Batch sample output: Sentiment: 1, Confidence: 1.00\n",
            "Processed 34816/199235 reviews. Time elapsed: 594.03s. Estimated time remaining: 2812.90s\n",
            "DEBUG - Processing batch starting at index 34816. Sample text: this game is a very good game i love the controls and the graphics this game is pretty easy to run o...\n"
          ]
        },
        {
          "name": "stderr",
          "output_type": "stream",
          "text": [
            "\rProcessing Batches:  18%|█▊        | 69/390 [10:03<45:25,  8.49s/batch]"
          ]
        },
        {
          "name": "stdout",
          "output_type": "stream",
          "text": [
            "DEBUG - Batch sample output: Sentiment: 1, Confidence: 1.00\n",
            "Processed 35328/199235 reviews. Time elapsed: 603.51s. Estimated time remaining: 2807.64s\n",
            "DEBUG - Processing batch starting at index 35328. Sample text: so much fun great community...\n"
          ]
        },
        {
          "name": "stderr",
          "output_type": "stream",
          "text": [
            "\rProcessing Batches:  18%|█▊        | 70/390 [10:12<45:57,  8.62s/batch]"
          ]
        },
        {
          "name": "stdout",
          "output_type": "stream",
          "text": [
            "DEBUG - Batch sample output: Sentiment: 1, Confidence: 1.00\n",
            "Processed 35840/199235 reviews. Time elapsed: 612.42s. Estimated time remaining: 2799.64s\n",
            "DEBUG - Processing batch starting at index 35840. Sample text: absolutely worth the money so much fun for very little price...\n"
          ]
        },
        {
          "name": "stderr",
          "output_type": "stream",
          "text": [
            "\rProcessing Batches:  18%|█▊        | 71/390 [10:21<47:11,  8.87s/batch]"
          ]
        },
        {
          "name": "stdout",
          "output_type": "stream",
          "text": [
            "DEBUG - Batch sample output: Sentiment: 1, Confidence: 1.00\n",
            "Processed 36352/199235 reviews. Time elapsed: 621.90s. Estimated time remaining: 2794.16s\n",
            "DEBUG - Processing batch starting at index 36352. Sample text: on paper the concept sounds boring in reality the gameplay is amazing at first i wasnt really intere...\n"
          ]
        },
        {
          "name": "stderr",
          "output_type": "stream",
          "text": [
            "\rProcessing Batches:  18%|█▊        | 72/390 [10:31<47:59,  9.06s/batch]"
          ]
        },
        {
          "name": "stdout",
          "output_type": "stream",
          "text": [
            "DEBUG - Batch sample output: Sentiment: 1, Confidence: 1.00\n",
            "Processed 36864/199235 reviews. Time elapsed: 631.38s. Estimated time remaining: 2788.58s\n",
            "DEBUG - Processing batch starting at index 36864. Sample text: pure fun even if youre a noob at it like me a good change of pace of the stressful life of csgo...\n"
          ]
        },
        {
          "name": "stderr",
          "output_type": "stream",
          "text": [
            "\rProcessing Batches:  19%|█▊        | 73/390 [10:40<48:30,  9.18s/batch]"
          ]
        },
        {
          "name": "stdout",
          "output_type": "stream",
          "text": [
            "DEBUG - Batch sample output: Sentiment: 1, Confidence: 1.00\n",
            "Processed 37376/199235 reviews. Time elapsed: 640.85s. Estimated time remaining: 2782.87s\n",
            "DEBUG - Processing batch starting at index 37376. Sample text: fun game but will make you really salty at times...\n"
          ]
        },
        {
          "name": "stderr",
          "output_type": "stream",
          "text": [
            "\rProcessing Batches:  19%|█▉        | 74/390 [10:47<44:36,  8.47s/batch]"
          ]
        },
        {
          "name": "stdout",
          "output_type": "stream",
          "text": [
            "DEBUG - Batch sample output: Sentiment: 1, Confidence: 1.00\n",
            "Processed 37888/199235 reviews. Time elapsed: 647.67s. Estimated time remaining: 2765.71s\n",
            "DEBUG - Processing batch starting at index 37888. Sample text: my hours say enough...\n"
          ]
        },
        {
          "name": "stderr",
          "output_type": "stream",
          "text": [
            "\rProcessing Batches:  19%|█▉        | 75/390 [10:57<46:03,  8.77s/batch]"
          ]
        },
        {
          "name": "stdout",
          "output_type": "stream",
          "text": [
            "DEBUG - Batch sample output: Sentiment: 1, Confidence: 1.00\n",
            "Processed 38400/199235 reviews. Time elapsed: 657.14s. Estimated time remaining: 2759.98s\n",
            "DEBUG - Processing batch starting at index 38400. Sample text: played  minutes for fun then grabbed a bite came back to play a little before sleepinghow it became ...\n"
          ]
        },
        {
          "name": "stderr",
          "output_type": "stream",
          "text": [
            "\rProcessing Batches:  19%|█▉        | 76/390 [11:06<47:00,  8.98s/batch]"
          ]
        },
        {
          "name": "stdout",
          "output_type": "stream",
          "text": [
            "DEBUG - Batch sample output: Sentiment: 0, Confidence: 1.00\n",
            "Processed 38912/199235 reviews. Time elapsed: 666.61s. Estimated time remaining: 2754.17s\n",
            "DEBUG - Processing batch starting at index 38912. Sample text: awesome and very addictive game drink some beers to get you in the mood to score some goals...\n"
          ]
        },
        {
          "name": "stderr",
          "output_type": "stream",
          "text": [
            "\rProcessing Batches:  20%|█▉        | 77/390 [11:16<47:37,  9.13s/batch]"
          ]
        },
        {
          "name": "stdout",
          "output_type": "stream",
          "text": [
            "DEBUG - Batch sample output: Sentiment: 1, Confidence: 1.00\n",
            "Processed 39424/199235 reviews. Time elapsed: 676.09s. Estimated time remaining: 2748.26s\n",
            "DEBUG - Processing batch starting at index 39424. Sample text: after  hours this game is dank...\n"
          ]
        },
        {
          "name": "stderr",
          "output_type": "stream",
          "text": [
            "\rProcessing Batches:  20%|██        | 78/390 [11:25<47:30,  9.14s/batch]"
          ]
        },
        {
          "name": "stdout",
          "output_type": "stream",
          "text": [
            "DEBUG - Batch sample output: Sentiment: 0, Confidence: 1.00\n",
            "Processed 39936/199235 reviews. Time elapsed: 685.24s. Estimated time remaining: 2740.95s\n",
            "DEBUG - Processing batch starting at index 39936. Sample text: soccer with cars sounds really boring but turns out to be one of the best ideas ever made wich a bir...\n"
          ]
        },
        {
          "name": "stderr",
          "output_type": "stream",
          "text": [
            "\rProcessing Batches:  20%|██        | 79/390 [11:32<43:47,  8.45s/batch]"
          ]
        },
        {
          "name": "stdout",
          "output_type": "stream",
          "text": [
            "DEBUG - Batch sample output: Sentiment: 1, Confidence: 1.00\n",
            "Processed 40448/199235 reviews. Time elapsed: 692.08s. Estimated time remaining: 2724.51s\n",
            "DEBUG - Processing batch starting at index 40448. Sample text: holy  just get this game now i waited for linux support and it was totally worth the wait its so add...\n"
          ]
        },
        {
          "name": "stderr",
          "output_type": "stream",
          "text": [
            "\rProcessing Batches:  21%|██        | 80/390 [11:37<38:53,  7.53s/batch]"
          ]
        },
        {
          "name": "stdout",
          "output_type": "stream",
          "text": [
            "DEBUG - Batch sample output: Sentiment: 1, Confidence: 1.00\n",
            "Processed 40960/199235 reviews. Time elapsed: 697.46s. Estimated time remaining: 2702.66s\n",
            "DEBUG - Processing batch starting at index 40960. Sample text: cant run it anymore  ...\n"
          ]
        },
        {
          "name": "stderr",
          "output_type": "stream",
          "text": [
            "\rProcessing Batches:  21%|██        | 81/390 [11:46<41:46,  8.11s/batch]"
          ]
        },
        {
          "name": "stdout",
          "output_type": "stream",
          "text": [
            "DEBUG - Batch sample output: Sentiment: 0, Confidence: 1.00\n",
            "Processed 41472/199235 reviews. Time elapsed: 706.93s. Estimated time remaining: 2696.81s\n",
            "DEBUG - Processing batch starting at index 41472. Sample text: just one more match i said  its am my mom said...\n"
          ]
        },
        {
          "name": "stderr",
          "output_type": "stream",
          "text": [
            "\rProcessing Batches:  21%|██        | 82/390 [11:56<43:44,  8.52s/batch]"
          ]
        },
        {
          "name": "stdout",
          "output_type": "stream",
          "text": [
            "DEBUG - Batch sample output: Sentiment: 1, Confidence: 0.99\n",
            "Processed 41984/199235 reviews. Time elapsed: 716.41s. Estimated time remaining: 2690.90s\n",
            "DEBUG - Processing batch starting at index 41984. Sample text: i edit my review if you arent a cynic then this game can be fun  i enjoy playing this game with my f...\n"
          ]
        },
        {
          "name": "stderr",
          "output_type": "stream",
          "text": [
            "\rProcessing Batches:  21%|██▏       | 83/390 [12:05<45:03,  8.81s/batch]"
          ]
        },
        {
          "name": "stdout",
          "output_type": "stream",
          "text": [
            "DEBUG - Batch sample output: Sentiment: 1, Confidence: 1.00\n",
            "Processed 42496/199235 reviews. Time elapsed: 725.88s. Estimated time remaining: 2684.88s\n",
            "DEBUG - Processing batch starting at index 42496. Sample text: this game continues to be fun and i keep coming back to it...\n"
          ]
        },
        {
          "name": "stderr",
          "output_type": "stream",
          "text": [
            "\rProcessing Batches:  22%|██▏       | 84/390 [12:15<45:55,  9.01s/batch]"
          ]
        },
        {
          "name": "stdout",
          "output_type": "stream",
          "text": [
            "DEBUG - Batch sample output: Sentiment: 1, Confidence: 1.00\n",
            "Processed 43008/199235 reviews. Time elapsed: 735.35s. Estimated time remaining: 2678.79s\n",
            "DEBUG - Processing batch starting at index 43008. Sample text: just incredible...\n"
          ]
        },
        {
          "name": "stderr",
          "output_type": "stream",
          "text": [
            "\rProcessing Batches:  22%|██▏       | 85/390 [12:20<39:31,  7.77s/batch]"
          ]
        },
        {
          "name": "stdout",
          "output_type": "stream",
          "text": [
            "DEBUG - Batch sample output: Sentiment: 1, Confidence: 1.00\n",
            "Processed 43520/199235 reviews. Time elapsed: 740.25s. Estimated time remaining: 2656.20s\n",
            "DEBUG - Processing batch starting at index 43520. Sample text: hello there you are problably looking to get this game i can help you decide this game is really aws...\n"
          ]
        },
        {
          "name": "stderr",
          "output_type": "stream",
          "text": [
            "\rProcessing Batches:  22%|██▏       | 86/390 [12:29<41:58,  8.28s/batch]"
          ]
        },
        {
          "name": "stdout",
          "output_type": "stream",
          "text": [
            "DEBUG - Batch sample output: Sentiment: 1, Confidence: 1.00\n",
            "Processed 44032/199235 reviews. Time elapsed: 749.72s. Estimated time remaining: 2650.19s\n",
            "DEBUG - Processing batch starting at index 44032. Sample text: loads of fun better with friends  out of ...\n"
          ]
        },
        {
          "name": "stderr",
          "output_type": "stream",
          "text": [
            "\rProcessing Batches:  22%|██▏       | 87/390 [12:37<41:17,  8.18s/batch]"
          ]
        },
        {
          "name": "stdout",
          "output_type": "stream",
          "text": [
            "DEBUG - Batch sample output: Sentiment: 1, Confidence: 1.00\n",
            "Processed 44544/199235 reviews. Time elapsed: 757.65s. Estimated time remaining: 2638.72s\n",
            "DEBUG - Processing batch starting at index 44544. Sample text: fast paced exciting and fun ...\n"
          ]
        },
        {
          "name": "stderr",
          "output_type": "stream",
          "text": [
            "\rProcessing Batches:  23%|██▎       | 88/390 [12:47<43:34,  8.66s/batch]"
          ]
        },
        {
          "name": "stdout",
          "output_type": "stream",
          "text": [
            "DEBUG - Batch sample output: Sentiment: 1, Confidence: 1.00\n",
            "Processed 45056/199235 reviews. Time elapsed: 767.43s. Estimated time remaining: 2633.67s\n",
            "DEBUG - Processing batch starting at index 45056. Sample text: loving it...\n"
          ]
        },
        {
          "name": "stderr",
          "output_type": "stream",
          "text": [
            "\rProcessing Batches:  23%|██▎       | 89/390 [12:54<40:49,  8.14s/batch]"
          ]
        },
        {
          "name": "stdout",
          "output_type": "stream",
          "text": [
            "DEBUG - Batch sample output: Sentiment: 1, Confidence: 1.00\n",
            "Processed 45568/199235 reviews. Time elapsed: 774.36s. Estimated time remaining: 2618.90s\n",
            "DEBUG - Processing batch starting at index 45568. Sample text: if you like football and you like cars then you have found your game imagine playing football withou...\n"
          ]
        },
        {
          "name": "stderr",
          "output_type": "stream",
          "text": [
            "\rProcessing Batches:  23%|██▎       | 90/390 [13:03<42:41,  8.54s/batch]"
          ]
        },
        {
          "name": "stdout",
          "output_type": "stream",
          "text": [
            "DEBUG - Batch sample output: Sentiment: 1, Confidence: 1.00\n",
            "Processed 46080/199235 reviews. Time elapsed: 783.83s. Estimated time remaining: 2612.77s\n",
            "DEBUG - Processing batch starting at index 46080. Sample text: finally got my controller to work and the game is a blast kbm controlls dont do game justice...\n"
          ]
        },
        {
          "name": "stderr",
          "output_type": "stream",
          "text": [
            "\rProcessing Batches:  23%|██▎       | 91/390 [13:11<41:51,  8.40s/batch]"
          ]
        },
        {
          "name": "stdout",
          "output_type": "stream",
          "text": [
            "DEBUG - Batch sample output: Sentiment: 1, Confidence: 1.00\n",
            "Processed 46592/199235 reviews. Time elapsed: 791.90s. Estimated time remaining: 2601.96s\n",
            "DEBUG - Processing batch starting at index 46592. Sample text: there are few games that bring out such a visceral primal feeling of rage and sense of competition i...\n"
          ]
        },
        {
          "name": "stderr",
          "output_type": "stream",
          "text": [
            "\rProcessing Batches:  24%|██▎       | 92/390 [13:21<43:18,  8.72s/batch]"
          ]
        },
        {
          "name": "stdout",
          "output_type": "stream",
          "text": [
            "DEBUG - Batch sample output: Sentiment: 0, Confidence: 1.00\n",
            "Processed 47104/199235 reviews. Time elapsed: 801.37s. Estimated time remaining: 2595.75s\n",
            "DEBUG - Processing batch starting at index 47104. Sample text: i love this game because off yair the king of turtles...\n"
          ]
        },
        {
          "name": "stderr",
          "output_type": "stream",
          "text": [
            "\rProcessing Batches:  24%|██▍       | 93/390 [13:30<44:17,  8.95s/batch]"
          ]
        },
        {
          "name": "stdout",
          "output_type": "stream",
          "text": [
            "DEBUG - Batch sample output: Sentiment: 1, Confidence: 1.00\n",
            "Processed 47616/199235 reviews. Time elapsed: 810.85s. Estimated time remaining: 2589.48s\n",
            "DEBUG - Processing batch starting at index 47616. Sample text: didnt think football with cars would be this fun it is...\n"
          ]
        },
        {
          "name": "stderr",
          "output_type": "stream",
          "text": [
            "\rProcessing Batches:  24%|██▍       | 94/390 [13:39<44:19,  8.98s/batch]"
          ]
        },
        {
          "name": "stdout",
          "output_type": "stream",
          "text": [
            "DEBUG - Batch sample output: Sentiment: 1, Confidence: 1.00\n",
            "Processed 48128/199235 reviews. Time elapsed: 819.92s. Estimated time remaining: 2581.87s\n",
            "DEBUG - Processing batch starting at index 48128. Sample text: this game is worth every nickel of the measly  bucks they charge the game seems simple enough but it...\n"
          ]
        },
        {
          "name": "stderr",
          "output_type": "stream",
          "text": [
            "\rProcessing Batches:  24%|██▍       | 95/390 [13:49<44:53,  9.13s/batch]"
          ]
        },
        {
          "name": "stdout",
          "output_type": "stream",
          "text": [
            "DEBUG - Batch sample output: Sentiment: 1, Confidence: 1.00\n",
            "Processed 48640/199235 reviews. Time elapsed: 829.39s. Estimated time remaining: 2575.49s\n",
            "DEBUG - Processing batch starting at index 48640. Sample text: very fun a must have if youn like alot of chaos...\n"
          ]
        },
        {
          "name": "stderr",
          "output_type": "stream",
          "text": [
            "\rProcessing Batches:  25%|██▍       | 96/390 [13:58<45:14,  9.23s/batch]"
          ]
        },
        {
          "name": "stdout",
          "output_type": "stream",
          "text": [
            "DEBUG - Batch sample output: Sentiment: 1, Confidence: 1.00\n",
            "Processed 49152/199235 reviews. Time elapsed: 838.87s. Estimated time remaining: 2569.04s\n",
            "DEBUG - Processing batch starting at index 49152. Sample text: i love this game sometimes getting matched against pros and veterans really sucks since im still rel...\n"
          ]
        },
        {
          "name": "stderr",
          "output_type": "stream",
          "text": [
            "\rProcessing Batches:  25%|██▍       | 97/390 [14:08<45:26,  9.31s/batch]"
          ]
        },
        {
          "name": "stdout",
          "output_type": "stream",
          "text": [
            "DEBUG - Batch sample output: Sentiment: 1, Confidence: 1.00\n",
            "Processed 49664/199235 reviews. Time elapsed: 848.34s. Estimated time remaining: 2562.52s\n",
            "DEBUG - Processing batch starting at index 49664. Sample text:  would score again...\n"
          ]
        },
        {
          "name": "stderr",
          "output_type": "stream",
          "text": [
            "\rProcessing Batches:  25%|██▌       | 98/390 [14:17<45:32,  9.36s/batch]"
          ]
        },
        {
          "name": "stdout",
          "output_type": "stream",
          "text": [
            "DEBUG - Batch sample output: Sentiment: 1, Confidence: 1.00\n",
            "Processed 50176/199235 reviews. Time elapsed: 857.82s. Estimated time remaining: 2555.96s\n",
            "DEBUG - Processing batch starting at index 50176. Sample text: pretty fun and entertaining game i dont take it as serious as you can or some others do and i still ...\n"
          ]
        },
        {
          "name": "stderr",
          "output_type": "stream",
          "text": [
            "\rProcessing Batches:  25%|██▌       | 99/390 [14:27<45:33,  9.39s/batch]"
          ]
        },
        {
          "name": "stdout",
          "output_type": "stream",
          "text": [
            "DEBUG - Batch sample output: Sentiment: 1, Confidence: 1.00\n",
            "Processed 50688/199235 reviews. Time elapsed: 867.29s. Estimated time remaining: 2549.32s\n",
            "DEBUG - Processing batch starting at index 50688. Sample text: great game i have over  hours on this game and still never get bored or tired of it always adding ne...\n"
          ]
        },
        {
          "name": "stderr",
          "output_type": "stream",
          "text": [
            "\rProcessing Batches:  26%|██▌       | 100/390 [14:36<45:31,  9.42s/batch]"
          ]
        },
        {
          "name": "stdout",
          "output_type": "stream",
          "text": [
            "DEBUG - Batch sample output: Sentiment: 1, Confidence: 1.00\n",
            "Processed 51200/199235 reviews. Time elapsed: 876.77s. Estimated time remaining: 2542.64s\n",
            "DEBUG - Processing batch starting at index 51200. Sample text: just learned how to aerial effectively    would play  hours again and again...\n"
          ]
        },
        {
          "name": "stderr",
          "output_type": "stream",
          "text": [
            "\rProcessing Batches:  26%|██▌       | 101/390 [14:44<42:50,  8.90s/batch]"
          ]
        },
        {
          "name": "stdout",
          "output_type": "stream",
          "text": [
            "DEBUG - Batch sample output: Sentiment: 1, Confidence: 1.00\n",
            "Processed 51712/199235 reviews. Time elapsed: 884.45s. Estimated time remaining: 2530.75s\n",
            "DEBUG - Processing batch starting at index 51712. Sample text: hours of fun...\n"
          ]
        },
        {
          "name": "stderr",
          "output_type": "stream",
          "text": [
            "\rProcessing Batches:  26%|██▌       | 102/390 [14:53<42:30,  8.86s/batch]"
          ]
        },
        {
          "name": "stdout",
          "output_type": "stream",
          "text": [
            "DEBUG - Batch sample output: Sentiment: 1, Confidence: 1.00\n",
            "Processed 52224/199235 reviews. Time elapsed: 893.21s. Estimated time remaining: 2522.00s\n",
            "DEBUG - Processing batch starting at index 52224. Sample text: it has soccer it has cars with ing rockets  basicly it is mens dream game...\n"
          ]
        },
        {
          "name": "stderr",
          "output_type": "stream",
          "text": [
            "\rProcessing Batches:  26%|██▋       | 103/390 [15:02<43:14,  9.04s/batch]"
          ]
        },
        {
          "name": "stdout",
          "output_type": "stream",
          "text": [
            "DEBUG - Batch sample output: Sentiment: 1, Confidence: 1.00\n",
            "Processed 52736/199235 reviews. Time elapsed: 902.68s. Estimated time remaining: 2515.25s\n",
            "DEBUG - Processing batch starting at index 52736. Sample text: one of the most entertaining games ever made very fleshed out and is just brilliant to play with fri...\n"
          ]
        },
        {
          "name": "stderr",
          "output_type": "stream",
          "text": [
            "\rProcessing Batches:  27%|██▋       | 104/390 [15:12<43:43,  9.17s/batch]"
          ]
        },
        {
          "name": "stdout",
          "output_type": "stream",
          "text": [
            "DEBUG - Batch sample output: Sentiment: 1, Confidence: 1.00\n",
            "Processed 53248/199235 reviews. Time elapsed: 912.16s. Estimated time remaining: 2508.45s\n",
            "DEBUG - Processing batch starting at index 53248. Sample text:   get wery emotional about this game sadnes madnes happy some times...\n"
          ]
        },
        {
          "name": "stderr",
          "output_type": "stream",
          "text": [
            "\rProcessing Batches:  27%|██▋       | 105/390 [15:20<42:48,  9.01s/batch]"
          ]
        },
        {
          "name": "stdout",
          "output_type": "stream",
          "text": [
            "DEBUG - Batch sample output: Sentiment: 1, Confidence: 1.00\n",
            "Processed 53760/199235 reviews. Time elapsed: 920.81s. Estimated time remaining: 2499.33s\n",
            "DEBUG - Processing batch starting at index 53760. Sample text: fun and challenging...\n"
          ]
        },
        {
          "name": "stderr",
          "output_type": "stream",
          "text": [
            "\rProcessing Batches:  27%|██▋       | 106/390 [15:30<43:19,  9.15s/batch]"
          ]
        },
        {
          "name": "stdout",
          "output_type": "stream",
          "text": [
            "DEBUG - Batch sample output: Sentiment: 1, Confidence: 1.00\n",
            "Processed 54272/199235 reviews. Time elapsed: 930.28s. Estimated time remaining: 2492.45s\n",
            "DEBUG - Processing batch starting at index 54272. Sample text: great game super fun and competitive play really adviced...\n"
          ]
        },
        {
          "name": "stderr",
          "output_type": "stream",
          "text": [
            "\rProcessing Batches:  27%|██▋       | 107/390 [15:37<40:21,  8.56s/batch]"
          ]
        },
        {
          "name": "stdout",
          "output_type": "stream",
          "text": [
            "DEBUG - Batch sample output: Sentiment: 1, Confidence: 1.00\n",
            "Processed 54784/199235 reviews. Time elapsed: 937.45s. Estimated time remaining: 2479.41s\n",
            "DEBUG - Processing batch starting at index 54784. Sample text: sick game son...\n"
          ]
        },
        {
          "name": "stderr",
          "output_type": "stream",
          "text": [
            "\rProcessing Batches:  28%|██▊       | 108/390 [15:44<37:45,  8.03s/batch]"
          ]
        },
        {
          "name": "stdout",
          "output_type": "stream",
          "text": [
            "DEBUG - Batch sample output: Sentiment: 0, Confidence: 1.00\n",
            "Processed 55296/199235 reviews. Time elapsed: 944.26s. Estimated time remaining: 2465.56s\n",
            "DEBUG - Processing batch starting at index 55296. Sample text:   im tired of playing fifa  and i over to rocket league d...\n"
          ]
        },
        {
          "name": "stderr",
          "output_type": "stream",
          "text": [
            "\rProcessing Batches:  28%|██▊       | 109/390 [15:53<39:38,  8.46s/batch]"
          ]
        },
        {
          "name": "stdout",
          "output_type": "stream",
          "text": [
            "DEBUG - Batch sample output: Sentiment: 0, Confidence: 0.99\n",
            "Processed 55808/199235 reviews. Time elapsed: 953.73s. Estimated time remaining: 2458.70s\n",
            "DEBUG - Processing batch starting at index 55808. Sample text: after  hours of playing this game i still dont understand whats going on  tho...\n"
          ]
        },
        {
          "name": "stderr",
          "output_type": "stream",
          "text": [
            "\rProcessing Batches:  28%|██▊       | 110/390 [16:03<40:54,  8.77s/batch]"
          ]
        },
        {
          "name": "stdout",
          "output_type": "stream",
          "text": [
            "DEBUG - Batch sample output: Sentiment: 0, Confidence: 0.99\n",
            "Processed 56320/199235 reviews. Time elapsed: 963.20s. Estimated time remaining: 2451.79s\n",
            "DEBUG - Processing batch starting at index 56320. Sample text: beats a crew  to  with terrible teamate the entire crew calls for a rematch saying i was lucky teama...\n"
          ]
        },
        {
          "name": "stderr",
          "output_type": "stream",
          "text": [
            "\rProcessing Batches:  28%|██▊       | 111/390 [16:10<39:23,  8.47s/batch]"
          ]
        },
        {
          "name": "stdout",
          "output_type": "stream",
          "text": [
            "DEBUG - Batch sample output: Sentiment: 1, Confidence: 1.00\n",
            "Processed 56832/199235 reviews. Time elapsed: 970.98s. Estimated time remaining: 2440.57s\n",
            "DEBUG - Processing batch starting at index 56832. Sample text: really fun game to play alone or with friends it is very good to fill time or even to play in a comp...\n"
          ]
        },
        {
          "name": "stderr",
          "output_type": "stream",
          "text": [
            "\rProcessing Batches:  29%|██▊       | 112/390 [16:17<35:59,  7.77s/batch]"
          ]
        },
        {
          "name": "stdout",
          "output_type": "stream",
          "text": [
            "DEBUG - Batch sample output: Sentiment: 1, Confidence: 1.00\n",
            "Processed 57344/199235 reviews. Time elapsed: 977.11s. Estimated time remaining: 2425.32s\n",
            "DEBUG - Processing batch starting at index 57344. Sample text: whoooaaaaaaa dude this is the game...\n"
          ]
        },
        {
          "name": "stderr",
          "output_type": "stream",
          "text": [
            "\rProcessing Batches:  29%|██▉       | 113/390 [16:26<38:13,  8.28s/batch]"
          ]
        },
        {
          "name": "stdout",
          "output_type": "stream",
          "text": [
            "DEBUG - Batch sample output: Sentiment: 1, Confidence: 1.00\n",
            "Processed 57856/199235 reviews. Time elapsed: 986.58s. Estimated time remaining: 2418.44s\n",
            "DEBUG - Processing batch starting at index 57856. Sample text: good game got it ages ago but good ...\n"
          ]
        },
        {
          "name": "stderr",
          "output_type": "stream",
          "text": [
            "\rProcessing Batches:  29%|██▉       | 114/390 [16:35<39:13,  8.53s/batch]"
          ]
        },
        {
          "name": "stdout",
          "output_type": "stream",
          "text": [
            "DEBUG - Batch sample output: Sentiment: 1, Confidence: 1.00\n",
            "Processed 58368/199235 reviews. Time elapsed: 995.69s. Estimated time remaining: 2410.61s\n",
            "DEBUG - Processing batch starting at index 58368. Sample text: this is a very fun game i mostly play it on xbox dont know why but its good enough that i got it on ...\n"
          ]
        },
        {
          "name": "stderr",
          "output_type": "stream",
          "text": [
            "\rProcessing Batches:  29%|██▉       | 115/390 [16:45<40:22,  8.81s/batch]"
          ]
        },
        {
          "name": "stdout",
          "output_type": "stream",
          "text": [
            "DEBUG - Batch sample output: Sentiment: 1, Confidence: 1.00\n",
            "Processed 58880/199235 reviews. Time elapsed: 1005.16s. Estimated time remaining: 2403.64s\n",
            "DEBUG - Processing batch starting at index 58880. Sample text: if you dont buy this game i will find you and i will score on you...\n"
          ]
        },
        {
          "name": "stderr",
          "output_type": "stream",
          "text": [
            "\rProcessing Batches:  30%|██▉       | 116/390 [16:53<39:03,  8.55s/batch]"
          ]
        },
        {
          "name": "stdout",
          "output_type": "stream",
          "text": [
            "DEBUG - Batch sample output: Sentiment: 0, Confidence: 1.00\n",
            "Processed 59392/199235 reviews. Time elapsed: 1013.12s. Estimated time remaining: 2393.05s\n",
            "DEBUG - Processing batch starting at index 59392. Sample text: this game is aids...\n"
          ]
        },
        {
          "name": "stderr",
          "output_type": "stream",
          "text": [
            "\rProcessing Batches:  30%|███       | 117/390 [16:59<36:11,  7.95s/batch]"
          ]
        },
        {
          "name": "stdout",
          "output_type": "stream",
          "text": [
            "DEBUG - Batch sample output: Sentiment: 1, Confidence: 0.99\n",
            "Processed 59904/199235 reviews. Time elapsed: 1019.67s. Estimated time remaining: 2379.23s\n",
            "DEBUG - Processing batch starting at index 59904. Sample text: this game rocks the league all day every day...\n"
          ]
        },
        {
          "name": "stderr",
          "output_type": "stream",
          "text": [
            "\rProcessing Batches:  30%|███       | 118/390 [17:09<38:06,  8.41s/batch]"
          ]
        },
        {
          "name": "stdout",
          "output_type": "stream",
          "text": [
            "DEBUG - Batch sample output: Sentiment: 1, Confidence: 1.00\n",
            "Processed 60416/199235 reviews. Time elapsed: 1029.14s. Estimated time remaining: 2372.25s\n",
            "DEBUG - Processing batch starting at index 60416. Sample text: this game will take away days from your life  would buy again...\n"
          ]
        },
        {
          "name": "stderr",
          "output_type": "stream",
          "text": [
            "\rProcessing Batches:  31%|███       | 119/390 [17:14<34:26,  7.62s/batch]"
          ]
        },
        {
          "name": "stdout",
          "output_type": "stream",
          "text": [
            "DEBUG - Batch sample output: Sentiment: 1, Confidence: 1.00\n",
            "Processed 60928/199235 reviews. Time elapsed: 1034.93s. Estimated time remaining: 2356.86s\n",
            "DEBUG - Processing batch starting at index 60928. Sample text:   friend gave me this game i was supposed to pay him back i still havent   would get for free again...\n"
          ]
        },
        {
          "name": "stderr",
          "output_type": "stream",
          "text": [
            "\rProcessing Batches:  31%|███       | 120/390 [17:23<35:24,  7.87s/batch]"
          ]
        },
        {
          "name": "stdout",
          "output_type": "stream",
          "text": [
            "DEBUG - Batch sample output: Sentiment: 0, Confidence: 1.00\n",
            "Processed 61440/199235 reviews. Time elapsed: 1043.38s. Estimated time remaining: 2347.59s\n",
            "DEBUG - Processing batch starting at index 61440. Sample text: its football with cars whats not to love...\n"
          ]
        },
        {
          "name": "stderr",
          "output_type": "stream",
          "text": [
            "\rProcessing Batches:  31%|███       | 121/390 [17:32<37:26,  8.35s/batch]"
          ]
        },
        {
          "name": "stdout",
          "output_type": "stream",
          "text": [
            "DEBUG - Batch sample output: Sentiment: 1, Confidence: 1.00\n",
            "Processed 61952/199235 reviews. Time elapsed: 1052.85s. Estimated time remaining: 2340.63s\n",
            "DEBUG - Processing batch starting at index 61952. Sample text: cant stop playing...\n"
          ]
        },
        {
          "name": "stderr",
          "output_type": "stream",
          "text": [
            "\rProcessing Batches:  31%|███▏      | 122/390 [17:42<38:48,  8.69s/batch]"
          ]
        },
        {
          "name": "stdout",
          "output_type": "stream",
          "text": [
            "DEBUG - Batch sample output: Sentiment: 1, Confidence: 1.00\n",
            "Processed 62464/199235 reviews. Time elapsed: 1062.32s. Estimated time remaining: 2333.63s\n",
            "DEBUG - Processing batch starting at index 62464. Sample text: best game ever   lots of fun  easy to play  great time wasting game  no toxic people ...\n"
          ]
        },
        {
          "name": "stderr",
          "output_type": "stream",
          "text": [
            "\rProcessing Batches:  32%|███▏      | 123/390 [17:46<33:05,  7.44s/batch]"
          ]
        },
        {
          "name": "stdout",
          "output_type": "stream",
          "text": [
            "DEBUG - Batch sample output: Sentiment: 1, Confidence: 1.00\n",
            "Processed 62976/199235 reviews. Time elapsed: 1066.84s. Estimated time remaining: 2315.83s\n",
            "DEBUG - Processing batch starting at index 62976. Sample text: a greatgame for time pass xd...\n"
          ]
        },
        {
          "name": "stderr",
          "output_type": "stream",
          "text": [
            "\rProcessing Batches:  32%|███▏      | 124/390 [17:50<28:23,  6.40s/batch]"
          ]
        },
        {
          "name": "stdout",
          "output_type": "stream",
          "text": [
            "DEBUG - Batch sample output: Sentiment: 1, Confidence: 1.00\n",
            "Processed 63488/199235 reviews. Time elapsed: 1070.83s. Estimated time remaining: 2297.11s\n",
            "DEBUG - Processing batch starting at index 63488. Sample text: great game ...\n"
          ]
        },
        {
          "name": "stderr",
          "output_type": "stream",
          "text": [
            "\rProcessing Batches:  32%|███▏      | 125/390 [18:00<32:20,  7.32s/batch]"
          ]
        },
        {
          "name": "stdout",
          "output_type": "stream",
          "text": [
            "DEBUG - Batch sample output: Sentiment: 1, Confidence: 1.00\n",
            "Processed 64000/199235 reviews. Time elapsed: 1080.30s. Estimated time remaining: 2290.24s\n",
            "DEBUG - Processing batch starting at index 64000. Sample text: amazing game that youre never really good at...\n"
          ]
        },
        {
          "name": "stderr",
          "output_type": "stream",
          "text": [
            "\rProcessing Batches:  32%|███▏      | 126/390 [18:09<35:03,  7.97s/batch]"
          ]
        },
        {
          "name": "stdout",
          "output_type": "stream",
          "text": [
            "DEBUG - Batch sample output: Sentiment: 1, Confidence: 1.00\n",
            "Processed 64512/199235 reviews. Time elapsed: 1089.78s. Estimated time remaining: 2283.34s\n",
            "DEBUG - Processing batch starting at index 64512. Sample text: if you want to smash your keyboard or become a murderer then vs are for you  if you want to have mor...\n"
          ]
        },
        {
          "name": "stderr",
          "output_type": "stream",
          "text": [
            "\rProcessing Batches:  33%|███▎      | 127/390 [18:19<36:55,  8.42s/batch]"
          ]
        },
        {
          "name": "stdout",
          "output_type": "stream",
          "text": [
            "DEBUG - Batch sample output: Sentiment: 1, Confidence: 1.00\n",
            "Processed 65024/199235 reviews. Time elapsed: 1099.26s. Estimated time remaining: 2276.42s\n",
            "DEBUG - Processing batch starting at index 65024. Sample text: thats not a review this is a statemant  in the last  years of videogames is witcher  one of the best...\n"
          ]
        },
        {
          "name": "stderr",
          "output_type": "stream",
          "text": [
            "\rProcessing Batches:  33%|███▎      | 128/390 [18:28<38:12,  8.75s/batch]"
          ]
        },
        {
          "name": "stdout",
          "output_type": "stream",
          "text": [
            "DEBUG - Batch sample output: Sentiment: 1, Confidence: 1.00\n",
            "Processed 65536/199235 reviews. Time elapsed: 1108.77s. Estimated time remaining: 2269.51s\n",
            "DEBUG - Processing batch starting at index 65536. Sample text: just take my money and make witcher    please   ps all i actually want to say is thank you cd projek...\n"
          ]
        },
        {
          "name": "stderr",
          "output_type": "stream",
          "text": [
            "\rProcessing Batches:  33%|███▎      | 129/390 [18:38<39:02,  8.98s/batch]"
          ]
        },
        {
          "name": "stdout",
          "output_type": "stream",
          "text": [
            "DEBUG - Batch sample output: Sentiment: 1, Confidence: 1.00\n",
            "Processed 66048/199235 reviews. Time elapsed: 1118.28s. Estimated time remaining: 2262.56s\n",
            "DEBUG - Processing batch starting at index 66048. Sample text: man ive played a lot of games but this one is my personal favorite i mean fallout  pshhh no game com...\n"
          ]
        },
        {
          "name": "stderr",
          "output_type": "stream",
          "text": [
            "\rProcessing Batches:  33%|███▎      | 130/390 [18:47<39:34,  9.13s/batch]"
          ]
        },
        {
          "name": "stdout",
          "output_type": "stream",
          "text": [
            "DEBUG - Batch sample output: Sentiment: 1, Confidence: 1.00\n",
            "Processed 66560/199235 reviews. Time elapsed: 1127.78s. Estimated time remaining: 2255.55s\n",
            "DEBUG - Processing batch starting at index 66560. Sample text: i cant understand why the witcher s price is cheap like this what a shame...\n"
          ]
        },
        {
          "name": "stderr",
          "output_type": "stream",
          "text": [
            "\rProcessing Batches:  34%|███▎      | 131/390 [18:57<39:53,  9.24s/batch]"
          ]
        },
        {
          "name": "stdout",
          "output_type": "stream",
          "text": [
            "DEBUG - Batch sample output: Sentiment: 0, Confidence: 1.00\n",
            "Processed 67072/199235 reviews. Time elapsed: 1137.26s. Estimated time remaining: 2248.49s\n",
            "DEBUG - Processing batch starting at index 67072. Sample text: great story with side quest that fulfill this is the best game ive played in a long time that deserv...\n"
          ]
        },
        {
          "name": "stderr",
          "output_type": "stream",
          "text": [
            "\rProcessing Batches:  34%|███▍      | 132/390 [19:06<40:03,  9.32s/batch]"
          ]
        },
        {
          "name": "stdout",
          "output_type": "stream",
          "text": [
            "DEBUG - Batch sample output: Sentiment: 1, Confidence: 1.00\n",
            "Processed 67584/199235 reviews. Time elapsed: 1146.76s. Estimated time remaining: 2241.39s\n",
            "DEBUG - Processing batch starting at index 67584. Sample text: there has been so much effort put into this game that i feel ashed to pay so little for it  the witc...\n"
          ]
        },
        {
          "name": "stderr",
          "output_type": "stream",
          "text": [
            "\rProcessing Batches:  34%|███▍      | 133/390 [19:16<40:07,  9.37s/batch]"
          ]
        },
        {
          "name": "stdout",
          "output_type": "stream",
          "text": [
            "DEBUG - Batch sample output: Sentiment: 1, Confidence: 1.00\n",
            "Processed 68096/199235 reviews. Time elapsed: 1156.25s. Estimated time remaining: 2234.25s\n",
            "DEBUG - Processing batch starting at index 68096. Sample text: ran into the first bug of the game when i entered the first town and couldnt stop jumping literally ...\n"
          ]
        },
        {
          "name": "stderr",
          "output_type": "stream",
          "text": [
            "\rProcessing Batches:  34%|███▍      | 134/390 [19:25<40:07,  9.41s/batch]"
          ]
        },
        {
          "name": "stdout",
          "output_type": "stream",
          "text": [
            "DEBUG - Batch sample output: Sentiment: 0, Confidence: 1.00\n",
            "Processed 68608/199235 reviews. Time elapsed: 1165.74s. Estimated time remaining: 2227.09s\n",
            "DEBUG - Processing batch starting at index 68608. Sample text: okay i sat down to write a steam review for this incredible game that has embedded its emotional mea...\n"
          ]
        },
        {
          "name": "stderr",
          "output_type": "stream",
          "text": [
            "\rProcessing Batches:  35%|███▍      | 135/390 [19:35<40:04,  9.43s/batch]"
          ]
        },
        {
          "name": "stdout",
          "output_type": "stream",
          "text": [
            "DEBUG - Batch sample output: Sentiment: 1, Confidence: 1.00\n",
            "Processed 69120/199235 reviews. Time elapsed: 1175.23s. Estimated time remaining: 2219.88s\n",
            "DEBUG - Processing batch starting at index 69120. Sample text: wow wow wow cdpr are gods among men after pulling this off amazing in every way  buy it now...\n"
          ]
        },
        {
          "name": "stderr",
          "output_type": "stream",
          "text": [
            "\rProcessing Batches:  35%|███▍      | 136/390 [19:44<39:59,  9.45s/batch]"
          ]
        },
        {
          "name": "stdout",
          "output_type": "stream",
          "text": [
            "DEBUG - Batch sample output: Sentiment: 1, Confidence: 1.00\n",
            "Processed 69632/199235 reviews. Time elapsed: 1184.72s. Estimated time remaining: 2212.63s\n",
            "DEBUG - Processing batch starting at index 69632. Sample text: your a fool if you dont own this game buy it fool ...\n"
          ]
        },
        {
          "name": "stderr",
          "output_type": "stream",
          "text": [
            "\rProcessing Batches:  35%|███▌      | 137/390 [19:54<39:52,  9.46s/batch]"
          ]
        },
        {
          "name": "stdout",
          "output_type": "stream",
          "text": [
            "DEBUG - Batch sample output: Sentiment: 1, Confidence: 1.00\n",
            "Processed 70144/199235 reviews. Time elapsed: 1194.20s. Estimated time remaining: 2205.35s\n",
            "DEBUG - Processing batch starting at index 70144. Sample text: this game is a masterpiece one of the best games ive ever played just buy it and the dlc too...\n"
          ]
        },
        {
          "name": "stderr",
          "output_type": "stream",
          "text": [
            "\rProcessing Batches:  35%|███▌      | 138/390 [20:03<39:45,  9.47s/batch]"
          ]
        },
        {
          "name": "stdout",
          "output_type": "stream",
          "text": [
            "DEBUG - Batch sample output: Sentiment: 1, Confidence: 1.00\n",
            "Processed 70656/199235 reviews. Time elapsed: 1203.69s. Estimated time remaining: 2198.03s\n",
            "DEBUG - Processing batch starting at index 70656. Sample text: good game lt witcher  lt witcher  lt witcher   just perfect game  cannot play any other rpg games af...\n"
          ]
        },
        {
          "name": "stderr",
          "output_type": "stream",
          "text": [
            "\rProcessing Batches:  36%|███▌      | 139/390 [20:13<39:37,  9.47s/batch]"
          ]
        },
        {
          "name": "stdout",
          "output_type": "stream",
          "text": [
            "DEBUG - Batch sample output: Sentiment: 1, Confidence: 1.00\n",
            "Processed 71168/199235 reviews. Time elapsed: 1213.17s. Estimated time remaining: 2190.69s\n",
            "DEBUG - Processing batch starting at index 71168. Sample text: perfect...\n"
          ]
        },
        {
          "name": "stderr",
          "output_type": "stream",
          "text": [
            "\rProcessing Batches:  36%|███▌      | 140/390 [20:22<39:29,  9.48s/batch]"
          ]
        },
        {
          "name": "stdout",
          "output_type": "stream",
          "text": [
            "DEBUG - Batch sample output: Sentiment: 1, Confidence: 1.00\n",
            "Processed 71680/199235 reviews. Time elapsed: 1222.66s. Estimated time remaining: 2183.32s\n",
            "DEBUG - Processing batch starting at index 71680. Sample text: pretty cool game so far reminds me of elder scrolls but with a decision making system im not too far...\n"
          ]
        },
        {
          "name": "stderr",
          "output_type": "stream",
          "text": [
            "\rProcessing Batches:  36%|███▌      | 141/390 [20:32<39:21,  9.48s/batch]"
          ]
        },
        {
          "name": "stdout",
          "output_type": "stream",
          "text": [
            "DEBUG - Batch sample output: Sentiment: 0, Confidence: 1.00\n",
            "Processed 72192/199235 reviews. Time elapsed: 1232.15s. Estimated time remaining: 2175.93s\n",
            "DEBUG - Processing batch starting at index 72192. Sample text: great looking gamelots to do and look atfun and fluidonce you learn the controlssignsgreat story and...\n"
          ]
        },
        {
          "name": "stderr",
          "output_type": "stream",
          "text": [
            "\rProcessing Batches:  36%|███▋      | 142/390 [20:41<39:12,  9.48s/batch]"
          ]
        },
        {
          "name": "stdout",
          "output_type": "stream",
          "text": [
            "DEBUG - Batch sample output: Sentiment: 1, Confidence: 1.00\n",
            "Processed 72704/199235 reviews. Time elapsed: 1241.65s. Estimated time remaining: 2168.51s\n",
            "DEBUG - Processing batch starting at index 72704. Sample text: damn what can i say that had already been saind heres one game of the year i love this gamesi love i...\n"
          ]
        },
        {
          "name": "stderr",
          "output_type": "stream",
          "text": [
            "\rProcessing Batches:  37%|███▋      | 143/390 [20:51<39:03,  9.49s/batch]"
          ]
        },
        {
          "name": "stdout",
          "output_type": "stream",
          "text": [
            "DEBUG - Batch sample output: Sentiment: 1, Confidence: 1.00\n",
            "Processed 73216/199235 reviews. Time elapsed: 1251.14s. Estimated time remaining: 2161.05s\n",
            "DEBUG - Processing batch starting at index 73216. Sample text: the witcher  is an outstanding game so much so that this is my second copy ive played it to completi...\n"
          ]
        },
        {
          "name": "stderr",
          "output_type": "stream",
          "text": [
            "\rProcessing Batches:  37%|███▋      | 144/390 [21:00<38:53,  9.49s/batch]"
          ]
        },
        {
          "name": "stdout",
          "output_type": "stream",
          "text": [
            "DEBUG - Batch sample output: Sentiment: 1, Confidence: 1.00\n",
            "Processed 73728/199235 reviews. Time elapsed: 1260.62s. Estimated time remaining: 2153.56s\n",
            "DEBUG - Processing batch starting at index 73728. Sample text: wait the main game isnt gwent...\n"
          ]
        },
        {
          "name": "stderr",
          "output_type": "stream",
          "text": [
            "\rProcessing Batches:  37%|███▋      | 145/390 [21:10<38:44,  9.49s/batch]"
          ]
        },
        {
          "name": "stdout",
          "output_type": "stream",
          "text": [
            "DEBUG - Batch sample output: Sentiment: 0, Confidence: 1.00\n",
            "Processed 74240/199235 reviews. Time elapsed: 1270.11s. Estimated time remaining: 2146.04s\n",
            "DEBUG - Processing batch starting at index 74240. Sample text: its the witcher  under the word masterpiece in the dictionary you will see the word witcher as a syn...\n"
          ]
        },
        {
          "name": "stderr",
          "output_type": "stream",
          "text": [
            "\rProcessing Batches:  37%|███▋      | 146/390 [21:19<38:34,  9.49s/batch]"
          ]
        },
        {
          "name": "stdout",
          "output_type": "stream",
          "text": [
            "DEBUG - Batch sample output: Sentiment: 0, Confidence: 1.00\n",
            "Processed 74752/199235 reviews. Time elapsed: 1279.60s. Estimated time remaining: 2138.50s\n",
            "DEBUG - Processing batch starting at index 74752. Sample text: game of the decade...\n"
          ]
        },
        {
          "name": "stderr",
          "output_type": "stream",
          "text": [
            "\rProcessing Batches:  38%|███▊      | 147/390 [21:29<38:25,  9.49s/batch]"
          ]
        },
        {
          "name": "stdout",
          "output_type": "stream",
          "text": [
            "DEBUG - Batch sample output: Sentiment: 1, Confidence: 1.00\n",
            "Processed 75264/199235 reviews. Time elapsed: 1289.09s. Estimated time remaining: 2130.94s\n",
            "DEBUG - Processing batch starting at index 75264. Sample text: in over  years of gaming its easy to put the witcher  in my top  games of all time it hosts an incre...\n"
          ]
        },
        {
          "name": "stderr",
          "output_type": "stream",
          "text": [
            "\rProcessing Batches:  38%|███▊      | 148/390 [21:38<38:16,  9.49s/batch]"
          ]
        },
        {
          "name": "stdout",
          "output_type": "stream",
          "text": [
            "DEBUG - Batch sample output: Sentiment: 1, Confidence: 1.00\n",
            "Processed 75776/199235 reviews. Time elapsed: 1298.58s. Estimated time remaining: 2123.36s\n",
            "DEBUG - Processing batch starting at index 75776. Sample text: one of the best rpgs and games as a whole that ive ever played simply cannot be missed...\n"
          ]
        },
        {
          "name": "stderr",
          "output_type": "stream",
          "text": [
            "\rProcessing Batches:  38%|███▊      | 149/390 [21:48<38:07,  9.49s/batch]"
          ]
        },
        {
          "name": "stdout",
          "output_type": "stream",
          "text": [
            "DEBUG - Batch sample output: Sentiment: 1, Confidence: 1.00\n",
            "Processed 76288/199235 reviews. Time elapsed: 1308.07s. Estimated time remaining: 2115.74s\n",
            "DEBUG - Processing batch starting at index 76288. Sample text: get some time on your hands and play this game its absolutely fantastic  i saw all the great reviews...\n"
          ]
        },
        {
          "name": "stderr",
          "output_type": "stream",
          "text": [
            "\rProcessing Batches:  38%|███▊      | 150/390 [21:57<37:57,  9.49s/batch]"
          ]
        },
        {
          "name": "stdout",
          "output_type": "stream",
          "text": [
            "DEBUG - Batch sample output: Sentiment: 1, Confidence: 1.00\n",
            "Processed 76800/199235 reviews. Time elapsed: 1317.56s. Estimated time remaining: 2108.09s\n",
            "DEBUG - Processing batch starting at index 76800. Sample text: a great expansion of the witcher series geralt finds himself in many locations and in many series th...\n"
          ]
        },
        {
          "name": "stderr",
          "output_type": "stream",
          "text": [
            "\rProcessing Batches:  39%|███▊      | 151/390 [22:07<37:47,  9.49s/batch]"
          ]
        },
        {
          "name": "stdout",
          "output_type": "stream",
          "text": [
            "DEBUG - Batch sample output: Sentiment: 1, Confidence: 1.00\n",
            "Processed 77312/199235 reviews. Time elapsed: 1327.04s. Estimated time remaining: 2100.42s\n",
            "DEBUG - Processing batch starting at index 77312. Sample text: u can have secks so it must be good...\n"
          ]
        },
        {
          "name": "stderr",
          "output_type": "stream",
          "text": [
            "\rProcessing Batches:  39%|███▉      | 152/390 [22:16<37:38,  9.49s/batch]"
          ]
        },
        {
          "name": "stdout",
          "output_type": "stream",
          "text": [
            "DEBUG - Batch sample output: Sentiment: 1, Confidence: 0.99\n",
            "Processed 77824/199235 reviews. Time elapsed: 1336.54s. Estimated time remaining: 2092.74s\n",
            "DEBUG - Processing batch starting at index 77824. Sample text: the decisions i made in this game haunt me more than decisions i made in real life...\n"
          ]
        },
        {
          "name": "stderr",
          "output_type": "stream",
          "text": [
            "\rProcessing Batches:  39%|███▉      | 153/390 [22:26<37:29,  9.49s/batch]"
          ]
        },
        {
          "name": "stdout",
          "output_type": "stream",
          "text": [
            "DEBUG - Batch sample output: Sentiment: 1, Confidence: 0.99\n",
            "Processed 78336/199235 reviews. Time elapsed: 1346.03s. Estimated time remaining: 2085.02s\n",
            "DEBUG - Processing batch starting at index 78336. Sample text: this game drag me into the world of witchers highly recommend...\n"
          ]
        },
        {
          "name": "stderr",
          "output_type": "stream",
          "text": [
            "\rProcessing Batches:  39%|███▉      | 154/390 [22:35<37:19,  9.49s/batch]"
          ]
        },
        {
          "name": "stdout",
          "output_type": "stream",
          "text": [
            "DEBUG - Batch sample output: Sentiment: 1, Confidence: 1.00\n",
            "Processed 78848/199235 reviews. Time elapsed: 1355.51s. Estimated time remaining: 2077.28s\n",
            "DEBUG - Processing batch starting at index 78848. Sample text: just buy the game words cant properly describe how incredibly awesome this game is think skyrim only...\n"
          ]
        },
        {
          "name": "stderr",
          "output_type": "stream",
          "text": [
            "\rProcessing Batches:  40%|███▉      | 155/390 [22:44<37:09,  9.49s/batch]"
          ]
        },
        {
          "name": "stdout",
          "output_type": "stream",
          "text": [
            "DEBUG - Batch sample output: Sentiment: 1, Confidence: 1.00\n",
            "Processed 79360/199235 reviews. Time elapsed: 1364.99s. Estimated time remaining: 2069.51s\n",
            "DEBUG - Processing batch starting at index 79360. Sample text: threw a baby in a oven ...\n"
          ]
        },
        {
          "name": "stderr",
          "output_type": "stream",
          "text": [
            "\rProcessing Batches:  40%|████      | 156/390 [22:54<36:59,  9.48s/batch]"
          ]
        },
        {
          "name": "stdout",
          "output_type": "stream",
          "text": [
            "DEBUG - Batch sample output: Sentiment: 0, Confidence: 1.00\n",
            "Processed 79872/199235 reviews. Time elapsed: 1374.47s. Estimated time remaining: 2061.71s\n",
            "DEBUG - Processing batch starting at index 79872. Sample text: what a journey this was  one of the greatest games ive ever played this is the product of a team who...\n"
          ]
        },
        {
          "name": "stderr",
          "output_type": "stream",
          "text": [
            "\rProcessing Batches:  40%|████      | 157/390 [23:03<36:49,  9.48s/batch]"
          ]
        },
        {
          "name": "stdout",
          "output_type": "stream",
          "text": [
            "DEBUG - Batch sample output: Sentiment: 1, Confidence: 1.00\n",
            "Processed 80384/199235 reviews. Time elapsed: 1383.96s. Estimated time remaining: 2053.90s\n",
            "DEBUG - Processing batch starting at index 80384. Sample text: its aight...\n"
          ]
        },
        {
          "name": "stderr",
          "output_type": "stream",
          "text": [
            "\rProcessing Batches:  41%|████      | 158/390 [23:13<36:40,  9.49s/batch]"
          ]
        },
        {
          "name": "stdout",
          "output_type": "stream",
          "text": [
            "DEBUG - Batch sample output: Sentiment: 1, Confidence: 1.00\n",
            "Processed 80896/199235 reviews. Time elapsed: 1393.45s. Estimated time remaining: 2046.08s\n",
            "DEBUG - Processing batch starting at index 80896. Sample text: set a cat on fire got punched in the face and died instantly  ...\n"
          ]
        },
        {
          "name": "stderr",
          "output_type": "stream",
          "text": [
            "\rProcessing Batches:  41%|████      | 159/390 [23:22<36:32,  9.49s/batch]"
          ]
        },
        {
          "name": "stdout",
          "output_type": "stream",
          "text": [
            "DEBUG - Batch sample output: Sentiment: 0, Confidence: 1.00\n",
            "Processed 81408/199235 reviews. Time elapsed: 1402.95s. Estimated time remaining: 2038.24s\n",
            "DEBUG - Processing batch starting at index 81408. Sample text: this minireview is purely based on quests and mapmarkers and i will try to convince you to not buy t...\n"
          ]
        },
        {
          "name": "stderr",
          "output_type": "stream",
          "text": [
            "\rProcessing Batches:  41%|████      | 160/390 [23:32<36:23,  9.49s/batch]"
          ]
        },
        {
          "name": "stdout",
          "output_type": "stream",
          "text": [
            "DEBUG - Batch sample output: Sentiment: 1, Confidence: 0.95\n",
            "Processed 81920/199235 reviews. Time elapsed: 1412.45s. Estimated time remaining: 2030.39s\n",
            "DEBUG - Processing batch starting at index 81920. Sample text: updated  look at how long ive played this game this is no kneejerk reaction review  tldr  ive played...\n"
          ]
        },
        {
          "name": "stderr",
          "output_type": "stream",
          "text": [
            "\rProcessing Batches:  41%|████▏     | 161/390 [23:41<36:13,  9.49s/batch]"
          ]
        },
        {
          "name": "stdout",
          "output_type": "stream",
          "text": [
            "DEBUG - Batch sample output: Sentiment: 0, Confidence: 1.00\n",
            "Processed 82432/199235 reviews. Time elapsed: 1421.94s. Estimated time remaining: 2022.51s\n",
            "DEBUG - Processing batch starting at index 82432. Sample text: i tried to jump over a gap and ended up diving headfirst into a boat on land   not enough water...\n"
          ]
        },
        {
          "name": "stderr",
          "output_type": "stream",
          "text": [
            "\rProcessing Batches:  42%|████▏     | 162/390 [23:51<36:03,  9.49s/batch]"
          ]
        },
        {
          "name": "stdout",
          "output_type": "stream",
          "text": [
            "DEBUG - Batch sample output: Sentiment: 0, Confidence: 1.00\n",
            "Processed 82944/199235 reviews. Time elapsed: 1431.42s. Estimated time remaining: 2014.60s\n",
            "DEBUG - Processing batch starting at index 82944. Sample text: if sweg had a definition it would be goat simulator ...\n"
          ]
        },
        {
          "name": "stderr",
          "output_type": "stream",
          "text": [
            "\rProcessing Batches:  42%|████▏     | 163/390 [24:00<35:54,  9.49s/batch]"
          ]
        },
        {
          "name": "stdout",
          "output_type": "stream",
          "text": [
            "DEBUG - Batch sample output: Sentiment: 0, Confidence: 0.99\n",
            "Processed 83456/199235 reviews. Time elapsed: 1440.91s. Estimated time remaining: 2006.67s\n",
            "DEBUG - Processing batch starting at index 83456. Sample text: simply amazing best rpg of our time...\n"
          ]
        },
        {
          "name": "stderr",
          "output_type": "stream",
          "text": [
            "\rProcessing Batches:  42%|████▏     | 164/390 [24:10<35:44,  9.49s/batch]"
          ]
        },
        {
          "name": "stdout",
          "output_type": "stream",
          "text": [
            "DEBUG - Batch sample output: Sentiment: 1, Confidence: 1.00\n",
            "Processed 83968/199235 reviews. Time elapsed: 1450.40s. Estimated time remaining: 1998.72s\n",
            "DEBUG - Processing batch starting at index 83968. Sample text: wow just wow one of the best game of the year...\n"
          ]
        },
        {
          "name": "stderr",
          "output_type": "stream",
          "text": [
            "\rProcessing Batches:  42%|████▏     | 165/390 [24:19<35:34,  9.49s/batch]"
          ]
        },
        {
          "name": "stdout",
          "output_type": "stream",
          "text": [
            "DEBUG - Batch sample output: Sentiment: 1, Confidence: 1.00\n",
            "Processed 84480/199235 reviews. Time elapsed: 1459.88s. Estimated time remaining: 1990.75s\n",
            "DEBUG - Processing batch starting at index 84480. Sample text: i once got into an arguement with a friend on whether this gameone of my favorite games was better t...\n"
          ]
        },
        {
          "name": "stderr",
          "output_type": "stream",
          "text": [
            "\rProcessing Batches:  43%|████▎     | 166/390 [24:29<35:24,  9.49s/batch]"
          ]
        },
        {
          "name": "stdout",
          "output_type": "stream",
          "text": [
            "DEBUG - Batch sample output: Sentiment: 1, Confidence: 1.00\n",
            "Processed 84992/199235 reviews. Time elapsed: 1469.37s. Estimated time remaining: 1982.76s\n",
            "DEBUG - Processing batch starting at index 84992. Sample text: update update now runs pretty great amazing game  update i did a lot more tweaking and turned down g...\n"
          ]
        },
        {
          "name": "stderr",
          "output_type": "stream",
          "text": [
            "\rProcessing Batches:  43%|████▎     | 167/390 [24:38<35:15,  9.49s/batch]"
          ]
        },
        {
          "name": "stdout",
          "output_type": "stream",
          "text": [
            "DEBUG - Batch sample output: Sentiment: 0, Confidence: 1.00\n",
            "Processed 85504/199235 reviews. Time elapsed: 1478.85s. Estimated time remaining: 1974.75s\n",
            "DEBUG - Processing batch starting at index 85504. Sample text: great game  d...\n"
          ]
        },
        {
          "name": "stderr",
          "output_type": "stream",
          "text": [
            "\rProcessing Batches:  43%|████▎     | 168/390 [24:48<35:05,  9.48s/batch]"
          ]
        },
        {
          "name": "stdout",
          "output_type": "stream",
          "text": [
            "DEBUG - Batch sample output: Sentiment: 1, Confidence: 1.00\n",
            "Processed 86016/199235 reviews. Time elapsed: 1488.33s. Estimated time remaining: 1966.72s\n",
            "DEBUG - Processing batch starting at index 86016. Sample text: masterpiece...\n"
          ]
        },
        {
          "name": "stderr",
          "output_type": "stream",
          "text": [
            "\rProcessing Batches:  43%|████▎     | 169/390 [24:57<34:55,  9.48s/batch]"
          ]
        },
        {
          "name": "stdout",
          "output_type": "stream",
          "text": [
            "DEBUG - Batch sample output: Sentiment: 1, Confidence: 1.00\n",
            "Processed 86528/199235 reviews. Time elapsed: 1497.81s. Estimated time remaining: 1958.68s\n",
            "DEBUG - Processing batch starting at index 86528. Sample text: the entire series has spanned longer than i care to remember based loosely on a great series of book...\n"
          ]
        },
        {
          "name": "stderr",
          "output_type": "stream",
          "text": [
            "\rProcessing Batches:  44%|████▎     | 170/390 [25:07<34:46,  9.48s/batch]"
          ]
        },
        {
          "name": "stdout",
          "output_type": "stream",
          "text": [
            "DEBUG - Batch sample output: Sentiment: 1, Confidence: 1.00\n",
            "Processed 87040/199235 reviews. Time elapsed: 1507.29s. Estimated time remaining: 1950.61s\n",
            "DEBUG - Processing batch starting at index 87040. Sample text: damn this game is just fantastic amazing graphics good story lots of quests everything perfect if yo...\n"
          ]
        },
        {
          "name": "stderr",
          "output_type": "stream",
          "text": [
            "\rProcessing Batches:  44%|████▍     | 171/390 [25:16<34:36,  9.48s/batch]"
          ]
        },
        {
          "name": "stdout",
          "output_type": "stream",
          "text": [
            "DEBUG - Batch sample output: Sentiment: 1, Confidence: 1.00\n",
            "Processed 87552/199235 reviews. Time elapsed: 1516.77s. Estimated time remaining: 1942.53s\n",
            "DEBUG - Processing batch starting at index 87552. Sample text: the witcher  was decent the witcher  was pretty good but the witcher  absolutely blows it out of the...\n"
          ]
        },
        {
          "name": "stderr",
          "output_type": "stream",
          "text": [
            "\rProcessing Batches:  44%|████▍     | 172/390 [25:26<34:26,  9.48s/batch]"
          ]
        },
        {
          "name": "stdout",
          "output_type": "stream",
          "text": [
            "DEBUG - Batch sample output: Sentiment: 1, Confidence: 1.00\n",
            "Processed 88064/199235 reviews. Time elapsed: 1526.25s. Estimated time remaining: 1934.43s\n",
            "DEBUG - Processing batch starting at index 88064. Sample text: the best game of all time...\n"
          ]
        },
        {
          "name": "stderr",
          "output_type": "stream",
          "text": [
            "\rProcessing Batches:  44%|████▍     | 173/390 [25:35<34:17,  9.48s/batch]"
          ]
        },
        {
          "name": "stdout",
          "output_type": "stream",
          "text": [
            "DEBUG - Batch sample output: Sentiment: 1, Confidence: 1.00\n",
            "Processed 88576/199235 reviews. Time elapsed: 1535.73s. Estimated time remaining: 1926.31s\n",
            "DEBUG - Processing batch starting at index 88576. Sample text: best rpg ever made into this world period...\n"
          ]
        },
        {
          "name": "stderr",
          "output_type": "stream",
          "text": [
            "\rProcessing Batches:  45%|████▍     | 174/390 [25:45<34:08,  9.48s/batch]"
          ]
        },
        {
          "name": "stdout",
          "output_type": "stream",
          "text": [
            "DEBUG - Batch sample output: Sentiment: 1, Confidence: 1.00\n",
            "Processed 89088/199235 reviews. Time elapsed: 1545.21s. Estimated time remaining: 1918.19s\n",
            "DEBUG - Processing batch starting at index 89088. Sample text: witcher  is awesome i especially like the slow mo finisher moves geralt does the story is awesome ev...\n"
          ]
        },
        {
          "name": "stderr",
          "output_type": "stream",
          "text": [
            "\rProcessing Batches:  45%|████▍     | 175/390 [25:54<33:58,  9.48s/batch]"
          ]
        },
        {
          "name": "stdout",
          "output_type": "stream",
          "text": [
            "DEBUG - Batch sample output: Sentiment: 1, Confidence: 1.00\n",
            "Processed 89600/199235 reviews. Time elapsed: 1554.70s. Estimated time remaining: 1910.06s\n",
            "DEBUG - Processing batch starting at index 89600. Sample text: incredible possibly the best single player rpg ive ever played...\n"
          ]
        },
        {
          "name": "stderr",
          "output_type": "stream",
          "text": [
            "\rProcessing Batches:  45%|████▌     | 176/390 [26:04<33:49,  9.48s/batch]"
          ]
        },
        {
          "name": "stdout",
          "output_type": "stream",
          "text": [
            "DEBUG - Batch sample output: Sentiment: 1, Confidence: 1.00\n",
            "Processed 90112/199235 reviews. Time elapsed: 1564.18s. Estimated time remaining: 1901.90s\n",
            "DEBUG - Processing batch starting at index 90112. Sample text: best game i played...\n"
          ]
        },
        {
          "name": "stderr",
          "output_type": "stream",
          "text": [
            "\rProcessing Batches:  45%|████▌     | 177/390 [26:13<33:40,  9.48s/batch]"
          ]
        },
        {
          "name": "stdout",
          "output_type": "stream",
          "text": [
            "DEBUG - Batch sample output: Sentiment: 1, Confidence: 1.00\n",
            "Processed 90624/199235 reviews. Time elapsed: 1573.67s. Estimated time remaining: 1893.74s\n",
            "DEBUG - Processing batch starting at index 90624. Sample text: one of the greatest actionrpg games ive played the character is set in stone and the story is mostly...\n"
          ]
        },
        {
          "name": "stderr",
          "output_type": "stream",
          "text": [
            "\rProcessing Batches:  46%|████▌     | 178/390 [26:23<33:30,  9.48s/batch]"
          ]
        },
        {
          "name": "stdout",
          "output_type": "stream",
          "text": [
            "DEBUG - Batch sample output: Sentiment: 1, Confidence: 1.00\n",
            "Processed 91136/199235 reviews. Time elapsed: 1583.15s. Estimated time remaining: 1885.55s\n",
            "DEBUG - Processing batch starting at index 91136. Sample text: even though i dont have the best pc and i do lag even on the lowest settings i still will recomend t...\n"
          ]
        },
        {
          "name": "stderr",
          "output_type": "stream",
          "text": [
            "\rProcessing Batches:  46%|████▌     | 179/390 [26:32<33:21,  9.48s/batch]"
          ]
        },
        {
          "name": "stdout",
          "output_type": "stream",
          "text": [
            "DEBUG - Batch sample output: Sentiment: 1, Confidence: 1.00\n",
            "Processed 91648/199235 reviews. Time elapsed: 1592.64s. Estimated time remaining: 1877.36s\n",
            "DEBUG - Processing batch starting at index 91648. Sample text: it will be short   best of recent  years best rpg game best audio best story best approach to the pl...\n"
          ]
        },
        {
          "name": "stderr",
          "output_type": "stream",
          "text": [
            "\rProcessing Batches:  46%|████▌     | 180/390 [26:42<33:11,  9.48s/batch]"
          ]
        },
        {
          "name": "stdout",
          "output_type": "stream",
          "text": [
            "DEBUG - Batch sample output: Sentiment: 1, Confidence: 1.00\n",
            "Processed 92160/199235 reviews. Time elapsed: 1602.12s. Estimated time remaining: 1869.14s\n",
            "DEBUG - Processing batch starting at index 92160. Sample text: bottle selling simulator ...\n"
          ]
        },
        {
          "name": "stderr",
          "output_type": "stream",
          "text": [
            "\rProcessing Batches:  46%|████▋     | 181/390 [26:51<33:01,  9.48s/batch]"
          ]
        },
        {
          "name": "stdout",
          "output_type": "stream",
          "text": [
            "DEBUG - Batch sample output: Sentiment: 1, Confidence: 0.97\n",
            "Processed 92672/199235 reviews. Time elapsed: 1611.60s. Estimated time remaining: 1860.91s\n",
            "DEBUG - Processing batch starting at index 92672. Sample text: a unique world empowered by flawless graphics a mainstory that will keep you engaged and sidequests ...\n"
          ]
        },
        {
          "name": "stderr",
          "output_type": "stream",
          "text": [
            "\rProcessing Batches:  47%|████▋     | 182/390 [27:01<32:52,  9.48s/batch]"
          ]
        },
        {
          "name": "stdout",
          "output_type": "stream",
          "text": [
            "DEBUG - Batch sample output: Sentiment: 1, Confidence: 1.00\n",
            "Processed 93184/199235 reviews. Time elapsed: 1621.08s. Estimated time remaining: 1852.67s\n",
            "DEBUG - Processing batch starting at index 93184. Sample text: hands down one of the best games ive ever played huge beautiful world to explore with endless possib...\n"
          ]
        },
        {
          "name": "stderr",
          "output_type": "stream",
          "text": [
            "\rProcessing Batches:  47%|████▋     | 183/390 [27:10<32:42,  9.48s/batch]"
          ]
        },
        {
          "name": "stdout",
          "output_type": "stream",
          "text": [
            "DEBUG - Batch sample output: Sentiment: 1, Confidence: 1.00\n",
            "Processed 93696/199235 reviews. Time elapsed: 1630.56s. Estimated time remaining: 1844.41s\n",
            "DEBUG - Processing batch starting at index 93696. Sample text: probably one of the best rpgs ive ever played i did think the game was boring at first but that was ...\n"
          ]
        },
        {
          "name": "stderr",
          "output_type": "stream",
          "text": [
            "\rProcessing Batches:  47%|████▋     | 184/390 [27:20<32:33,  9.48s/batch]"
          ]
        },
        {
          "name": "stdout",
          "output_type": "stream",
          "text": [
            "DEBUG - Batch sample output: Sentiment: 1, Confidence: 1.00\n",
            "Processed 94208/199235 reviews. Time elapsed: 1640.05s. Estimated time remaining: 1836.14s\n",
            "DEBUG - Processing batch starting at index 94208. Sample text: im nominating gwent for the game within a game category for the rpg minigame that can get you more c...\n"
          ]
        },
        {
          "name": "stderr",
          "output_type": "stream",
          "text": [
            "\rProcessing Batches:  47%|████▋     | 185/390 [27:29<32:23,  9.48s/batch]"
          ]
        },
        {
          "name": "stdout",
          "output_type": "stream",
          "text": [
            "DEBUG - Batch sample output: Sentiment: 1, Confidence: 1.00\n",
            "Processed 94720/199235 reviews. Time elapsed: 1649.52s. Estimated time remaining: 1827.85s\n",
            "DEBUG - Processing batch starting at index 94720. Sample text: first few hours of my adventure  i should lift the curse from kings striga daughter and probably ban...\n"
          ]
        },
        {
          "name": "stderr",
          "output_type": "stream",
          "text": [
            "\rProcessing Batches:  48%|████▊     | 186/390 [27:38<32:13,  9.48s/batch]"
          ]
        },
        {
          "name": "stdout",
          "output_type": "stream",
          "text": [
            "DEBUG - Batch sample output: Sentiment: 1, Confidence: 1.00\n",
            "Processed 95232/199235 reviews. Time elapsed: 1659.00s. Estimated time remaining: 1819.55s\n",
            "DEBUG - Processing batch starting at index 95232. Sample text: better controls than the previous ones amazing side quests and astonishingly good ambiance must play...\n"
          ]
        },
        {
          "name": "stderr",
          "output_type": "stream",
          "text": [
            "\rProcessing Batches:  48%|████▊     | 187/390 [27:48<32:04,  9.48s/batch]"
          ]
        },
        {
          "name": "stdout",
          "output_type": "stream",
          "text": [
            "DEBUG - Batch sample output: Sentiment: 1, Confidence: 1.00\n",
            "Processed 95744/199235 reviews. Time elapsed: 1668.48s. Estimated time remaining: 1811.23s\n",
            "DEBUG - Processing batch starting at index 95744. Sample text: story is like game of thrones crossed with lord of the rings brutal believable fantasy world   when ...\n"
          ]
        },
        {
          "name": "stderr",
          "output_type": "stream",
          "text": [
            "\rProcessing Batches:  48%|████▊     | 188/390 [27:57<31:26,  9.34s/batch]"
          ]
        },
        {
          "name": "stdout",
          "output_type": "stream",
          "text": [
            "DEBUG - Batch sample output: Sentiment: 1, Confidence: 1.00\n",
            "Processed 96256/199235 reviews. Time elapsed: 1677.49s. Estimated time remaining: 1802.41s\n",
            "DEBUG - Processing batch starting at index 96256. Sample text: contrary to popular knowledge geralt of rivia actually uses three swords  the first one is for monst...\n"
          ]
        },
        {
          "name": "stderr",
          "output_type": "stream",
          "text": [
            "\rProcessing Batches:  48%|████▊     | 189/390 [28:06<31:27,  9.39s/batch]"
          ]
        },
        {
          "name": "stdout",
          "output_type": "stream",
          "text": [
            "DEBUG - Batch sample output: Sentiment: 1, Confidence: 0.99\n",
            "Processed 96768/199235 reviews. Time elapsed: 1687.00s. Estimated time remaining: 1794.11s\n",
            "DEBUG - Processing batch starting at index 96768. Sample text: is fun...\n"
          ]
        },
        {
          "name": "stderr",
          "output_type": "stream",
          "text": [
            "\rProcessing Batches:  49%|████▊     | 190/390 [28:16<31:24,  9.42s/batch]"
          ]
        },
        {
          "name": "stdout",
          "output_type": "stream",
          "text": [
            "DEBUG - Batch sample output: Sentiment: 1, Confidence: 1.00\n",
            "Processed 97280/199235 reviews. Time elapsed: 1696.49s. Estimated time remaining: 1785.78s\n",
            "DEBUG - Processing batch starting at index 97280. Sample text: the graphics are definitely an upgrade from k from shooting to general movement the game feels reall...\n"
          ]
        },
        {
          "name": "stderr",
          "output_type": "stream",
          "text": [
            "\rProcessing Batches:  49%|████▉     | 191/390 [28:25<31:18,  9.44s/batch]"
          ]
        },
        {
          "name": "stdout",
          "output_type": "stream",
          "text": [
            "DEBUG - Batch sample output: Sentiment: 1, Confidence: 1.00\n",
            "Processed 97792/199235 reviews. Time elapsed: 1705.98s. Estimated time remaining: 1777.43s\n",
            "DEBUG - Processing batch starting at index 97792. Sample text: people here complaining their asses off like  wont play again  but still plays it...\n"
          ]
        },
        {
          "name": "stderr",
          "output_type": "stream",
          "text": [
            "\rProcessing Batches:  49%|████▉     | 192/390 [28:35<31:11,  9.45s/batch]"
          ]
        },
        {
          "name": "stdout",
          "output_type": "stream",
          "text": [
            "DEBUG - Batch sample output: Sentiment: 0, Confidence: 0.90\n",
            "Processed 98304/199235 reviews. Time elapsed: 1715.46s. Estimated time remaining: 1769.07s\n",
            "DEBUG - Processing batch starting at index 98304. Sample text: so many lag gameplays in career mode and play now and bugs in pc better pc than system requirements ...\n"
          ]
        },
        {
          "name": "stderr",
          "output_type": "stream",
          "text": [
            "\rProcessing Batches:  49%|████▉     | 193/390 [28:44<31:04,  9.46s/batch]"
          ]
        },
        {
          "name": "stdout",
          "output_type": "stream",
          "text": [
            "DEBUG - Batch sample output: Sentiment: 0, Confidence: 1.00\n",
            "Processed 98816/199235 reviews. Time elapsed: 1724.95s. Estimated time remaining: 1760.70s\n",
            "DEBUG - Processing batch starting at index 98816. Sample text: awesome game a lot different from playing on console but all around a great game ...\n"
          ]
        },
        {
          "name": "stderr",
          "output_type": "stream",
          "text": [
            "\rProcessing Batches:  50%|████▉     | 194/390 [28:54<30:57,  9.48s/batch]"
          ]
        },
        {
          "name": "stdout",
          "output_type": "stream",
          "text": [
            "DEBUG - Batch sample output: Sentiment: 1, Confidence: 1.00\n",
            "Processed 99328/199235 reviews. Time elapsed: 1734.46s. Estimated time remaining: 1752.34s\n",
            "DEBUG - Processing batch starting at index 99328. Sample text: pirate before you buy...\n"
          ]
        },
        {
          "name": "stderr",
          "output_type": "stream",
          "text": [
            "\rProcessing Batches:  50%|█████     | 195/390 [29:03<30:48,  9.48s/batch]"
          ]
        },
        {
          "name": "stdout",
          "output_type": "stream",
          "text": [
            "DEBUG - Batch sample output: Sentiment: 0, Confidence: 0.99\n",
            "Processed 99840/199235 reviews. Time elapsed: 1743.94s. Estimated time remaining: 1743.94s\n",
            "DEBUG - Processing batch starting at index 99840. Sample text: cancer doesnt load...\n"
          ]
        },
        {
          "name": "stderr",
          "output_type": "stream",
          "text": [
            "\rProcessing Batches:  50%|█████     | 196/390 [29:13<30:38,  9.48s/batch]"
          ]
        },
        {
          "name": "stdout",
          "output_type": "stream",
          "text": [
            "DEBUG - Batch sample output: Sentiment: 0, Confidence: 1.00\n",
            "Processed 100352/199235 reviews. Time elapsed: 1753.42s. Estimated time remaining: 1735.53s\n",
            "DEBUG - Processing batch starting at index 100352. Sample text: its so realistic tiago ilori portuguese was called up for england duty in my liverpool career  i r  ...\n"
          ]
        },
        {
          "name": "stderr",
          "output_type": "stream",
          "text": [
            "\rProcessing Batches:  51%|█████     | 197/390 [29:22<30:30,  9.49s/batch]"
          ]
        },
        {
          "name": "stdout",
          "output_type": "stream",
          "text": [
            "DEBUG - Batch sample output: Sentiment: 1, Confidence: 1.00\n",
            "Processed 100864/199235 reviews. Time elapsed: 1762.92s. Estimated time remaining: 1727.12s\n",
            "DEBUG - Processing batch starting at index 100864. Sample text: simply ing amazing      you are the doomguy from the original games demons from hell fear you    gun...\n"
          ]
        },
        {
          "name": "stderr",
          "output_type": "stream",
          "text": [
            "\rProcessing Batches:  51%|█████     | 198/390 [29:32<30:23,  9.50s/batch]"
          ]
        },
        {
          "name": "stdout",
          "output_type": "stream",
          "text": [
            "DEBUG - Batch sample output: Sentiment: 1, Confidence: 1.00\n",
            "Processed 101376/199235 reviews. Time elapsed: 1772.44s. Estimated time remaining: 1718.73s\n",
            "DEBUG - Processing batch starting at index 101376. Sample text: nostalgia boners this game is a must for doom fans everywhere lt...\n"
          ]
        },
        {
          "name": "stderr",
          "output_type": "stream",
          "text": [
            "\rProcessing Batches:  51%|█████     | 199/390 [29:41<30:14,  9.50s/batch]"
          ]
        },
        {
          "name": "stdout",
          "output_type": "stream",
          "text": [
            "DEBUG - Batch sample output: Sentiment: 1, Confidence: 1.00\n",
            "Processed 101888/199235 reviews. Time elapsed: 1781.94s. Estimated time remaining: 1710.31s\n",
            "DEBUG - Processing batch starting at index 101888. Sample text: campaing  its ok but multiplayer rock...\n"
          ]
        },
        {
          "name": "stderr",
          "output_type": "stream",
          "text": [
            "\rProcessing Batches:  51%|█████▏    | 200/390 [29:51<30:05,  9.50s/batch]"
          ]
        },
        {
          "name": "stdout",
          "output_type": "stream",
          "text": [
            "DEBUG - Batch sample output: Sentiment: 1, Confidence: 1.00\n",
            "Processed 102400/199235 reviews. Time elapsed: 1791.45s. Estimated time remaining: 1701.88s\n",
            "DEBUG - Processing batch starting at index 102400. Sample text: this game is beyond fantastic ive been playing doom since i was  when my dad first got the shareware...\n"
          ]
        },
        {
          "name": "stderr",
          "output_type": "stream",
          "text": [
            "\rProcessing Batches:  52%|█████▏    | 201/390 [30:00<29:55,  9.50s/batch]"
          ]
        },
        {
          "name": "stdout",
          "output_type": "stream",
          "text": [
            "DEBUG - Batch sample output: Sentiment: 1, Confidence: 1.00\n",
            "Processed 102912/199235 reviews. Time elapsed: 1800.94s. Estimated time remaining: 1693.42s\n",
            "DEBUG - Processing batch starting at index 102912. Sample text: i fully recommend doom i have played all of the other doom games and i love this one the multiplayer...\n"
          ]
        },
        {
          "name": "stderr",
          "output_type": "stream",
          "text": [
            "\rProcessing Batches:  52%|█████▏    | 202/390 [30:10<29:45,  9.50s/batch]"
          ]
        },
        {
          "name": "stdout",
          "output_type": "stream",
          "text": [
            "DEBUG - Batch sample output: Sentiment: 1, Confidence: 1.00\n",
            "Processed 103424/199235 reviews. Time elapsed: 1810.44s. Estimated time remaining: 1684.96s\n",
            "DEBUG - Processing batch starting at index 103424. Sample text: paraphrasing jeff gerstmann of giant bomb what a phenomenal game it has retroactively made me dislik...\n"
          ]
        },
        {
          "name": "stderr",
          "output_type": "stream",
          "text": [
            "\rProcessing Batches:  52%|█████▏    | 203/390 [30:19<29:35,  9.50s/batch]"
          ]
        },
        {
          "name": "stdout",
          "output_type": "stream",
          "text": [
            "DEBUG - Batch sample output: Sentiment: 1, Confidence: 1.00\n",
            "Processed 103936/199235 reviews. Time elapsed: 1819.93s. Estimated time remaining: 1676.49s\n",
            "DEBUG - Processing batch starting at index 103936. Sample text: its fun definetly worth the weight...\n"
          ]
        },
        {
          "name": "stderr",
          "output_type": "stream",
          "text": [
            "\rProcessing Batches:  52%|█████▏    | 204/390 [30:29<29:25,  9.49s/batch]"
          ]
        },
        {
          "name": "stdout",
          "output_type": "stream",
          "text": [
            "DEBUG - Batch sample output: Sentiment: 1, Confidence: 1.00\n",
            "Processed 104448/199235 reviews. Time elapsed: 1829.42s. Estimated time remaining: 1668.00s\n",
            "DEBUG - Processing batch starting at index 104448. Sample text: the lighting its the lighting engine that does it for me gorgeous visuals with an intense atmosphere...\n"
          ]
        },
        {
          "name": "stderr",
          "output_type": "stream",
          "text": [
            "\rProcessing Batches:  53%|█████▎    | 205/390 [30:38<29:16,  9.49s/batch]"
          ]
        },
        {
          "name": "stdout",
          "output_type": "stream",
          "text": [
            "DEBUG - Batch sample output: Sentiment: 1, Confidence: 1.00\n",
            "Processed 104960/199235 reviews. Time elapsed: 1838.91s. Estimated time remaining: 1659.51s\n",
            "DEBUG - Processing batch starting at index 104960. Sample text: first impressions have been nothing short of incredible  the campaign feels like classic doom and th...\n"
          ]
        },
        {
          "name": "stderr",
          "output_type": "stream",
          "text": [
            "\rProcessing Batches:  53%|█████▎    | 206/390 [30:48<29:06,  9.49s/batch]"
          ]
        },
        {
          "name": "stdout",
          "output_type": "stream",
          "text": [
            "DEBUG - Batch sample output: Sentiment: 1, Confidence: 1.00\n",
            "Processed 105472/199235 reviews. Time elapsed: 1848.40s. Estimated time remaining: 1651.00s\n",
            "DEBUG - Processing batch starting at index 105472. Sample text: ultra violence  difficulty and headphones required...\n"
          ]
        },
        {
          "name": "stderr",
          "output_type": "stream",
          "text": [
            "\rProcessing Batches:  53%|█████▎    | 207/390 [30:57<28:57,  9.50s/batch]"
          ]
        },
        {
          "name": "stdout",
          "output_type": "stream",
          "text": [
            "DEBUG - Batch sample output: Sentiment: 0, Confidence: 0.99\n",
            "Processed 105984/199235 reviews. Time elapsed: 1857.91s. Estimated time remaining: 1642.50s\n",
            "DEBUG - Processing batch starting at index 105984. Sample text: okay im just going to put this warning label here before i start and ive played this game on xbox on...\n"
          ]
        },
        {
          "name": "stderr",
          "output_type": "stream",
          "text": [
            "\rProcessing Batches:  53%|█████▎    | 208/390 [31:07<28:48,  9.50s/batch]"
          ]
        },
        {
          "name": "stdout",
          "output_type": "stream",
          "text": [
            "DEBUG - Batch sample output: Sentiment: 0, Confidence: 1.00\n",
            "Processed 106496/199235 reviews. Time elapsed: 1867.40s. Estimated time remaining: 1633.98s\n",
            "DEBUG - Processing batch starting at index 106496. Sample text: im not an oldschool gamer i wasnt born when doom came out so while i wasnt born into hell i adopted ...\n"
          ]
        },
        {
          "name": "stderr",
          "output_type": "stream",
          "text": [
            "\rProcessing Batches:  54%|█████▎    | 209/390 [31:16<28:38,  9.50s/batch]"
          ]
        },
        {
          "name": "stdout",
          "output_type": "stream",
          "text": [
            "DEBUG - Batch sample output: Sentiment: 1, Confidence: 1.00\n",
            "Processed 107008/199235 reviews. Time elapsed: 1876.90s. Estimated time remaining: 1625.45s\n",
            "DEBUG - Processing batch starting at index 107008. Sample text: playing this game is so much fun no gameplay video can show you how good this game is you have to tr...\n"
          ]
        },
        {
          "name": "stderr",
          "output_type": "stream",
          "text": [
            "\rProcessing Batches:  54%|█████▍    | 210/390 [31:26<28:28,  9.49s/batch]"
          ]
        },
        {
          "name": "stdout",
          "output_type": "stream",
          "text": [
            "DEBUG - Batch sample output: Sentiment: 1, Confidence: 1.00\n",
            "Processed 107520/199235 reviews. Time elapsed: 1886.38s. Estimated time remaining: 1616.90s\n",
            "DEBUG - Processing batch starting at index 107520. Sample text: fantastic single player campaign that does a great job of taking elements that made the old games gr...\n"
          ]
        },
        {
          "name": "stderr",
          "output_type": "stream",
          "text": [
            "\rProcessing Batches:  54%|█████▍    | 211/390 [31:35<28:19,  9.49s/batch]"
          ]
        },
        {
          "name": "stdout",
          "output_type": "stream",
          "text": [
            "DEBUG - Batch sample output: Sentiment: 1, Confidence: 1.00\n",
            "Processed 108032/199235 reviews. Time elapsed: 1895.87s. Estimated time remaining: 1608.35s\n",
            "DEBUG - Processing batch starting at index 108032. Sample text: its not quake but it will do for a while  the game is not as bad as the beta made it out to be the m...\n"
          ]
        },
        {
          "name": "stderr",
          "output_type": "stream",
          "text": [
            "\rProcessing Batches:  54%|█████▍    | 212/390 [31:45<28:09,  9.49s/batch]"
          ]
        },
        {
          "name": "stdout",
          "output_type": "stream",
          "text": [
            "DEBUG - Batch sample output: Sentiment: 1, Confidence: 1.00\n",
            "Processed 108544/199235 reviews. Time elapsed: 1905.37s. Estimated time remaining: 1599.79s\n",
            "DEBUG - Processing batch starting at index 108544. Sample text: about perfomance after vulkan patch and trying this game on gtx  r x gtx  gtx  i can say its optimiz...\n"
          ]
        },
        {
          "name": "stderr",
          "output_type": "stream",
          "text": [
            "\rProcessing Batches:  55%|█████▍    | 213/390 [31:54<28:00,  9.49s/batch]"
          ]
        },
        {
          "name": "stdout",
          "output_type": "stream",
          "text": [
            "DEBUG - Batch sample output: Sentiment: 1, Confidence: 1.00\n",
            "Processed 109056/199235 reviews. Time elapsed: 1914.86s. Estimated time remaining: 1591.22s\n",
            "DEBUG - Processing batch starting at index 109056. Sample text: it appears they actually did a great job putting the spirit of doom in a  game  the  version still e...\n"
          ]
        },
        {
          "name": "stderr",
          "output_type": "stream",
          "text": [
            "\rProcessing Batches:  55%|█████▍    | 214/390 [32:04<27:50,  9.49s/batch]"
          ]
        },
        {
          "name": "stdout",
          "output_type": "stream",
          "text": [
            "DEBUG - Batch sample output: Sentiment: 1, Confidence: 1.00\n",
            "Processed 109568/199235 reviews. Time elapsed: 1924.35s. Estimated time remaining: 1582.64s\n",
            "DEBUG - Processing batch starting at index 109568. Sample text: best game of the year ...\n"
          ]
        },
        {
          "name": "stderr",
          "output_type": "stream",
          "text": [
            "\rProcessing Batches:  55%|█████▌    | 215/390 [32:13<27:40,  9.49s/batch]"
          ]
        },
        {
          "name": "stdout",
          "output_type": "stream",
          "text": [
            "DEBUG - Batch sample output: Sentiment: 1, Confidence: 1.00\n",
            "Processed 110080/199235 reviews. Time elapsed: 1933.83s. Estimated time remaining: 1574.05s\n",
            "DEBUG - Processing batch starting at index 110080. Sample text: looks fantastic no bugs on day one   ...\n"
          ]
        },
        {
          "name": "stderr",
          "output_type": "stream",
          "text": [
            "\rProcessing Batches:  55%|█████▌    | 216/390 [32:23<27:31,  9.49s/batch]"
          ]
        },
        {
          "name": "stdout",
          "output_type": "stream",
          "text": [
            "DEBUG - Batch sample output: Sentiment: 1, Confidence: 1.00\n",
            "Processed 110592/199235 reviews. Time elapsed: 1943.32s. Estimated time remaining: 1565.45s\n",
            "DEBUG - Processing batch starting at index 110592. Sample text: yeah its pretty neat...\n"
          ]
        },
        {
          "name": "stderr",
          "output_type": "stream",
          "text": [
            "\rProcessing Batches:  56%|█████▌    | 217/390 [32:32<27:21,  9.49s/batch]"
          ]
        },
        {
          "name": "stdout",
          "output_type": "stream",
          "text": [
            "DEBUG - Batch sample output: Sentiment: 1, Confidence: 1.00\n",
            "Processed 111104/199235 reviews. Time elapsed: 1952.81s. Estimated time remaining: 1556.85s\n",
            "DEBUG - Processing batch starting at index 111104. Sample text: i regret buying this game  an update just came out that pushed gb more of data onto the game that i ...\n"
          ]
        },
        {
          "name": "stderr",
          "output_type": "stream",
          "text": [
            "\rProcessing Batches:  56%|█████▌    | 218/390 [32:42<27:12,  9.49s/batch]"
          ]
        },
        {
          "name": "stdout",
          "output_type": "stream",
          "text": [
            "DEBUG - Batch sample output: Sentiment: 0, Confidence: 1.00\n",
            "Processed 111616/199235 reviews. Time elapsed: 1962.30s. Estimated time remaining: 1548.24s\n",
            "DEBUG - Processing batch starting at index 111616. Sample text: crashes alot and dev mode glitch after  hour of play means you lose all of your  multiplayer is bori...\n"
          ]
        },
        {
          "name": "stderr",
          "output_type": "stream",
          "text": [
            "\rProcessing Batches:  56%|█████▌    | 219/390 [32:51<27:03,  9.49s/batch]"
          ]
        },
        {
          "name": "stdout",
          "output_type": "stream",
          "text": [
            "DEBUG - Batch sample output: Sentiment: 0, Confidence: 1.00\n",
            "Processed 112128/199235 reviews. Time elapsed: 1971.80s. Estimated time remaining: 1539.62s\n",
            "DEBUG - Processing batch starting at index 112128. Sample text: this got boring after about  minutes gave it a try not at all like fighting the minions of hell more...\n"
          ]
        },
        {
          "name": "stderr",
          "output_type": "stream",
          "text": [
            "\rProcessing Batches:  56%|█████▋    | 220/390 [33:01<26:53,  9.49s/batch]"
          ]
        },
        {
          "name": "stdout",
          "output_type": "stream",
          "text": [
            "DEBUG - Batch sample output: Sentiment: 0, Confidence: 1.00\n",
            "Processed 112640/199235 reviews. Time elapsed: 1981.30s. Estimated time remaining: 1531.00s\n",
            "DEBUG - Processing batch starting at index 112640. Sample text: one of the best action and fps games i have played its fast paced violent and full of upgrades and s...\n"
          ]
        },
        {
          "name": "stderr",
          "output_type": "stream",
          "text": [
            "\rProcessing Batches:  57%|█████▋    | 221/390 [33:10<26:44,  9.49s/batch]"
          ]
        },
        {
          "name": "stdout",
          "output_type": "stream",
          "text": [
            "DEBUG - Batch sample output: Sentiment: 1, Confidence: 1.00\n",
            "Processed 113152/199235 reviews. Time elapsed: 1990.79s. Estimated time remaining: 1522.37s\n",
            "DEBUG - Processing batch starting at index 113152. Sample text: it feels like  again all i want to do is go home and play doom   id and bethesday bludgeoned this ga...\n"
          ]
        },
        {
          "name": "stderr",
          "output_type": "stream",
          "text": [
            "\rProcessing Batches:  57%|█████▋    | 222/390 [33:20<26:34,  9.49s/batch]"
          ]
        },
        {
          "name": "stdout",
          "output_type": "stream",
          "text": [
            "DEBUG - Batch sample output: Sentiment: 1, Confidence: 1.00\n",
            "Processed 113664/199235 reviews. Time elapsed: 2000.27s. Estimated time remaining: 1513.72s\n",
            "DEBUG - Processing batch starting at index 113664. Sample text: tightly designed meta systems that support the primary game loops of kill demons and explore levels ...\n"
          ]
        },
        {
          "name": "stderr",
          "output_type": "stream",
          "text": [
            "\rProcessing Batches:  57%|█████▋    | 223/390 [33:29<26:24,  9.49s/batch]"
          ]
        },
        {
          "name": "stdout",
          "output_type": "stream",
          "text": [
            "DEBUG - Batch sample output: Sentiment: 1, Confidence: 1.00\n",
            "Processed 114176/199235 reviews. Time elapsed: 2009.75s. Estimated time remaining: 1505.06s\n",
            "DEBUG - Processing batch starting at index 114176. Sample text: pros  soudtrack is an ear   chainsaw  shotguns  bfg  its ing doom  cons  you dont own it yet go buy ...\n"
          ]
        },
        {
          "name": "stderr",
          "output_type": "stream",
          "text": [
            "\rProcessing Batches:  57%|█████▋    | 224/390 [33:39<26:14,  9.49s/batch]"
          ]
        },
        {
          "name": "stdout",
          "output_type": "stream",
          "text": [
            "DEBUG - Batch sample output: Sentiment: 1, Confidence: 1.00\n",
            "Processed 114688/199235 reviews. Time elapsed: 2019.24s. Estimated time remaining: 1496.40s\n",
            "DEBUG - Processing batch starting at index 114688. Sample text: the game takes doom is fastpaced blood and gore doom s story telling and brutal dooms overthetop glo...\n"
          ]
        },
        {
          "name": "stderr",
          "output_type": "stream",
          "text": [
            "\rProcessing Batches:  58%|█████▊    | 225/390 [33:48<26:05,  9.49s/batch]"
          ]
        },
        {
          "name": "stdout",
          "output_type": "stream",
          "text": [
            "DEBUG - Batch sample output: Sentiment: 1, Confidence: 1.00\n",
            "Processed 115200/199235 reviews. Time elapsed: 2028.73s. Estimated time remaining: 1487.73s\n",
            "DEBUG - Processing batch starting at index 115200. Sample text: came for the graphics stayed for the amazing gameplay...\n"
          ]
        },
        {
          "name": "stderr",
          "output_type": "stream",
          "text": [
            "\rProcessing Batches:  58%|█████▊    | 226/390 [33:58<25:57,  9.49s/batch]"
          ]
        },
        {
          "name": "stdout",
          "output_type": "stream",
          "text": [
            "DEBUG - Batch sample output: Sentiment: 1, Confidence: 1.00\n",
            "Processed 115712/199235 reviews. Time elapsed: 2038.24s. Estimated time remaining: 1479.08s\n",
            "DEBUG - Processing batch starting at index 115712. Sample text: this isawesome...\n"
          ]
        },
        {
          "name": "stderr",
          "output_type": "stream",
          "text": [
            "\rProcessing Batches:  58%|█████▊    | 227/390 [34:07<25:47,  9.49s/batch]"
          ]
        },
        {
          "name": "stdout",
          "output_type": "stream",
          "text": [
            "DEBUG - Batch sample output: Sentiment: 1, Confidence: 1.00\n",
            "Processed 116224/199235 reviews. Time elapsed: 2047.72s. Estimated time remaining: 1470.39s\n",
            "DEBUG - Processing batch starting at index 116224. Sample text: an absolute thrill ride this is a must own for a  game a goty contender one of my favourites  this i...\n"
          ]
        },
        {
          "name": "stderr",
          "output_type": "stream",
          "text": [
            "\rProcessing Batches:  58%|█████▊    | 228/390 [34:17<25:37,  9.49s/batch]"
          ]
        },
        {
          "name": "stdout",
          "output_type": "stream",
          "text": [
            "DEBUG - Batch sample output: Sentiment: 1, Confidence: 1.00\n",
            "Processed 116736/199235 reviews. Time elapsed: 2057.21s. Estimated time remaining: 1461.70s\n",
            "DEBUG - Processing batch starting at index 116736. Sample text: the campaign is really good and the multiplayer is really fun...\n"
          ]
        },
        {
          "name": "stderr",
          "output_type": "stream",
          "text": [
            "\rProcessing Batches:  59%|█████▊    | 229/390 [34:26<25:27,  9.49s/batch]"
          ]
        },
        {
          "name": "stdout",
          "output_type": "stream",
          "text": [
            "DEBUG - Batch sample output: Sentiment: 1, Confidence: 1.00\n",
            "Processed 117248/199235 reviews. Time elapsed: 2066.70s. Estimated time remaining: 1453.01s\n",
            "DEBUG - Processing batch starting at index 117248. Sample text: phenominal game very reminiscant of the first two games very fast paced and gory highly recommended...\n"
          ]
        },
        {
          "name": "stderr",
          "output_type": "stream",
          "text": [
            "\rProcessing Batches:  59%|█████▉    | 230/390 [34:36<25:18,  9.49s/batch]"
          ]
        },
        {
          "name": "stdout",
          "output_type": "stream",
          "text": [
            "DEBUG - Batch sample output: Sentiment: 1, Confidence: 1.00\n",
            "Processed 117760/199235 reviews. Time elapsed: 2076.19s. Estimated time remaining: 1444.31s\n",
            "DEBUG - Processing batch starting at index 117760. Sample text: must play high contender for goty...\n"
          ]
        },
        {
          "name": "stderr",
          "output_type": "stream",
          "text": [
            "\rProcessing Batches:  59%|█████▉    | 231/390 [34:45<25:08,  9.49s/batch]"
          ]
        },
        {
          "name": "stdout",
          "output_type": "stream",
          "text": [
            "DEBUG - Batch sample output: Sentiment: 1, Confidence: 1.00\n",
            "Processed 118272/199235 reviews. Time elapsed: 2085.68s. Estimated time remaining: 1435.60s\n",
            "DEBUG - Processing batch starting at index 118272. Sample text: the feeling of being able to shoot up and yet smash its brains it why the hell not doom has always g...\n"
          ]
        },
        {
          "name": "stderr",
          "output_type": "stream",
          "text": [
            "\rProcessing Batches:  59%|█████▉    | 232/390 [34:55<24:59,  9.49s/batch]"
          ]
        },
        {
          "name": "stdout",
          "output_type": "stream",
          "text": [
            "DEBUG - Batch sample output: Sentiment: 1, Confidence: 1.00\n",
            "Processed 118784/199235 reviews. Time elapsed: 2095.17s. Estimated time remaining: 1426.88s\n",
            "DEBUG - Processing batch starting at index 118784. Sample text: i did this for a badge great game though inital load time is ridiculous but the game is slick...\n"
          ]
        },
        {
          "name": "stderr",
          "output_type": "stream",
          "text": [
            "\rProcessing Batches:  60%|█████▉    | 233/390 [35:04<24:49,  9.49s/batch]"
          ]
        },
        {
          "name": "stdout",
          "output_type": "stream",
          "text": [
            "DEBUG - Batch sample output: Sentiment: 1, Confidence: 1.00\n",
            "Processed 119296/199235 reviews. Time elapsed: 2104.65s. Estimated time remaining: 1418.15s\n",
            "DEBUG - Processing batch starting at index 119296. Sample text: if i could choose a soundtack to this game it would be let the bodies hit the floor on repeat...\n"
          ]
        },
        {
          "name": "stderr",
          "output_type": "stream",
          "text": [
            "\rProcessing Batches:  60%|██████    | 234/390 [35:14<24:39,  9.48s/batch]"
          ]
        },
        {
          "name": "stdout",
          "output_type": "stream",
          "text": [
            "DEBUG - Batch sample output: Sentiment: 0, Confidence: 1.00\n",
            "Processed 119808/199235 reviews. Time elapsed: 2114.12s. Estimated time remaining: 1409.42s\n",
            "DEBUG - Processing batch starting at index 119808. Sample text: absolutely love this new version of doom the graphics and music are outstanding cant wait for the ne...\n"
          ]
        },
        {
          "name": "stderr",
          "output_type": "stream",
          "text": [
            "\rProcessing Batches:  60%|██████    | 235/390 [35:23<24:29,  9.48s/batch]"
          ]
        },
        {
          "name": "stdout",
          "output_type": "stream",
          "text": [
            "DEBUG - Batch sample output: Sentiment: 1, Confidence: 1.00\n",
            "Processed 120320/199235 reviews. Time elapsed: 2123.61s. Estimated time remaining: 1400.68s\n",
            "DEBUG - Processing batch starting at index 120320. Sample text: i still can remmber sitting besides my father when he played the original doom guess it was the firs...\n"
          ]
        },
        {
          "name": "stderr",
          "output_type": "stream",
          "text": [
            "\rProcessing Batches:  61%|██████    | 236/390 [35:33<24:20,  9.48s/batch]"
          ]
        },
        {
          "name": "stdout",
          "output_type": "stream",
          "text": [
            "DEBUG - Batch sample output: Sentiment: 1, Confidence: 1.00\n",
            "Processed 120832/199235 reviews. Time elapsed: 2133.08s. Estimated time remaining: 1391.93s\n",
            "DEBUG - Processing batch starting at index 120832. Sample text: do you like to go through portals to hell and slay ing demons while listening to metal in your spare...\n"
          ]
        },
        {
          "name": "stderr",
          "output_type": "stream",
          "text": [
            "\rProcessing Batches:  61%|██████    | 237/390 [35:42<24:10,  9.48s/batch]"
          ]
        },
        {
          "name": "stdout",
          "output_type": "stream",
          "text": [
            "DEBUG - Batch sample output: Sentiment: 0, Confidence: 0.99\n",
            "Processed 121344/199235 reviews. Time elapsed: 2142.57s. Estimated time remaining: 1383.18s\n",
            "DEBUG - Processing batch starting at index 121344. Sample text: survival the only reason i bought multiplayer found out about and played way to much of singleplayer...\n"
          ]
        },
        {
          "name": "stderr",
          "output_type": "stream",
          "text": [
            "\rProcessing Batches:  61%|██████    | 238/390 [35:52<24:01,  9.48s/batch]"
          ]
        },
        {
          "name": "stdout",
          "output_type": "stream",
          "text": [
            "DEBUG - Batch sample output: Sentiment: 0, Confidence: 1.00\n",
            "Processed 121856/199235 reviews. Time elapsed: 2152.05s. Estimated time remaining: 1374.42s\n",
            "DEBUG - Processing batch starting at index 121856. Sample text: every year theres always new cod to be honest from infinity ward its still the same game they made a...\n"
          ]
        },
        {
          "name": "stderr",
          "output_type": "stream",
          "text": [
            "\rProcessing Batches:  61%|██████▏   | 239/390 [36:01<23:51,  9.48s/batch]"
          ]
        },
        {
          "name": "stdout",
          "output_type": "stream",
          "text": [
            "DEBUG - Batch sample output: Sentiment: 0, Confidence: 1.00\n",
            "Processed 122368/199235 reviews. Time elapsed: 2161.53s. Estimated time remaining: 1365.65s\n",
            "DEBUG - Processing batch starting at index 122368. Sample text: very good game   story   racism   play with more characters  good s graphics   u cant make headshots...\n"
          ]
        },
        {
          "name": "stderr",
          "output_type": "stream",
          "text": [
            "\rProcessing Batches:  62%|██████▏   | 240/390 [36:11<23:41,  9.48s/batch]"
          ]
        },
        {
          "name": "stdout",
          "output_type": "stream",
          "text": [
            "DEBUG - Batch sample output: Sentiment: 1, Confidence: 1.00\n",
            "Processed 122880/199235 reviews. Time elapsed: 2171.01s. Estimated time remaining: 1356.88s\n",
            "DEBUG - Processing batch starting at index 122880. Sample text: its not battlefield it does not require origin do you need any more reason to buy...\n"
          ]
        },
        {
          "name": "stderr",
          "output_type": "stream",
          "text": [
            "\rProcessing Batches:  62%|██████▏   | 241/390 [36:20<23:32,  9.48s/batch]"
          ]
        },
        {
          "name": "stdout",
          "output_type": "stream",
          "text": [
            "DEBUG - Batch sample output: Sentiment: 1, Confidence: 1.00\n",
            "Processed 123392/199235 reviews. Time elapsed: 2180.49s. Estimated time remaining: 1348.10s\n",
            "DEBUG - Processing batch starting at index 123392. Sample text: such lag  ing noob hackers everywhere if u r a low level u r  get black ops or world at war...\n"
          ]
        },
        {
          "name": "stderr",
          "output_type": "stream",
          "text": [
            "\rProcessing Batches:  62%|██████▏   | 242/390 [36:29<23:22,  9.48s/batch]"
          ]
        },
        {
          "name": "stdout",
          "output_type": "stream",
          "text": [
            "DEBUG - Batch sample output: Sentiment: 0, Confidence: 1.00\n",
            "Processed 123904/199235 reviews. Time elapsed: 2189.97s. Estimated time remaining: 1339.32s\n",
            "DEBUG - Processing batch starting at index 123904. Sample text: my favourite game...\n"
          ]
        },
        {
          "name": "stderr",
          "output_type": "stream",
          "text": [
            "\rProcessing Batches:  62%|██████▏   | 243/390 [36:39<23:13,  9.48s/batch]"
          ]
        },
        {
          "name": "stdout",
          "output_type": "stream",
          "text": [
            "DEBUG - Batch sample output: Sentiment: 1, Confidence: 1.00\n",
            "Processed 124416/199235 reviews. Time elapsed: 2199.44s. Estimated time remaining: 1330.53s\n",
            "DEBUG - Processing batch starting at index 124416. Sample text: the best multiplayer of mw series...\n"
          ]
        },
        {
          "name": "stderr",
          "output_type": "stream",
          "text": [
            "\rProcessing Batches:  63%|██████▎   | 244/390 [36:48<23:03,  9.48s/batch]"
          ]
        },
        {
          "name": "stdout",
          "output_type": "stream",
          "text": [
            "DEBUG - Batch sample output: Sentiment: 1, Confidence: 1.00\n",
            "Processed 124928/199235 reviews. Time elapsed: 2208.91s. Estimated time remaining: 1321.73s\n",
            "DEBUG - Processing batch starting at index 124928. Sample text: worste cod ever made...\n"
          ]
        },
        {
          "name": "stderr",
          "output_type": "stream",
          "text": [
            "\rProcessing Batches:  63%|██████▎   | 245/390 [36:56<21:29,  8.89s/batch]"
          ]
        },
        {
          "name": "stdout",
          "output_type": "stream",
          "text": [
            "DEBUG - Batch sample output: Sentiment: 1, Confidence: 1.00\n",
            "Processed 125440/199235 reviews. Time elapsed: 2216.44s. Estimated time remaining: 1311.77s\n",
            "DEBUG - Processing batch starting at index 125440. Sample text: love it my fave ...\n"
          ]
        },
        {
          "name": "stderr",
          "output_type": "stream",
          "text": [
            "\rProcessing Batches:  63%|██████▎   | 246/390 [37:05<21:45,  9.07s/batch]"
          ]
        },
        {
          "name": "stdout",
          "output_type": "stream",
          "text": [
            "DEBUG - Batch sample output: Sentiment: 1, Confidence: 1.00\n",
            "Processed 125952/199235 reviews. Time elapsed: 2225.92s. Estimated time remaining: 1302.98s\n",
            "DEBUG - Processing batch starting at index 125952. Sample text: what more to say grab this while its hot...\n"
          ]
        },
        {
          "name": "stderr",
          "output_type": "stream",
          "text": [
            "\rProcessing Batches:  63%|██████▎   | 247/390 [37:15<21:54,  9.19s/batch]"
          ]
        },
        {
          "name": "stdout",
          "output_type": "stream",
          "text": [
            "DEBUG - Batch sample output: Sentiment: 1, Confidence: 1.00\n",
            "Processed 126464/199235 reviews. Time elapsed: 2235.40s. Estimated time remaining: 1294.18s\n",
            "DEBUG - Processing batch starting at index 126464. Sample text: according to the us foreign service institute it takes approximately  hours to acquire advanced prof...\n"
          ]
        },
        {
          "name": "stderr",
          "output_type": "stream",
          "text": [
            "\rProcessing Batches:  64%|██████▎   | 248/390 [37:24<21:58,  9.28s/batch]"
          ]
        },
        {
          "name": "stdout",
          "output_type": "stream",
          "text": [
            "DEBUG - Batch sample output: Sentiment: 0, Confidence: 1.00\n",
            "Processed 126976/199235 reviews. Time elapsed: 2244.90s. Estimated time remaining: 1285.38s\n",
            "DEBUG - Processing batch starting at index 126976. Sample text: i have years of dota im sure youve played warcraft  and theres a big chance you played the map dota ...\n"
          ]
        },
        {
          "name": "stderr",
          "output_type": "stream",
          "text": [
            "\rProcessing Batches:  64%|██████▍   | 249/390 [37:34<21:57,  9.34s/batch]"
          ]
        },
        {
          "name": "stdout",
          "output_type": "stream",
          "text": [
            "DEBUG - Batch sample output: Sentiment: 1, Confidence: 0.99\n",
            "Processed 127488/199235 reviews. Time elapsed: 2254.38s. Estimated time remaining: 1276.58s\n",
            "DEBUG - Processing batch starting at index 127488. Sample text: i started playing dota  around  years ago at that time it was still at beta and i would never have e...\n"
          ]
        },
        {
          "name": "stderr",
          "output_type": "stream",
          "text": [
            "\rProcessing Batches:  64%|██████▍   | 250/390 [37:43<21:53,  9.38s/batch]"
          ]
        },
        {
          "name": "stdout",
          "output_type": "stream",
          "text": [
            "DEBUG - Batch sample output: Sentiment: 1, Confidence: 1.00\n",
            "Processed 128000/199235 reviews. Time elapsed: 2263.86s. Estimated time remaining: 1267.76s\n",
            "DEBUG - Processing batch starting at index 128000. Sample text: great game its essientally a language simulator mixed in with a moba honestly within  hours of gamet...\n"
          ]
        },
        {
          "name": "stderr",
          "output_type": "stream",
          "text": [
            "\rProcessing Batches:  64%|██████▍   | 251/390 [37:53<21:48,  9.41s/batch]"
          ]
        },
        {
          "name": "stdout",
          "output_type": "stream",
          "text": [
            "DEBUG - Batch sample output: Sentiment: 1, Confidence: 1.00\n",
            "Processed 128512/199235 reviews. Time elapsed: 2273.35s. Estimated time remaining: 1258.94s\n",
            "DEBUG - Processing batch starting at index 128512. Sample text: play dota helps you take out frustation on others  it is epic ...\n"
          ]
        },
        {
          "name": "stderr",
          "output_type": "stream",
          "text": [
            "\rProcessing Batches:  65%|██████▍   | 252/390 [38:01<20:47,  9.04s/batch]"
          ]
        },
        {
          "name": "stdout",
          "output_type": "stream",
          "text": [
            "DEBUG - Batch sample output: Sentiment: 1, Confidence: 1.00\n",
            "Processed 129024/199235 reviews. Time elapsed: 2281.51s. Estimated time remaining: 1249.40s\n",
            "DEBUG - Processing batch starting at index 129024. Sample text: is a nice game   ...\n"
          ]
        },
        {
          "name": "stderr",
          "output_type": "stream",
          "text": [
            "\rProcessing Batches:  65%|██████▍   | 253/390 [38:10<20:56,  9.17s/batch]"
          ]
        },
        {
          "name": "stdout",
          "output_type": "stream",
          "text": [
            "DEBUG - Batch sample output: Sentiment: 1, Confidence: 1.00\n",
            "Processed 129536/199235 reviews. Time elapsed: 2290.99s. Estimated time remaining: 1240.57s\n",
            "DEBUG - Processing batch starting at index 129536. Sample text: how to trade the item  some one tell me...\n"
          ]
        },
        {
          "name": "stderr",
          "output_type": "stream",
          "text": [
            "\rProcessing Batches:  65%|██████▌   | 254/390 [38:20<20:59,  9.26s/batch]"
          ]
        },
        {
          "name": "stdout",
          "output_type": "stream",
          "text": [
            "DEBUG - Batch sample output: Sentiment: 0, Confidence: 0.99\n",
            "Processed 130048/199235 reviews. Time elapsed: 2300.47s. Estimated time remaining: 1231.75s\n",
            "DEBUG - Processing batch starting at index 130048. Sample text: if you want torture yourself the most cruelest way possible in videogame history this is the perfect...\n"
          ]
        },
        {
          "name": "stderr",
          "output_type": "stream",
          "text": [
            "\rProcessing Batches:  65%|██████▌   | 255/390 [38:29<20:59,  9.33s/batch]"
          ]
        },
        {
          "name": "stdout",
          "output_type": "stream",
          "text": [
            "DEBUG - Batch sample output: Sentiment: 1, Confidence: 1.00\n",
            "Processed 130560/199235 reviews. Time elapsed: 2309.94s. Estimated time remaining: 1222.91s\n",
            "DEBUG - Processing batch starting at index 130560. Sample text: this game is too addictinghaha...\n"
          ]
        },
        {
          "name": "stderr",
          "output_type": "stream",
          "text": [
            "\rProcessing Batches:  66%|██████▌   | 256/390 [38:39<20:55,  9.37s/batch]"
          ]
        },
        {
          "name": "stdout",
          "output_type": "stream",
          "text": [
            "DEBUG - Batch sample output: Sentiment: 1, Confidence: 1.00\n",
            "Processed 131072/199235 reviews. Time elapsed: 2319.42s. Estimated time remaining: 1214.07s\n",
            "DEBUG - Processing batch starting at index 131072. Sample text: its a good game and i had such a great time playing it...\n"
          ]
        },
        {
          "name": "stderr",
          "output_type": "stream",
          "text": [
            "\rProcessing Batches:  66%|██████▌   | 257/390 [38:48<20:50,  9.40s/batch]"
          ]
        },
        {
          "name": "stdout",
          "output_type": "stream",
          "text": [
            "DEBUG - Batch sample output: Sentiment: 1, Confidence: 1.00\n",
            "Processed 131584/199235 reviews. Time elapsed: 2328.89s. Estimated time remaining: 1205.23s\n",
            "DEBUG - Processing batch starting at index 131584. Sample text: its a pretty fun strategy game with a wide variety of items and character you wont get sick of it ve...\n"
          ]
        },
        {
          "name": "stderr",
          "output_type": "stream",
          "text": [
            "\rProcessing Batches:  66%|██████▌   | 258/390 [38:58<20:43,  9.42s/batch]"
          ]
        },
        {
          "name": "stdout",
          "output_type": "stream",
          "text": [
            "DEBUG - Batch sample output: Sentiment: 1, Confidence: 1.00\n",
            "Processed 132096/199235 reviews. Time elapsed: 2338.37s. Estimated time remaining: 1196.37s\n",
            "DEBUG - Processing batch starting at index 132096. Sample text: i like this game i addicted this game because it is awesome...\n"
          ]
        },
        {
          "name": "stderr",
          "output_type": "stream",
          "text": [
            "\rProcessing Batches:  66%|██████▋   | 259/390 [39:07<20:36,  9.44s/batch]"
          ]
        },
        {
          "name": "stdout",
          "output_type": "stream",
          "text": [
            "DEBUG - Batch sample output: Sentiment: 1, Confidence: 1.00\n",
            "Processed 132608/199235 reviews. Time elapsed: 2347.84s. Estimated time remaining: 1187.52s\n",
            "DEBUG - Processing batch starting at index 132608. Sample text: dota  is really worth the patience you need at the beginning you will get to know the mechanics hero...\n"
          ]
        },
        {
          "name": "stderr",
          "output_type": "stream",
          "text": [
            "\rProcessing Batches:  67%|██████▋   | 260/390 [39:17<20:28,  9.45s/batch]"
          ]
        },
        {
          "name": "stdout",
          "output_type": "stream",
          "text": [
            "DEBUG - Batch sample output: Sentiment: 1, Confidence: 1.00\n",
            "Processed 133120/199235 reviews. Time elapsed: 2357.32s. Estimated time remaining: 1178.66s\n",
            "DEBUG - Processing batch starting at index 133120. Sample text: this my game...\n"
          ]
        },
        {
          "name": "stderr",
          "output_type": "stream",
          "text": [
            "\rProcessing Batches:  67%|██████▋   | 261/390 [39:26<20:20,  9.46s/batch]"
          ]
        },
        {
          "name": "stdout",
          "output_type": "stream",
          "text": [
            "DEBUG - Batch sample output: Sentiment: 1, Confidence: 1.00\n",
            "Processed 133632/199235 reviews. Time elapsed: 2366.80s. Estimated time remaining: 1169.80s\n",
            "DEBUG - Processing batch starting at index 133632. Sample text: amazing game  i learned to be a better person while playing this game lol jk the things i actually l...\n"
          ]
        },
        {
          "name": "stderr",
          "output_type": "stream",
          "text": [
            "\rProcessing Batches:  67%|██████▋   | 262/390 [39:36<20:11,  9.47s/batch]"
          ]
        },
        {
          "name": "stdout",
          "output_type": "stream",
          "text": [
            "DEBUG - Batch sample output: Sentiment: 1, Confidence: 1.00\n",
            "Processed 134144/199235 reviews. Time elapsed: 2376.29s. Estimated time remaining: 1160.93s\n",
            "DEBUG - Processing batch starting at index 134144. Sample text: the game where each child has an oportunity to meat there father and find out in all the little deta...\n"
          ]
        },
        {
          "name": "stderr",
          "output_type": "stream",
          "text": [
            "\rProcessing Batches:  67%|██████▋   | 263/390 [39:45<20:02,  9.47s/batch]"
          ]
        },
        {
          "name": "stdout",
          "output_type": "stream",
          "text": [
            "DEBUG - Batch sample output: Sentiment: 1, Confidence: 1.00\n",
            "Processed 134656/199235 reviews. Time elapsed: 2385.76s. Estimated time remaining: 1152.06s\n",
            "DEBUG - Processing batch starting at index 134656. Sample text: dota   too laggy   monkey king  nice  map defaced    shop interface sucks...\n"
          ]
        },
        {
          "name": "stderr",
          "output_type": "stream",
          "text": [
            "\rProcessing Batches:  68%|██████▊   | 264/390 [39:55<19:53,  9.47s/batch]"
          ]
        },
        {
          "name": "stdout",
          "output_type": "stream",
          "text": [
            "DEBUG - Batch sample output: Sentiment: 0, Confidence: 1.00\n",
            "Processed 135168/199235 reviews. Time elapsed: 2395.24s. Estimated time remaining: 1143.18s\n",
            "DEBUG - Processing batch starting at index 135168. Sample text: use your time to do something meaningful in life this game only hinders your future...\n"
          ]
        },
        {
          "name": "stderr",
          "output_type": "stream",
          "text": [
            "\rProcessing Batches:  68%|██████▊   | 265/390 [40:04<19:44,  9.47s/batch]"
          ]
        },
        {
          "name": "stdout",
          "output_type": "stream",
          "text": [
            "DEBUG - Batch sample output: Sentiment: 0, Confidence: 1.00\n",
            "Processed 135680/199235 reviews. Time elapsed: 2404.72s. Estimated time remaining: 1134.30s\n",
            "DEBUG - Processing batch starting at index 135680. Sample text: do you have  hours to devote to learning a game and ascending to the fabled arts competitive  this i...\n"
          ]
        },
        {
          "name": "stderr",
          "output_type": "stream",
          "text": [
            "\rProcessing Batches:  68%|██████▊   | 266/390 [40:14<19:35,  9.48s/batch]"
          ]
        },
        {
          "name": "stdout",
          "output_type": "stream",
          "text": [
            "DEBUG - Batch sample output: Sentiment: 1, Confidence: 1.00\n",
            "Processed 136192/199235 reviews. Time elapsed: 2414.20s. Estimated time remaining: 1125.42s\n",
            "DEBUG - Processing batch starting at index 136192. Sample text: very important game to me  nice...\n"
          ]
        },
        {
          "name": "stderr",
          "output_type": "stream",
          "text": [
            "\rProcessing Batches:  68%|██████▊   | 267/390 [40:23<19:07,  9.33s/batch]"
          ]
        },
        {
          "name": "stdout",
          "output_type": "stream",
          "text": [
            "DEBUG - Batch sample output: Sentiment: 1, Confidence: 1.00\n",
            "Processed 136704/199235 reviews. Time elapsed: 2423.17s. Estimated time remaining: 1116.29s\n",
            "DEBUG - Processing batch starting at index 136704. Sample text: such game much heroes wow...\n"
          ]
        },
        {
          "name": "stderr",
          "output_type": "stream",
          "text": [
            "\rProcessing Batches:  69%|██████▊   | 268/390 [40:32<19:03,  9.37s/batch]"
          ]
        },
        {
          "name": "stdout",
          "output_type": "stream",
          "text": [
            "DEBUG - Batch sample output: Sentiment: 1, Confidence: 0.99\n",
            "Processed 137216/199235 reviews. Time elapsed: 2432.65s. Estimated time remaining: 1107.40s\n",
            "DEBUG - Processing batch starting at index 137216. Sample text: must play ...\n"
          ]
        },
        {
          "name": "stderr",
          "output_type": "stream",
          "text": [
            "\rProcessing Batches:  69%|██████▉   | 269/390 [40:41<18:39,  9.25s/batch]"
          ]
        },
        {
          "name": "stdout",
          "output_type": "stream",
          "text": [
            "DEBUG - Batch sample output: Sentiment: 1, Confidence: 1.00\n",
            "Processed 137728/199235 reviews. Time elapsed: 2441.62s. Estimated time remaining: 1098.28s\n",
            "DEBUG - Processing batch starting at index 137728. Sample text: do not call yourself as a gamer if you never play this game ...\n"
          ]
        },
        {
          "name": "stderr",
          "output_type": "stream",
          "text": [
            "\rProcessing Batches:  69%|██████▉   | 270/390 [40:48<17:17,  8.65s/batch]"
          ]
        },
        {
          "name": "stdout",
          "output_type": "stream",
          "text": [
            "DEBUG - Batch sample output: Sentiment: 0, Confidence: 1.00\n",
            "Processed 138240/199235 reviews. Time elapsed: 2448.87s. Estimated time remaining: 1088.39s\n",
            "DEBUG - Processing batch starting at index 138240. Sample text: this game is so awesome i would rather play this game al night than playing with my girlfriend...\n"
          ]
        },
        {
          "name": "stderr",
          "output_type": "stream",
          "text": [
            "\rProcessing Batches:  69%|██████▉   | 271/390 [40:58<17:38,  8.90s/batch]"
          ]
        },
        {
          "name": "stdout",
          "output_type": "stream",
          "text": [
            "DEBUG - Batch sample output: Sentiment: 1, Confidence: 1.00\n",
            "Processed 138752/199235 reviews. Time elapsed: 2458.34s. Estimated time remaining: 1079.49s\n",
            "DEBUG - Processing batch starting at index 138752. Sample text: its good game...\n"
          ]
        },
        {
          "name": "stderr",
          "output_type": "stream",
          "text": [
            "\rProcessing Batches:  70%|██████▉   | 272/390 [41:07<17:50,  9.07s/batch]"
          ]
        },
        {
          "name": "stdout",
          "output_type": "stream",
          "text": [
            "DEBUG - Batch sample output: Sentiment: 1, Confidence: 1.00\n",
            "Processed 139264/199235 reviews. Time elapsed: 2467.81s. Estimated time remaining: 1070.59s\n",
            "DEBUG - Processing batch starting at index 139264. Sample text: check it outd ...\n"
          ]
        },
        {
          "name": "stderr",
          "output_type": "stream",
          "text": [
            "\rProcessing Batches:  70%|███████   | 273/390 [41:17<17:55,  9.19s/batch]"
          ]
        },
        {
          "name": "stdout",
          "output_type": "stream",
          "text": [
            "DEBUG - Batch sample output: Sentiment: 1, Confidence: 1.00\n",
            "Processed 139776/199235 reviews. Time elapsed: 2477.28s. Estimated time remaining: 1061.69s\n",
            "DEBUG - Processing batch starting at index 139776. Sample text: i love to read dota ingame walk through...\n"
          ]
        },
        {
          "name": "stderr",
          "output_type": "stream",
          "text": [
            "\rProcessing Batches:  70%|███████   | 274/390 [41:26<17:56,  9.28s/batch]"
          ]
        },
        {
          "name": "stdout",
          "output_type": "stream",
          "text": [
            "DEBUG - Batch sample output: Sentiment: 1, Confidence: 1.00\n",
            "Processed 140288/199235 reviews. Time elapsed: 2486.76s. Estimated time remaining: 1052.79s\n",
            "DEBUG - Processing batch starting at index 140288. Sample text: a great game that is quite enjoyable its main downsides is its community sometimes and its somewhat ...\n"
          ]
        },
        {
          "name": "stderr",
          "output_type": "stream",
          "text": [
            "\rProcessing Batches:  71%|███████   | 275/390 [41:36<17:53,  9.34s/batch]"
          ]
        },
        {
          "name": "stdout",
          "output_type": "stream",
          "text": [
            "DEBUG - Batch sample output: Sentiment: 1, Confidence: 1.00\n",
            "Processed 140800/199235 reviews. Time elapsed: 2496.23s. Estimated time remaining: 1043.88s\n",
            "DEBUG - Processing batch starting at index 140800. Sample text: sorry m noob...\n"
          ]
        },
        {
          "name": "stderr",
          "output_type": "stream",
          "text": [
            "\rProcessing Batches:  71%|███████   | 276/390 [41:45<17:29,  9.21s/batch]"
          ]
        },
        {
          "name": "stdout",
          "output_type": "stream",
          "text": [
            "DEBUG - Batch sample output: Sentiment: 0, Confidence: 0.99\n",
            "Processed 141312/199235 reviews. Time elapsed: 2505.14s. Estimated time remaining: 1034.73s\n",
            "DEBUG - Processing batch starting at index 141312. Sample text: i have been playing heroes of newerth for some time now and never really gave dota a chance but late...\n"
          ]
        },
        {
          "name": "stderr",
          "output_type": "stream",
          "text": [
            "\rProcessing Batches:  71%|███████   | 277/390 [41:54<17:29,  9.29s/batch]"
          ]
        },
        {
          "name": "stdout",
          "output_type": "stream",
          "text": [
            "DEBUG - Batch sample output: Sentiment: 1, Confidence: 1.00\n",
            "Processed 141824/199235 reviews. Time elapsed: 2514.61s. Estimated time remaining: 1025.82s\n",
            "DEBUG - Processing batch starting at index 141824. Sample text: will take over your lifeor take over dota your choice...\n"
          ]
        },
        {
          "name": "stderr",
          "output_type": "stream",
          "text": [
            "\rProcessing Batches:  71%|███████▏  | 278/390 [42:04<17:26,  9.34s/batch]"
          ]
        },
        {
          "name": "stdout",
          "output_type": "stream",
          "text": [
            "DEBUG - Batch sample output: Sentiment: 1, Confidence: 0.99\n",
            "Processed 142336/199235 reviews. Time elapsed: 2524.09s. Estimated time remaining: 1016.90s\n",
            "DEBUG - Processing batch starting at index 142336. Sample text: good game many heroes to choose from and cool sprites for the heroes...\n"
          ]
        },
        {
          "name": "stderr",
          "output_type": "stream",
          "text": [
            "\rProcessing Batches:  72%|███████▏  | 279/390 [42:13<17:21,  9.38s/batch]"
          ]
        },
        {
          "name": "stdout",
          "output_type": "stream",
          "text": [
            "DEBUG - Batch sample output: Sentiment: 1, Confidence: 1.00\n",
            "Processed 142848/199235 reviews. Time elapsed: 2533.56s. Estimated time remaining: 1007.98s\n",
            "DEBUG - Processing batch starting at index 142848. Sample text: good and interesting game...\n"
          ]
        },
        {
          "name": "stderr",
          "output_type": "stream",
          "text": [
            "\rProcessing Batches:  72%|███████▏  | 280/390 [42:23<17:15,  9.41s/batch]"
          ]
        },
        {
          "name": "stdout",
          "output_type": "stream",
          "text": [
            "DEBUG - Batch sample output: Sentiment: 1, Confidence: 1.00\n",
            "Processed 143360/199235 reviews. Time elapsed: 2543.04s. Estimated time remaining: 999.05s\n",
            "DEBUG - Processing batch starting at index 143360. Sample text: play at your own risk very addictive...\n"
          ]
        },
        {
          "name": "stderr",
          "output_type": "stream",
          "text": [
            "\rProcessing Batches:  72%|███████▏  | 281/390 [42:32<17:07,  9.43s/batch]"
          ]
        },
        {
          "name": "stdout",
          "output_type": "stream",
          "text": [
            "DEBUG - Batch sample output: Sentiment: 1, Confidence: 1.00\n",
            "Processed 143872/199235 reviews. Time elapsed: 2552.51s. Estimated time remaining: 990.12s\n",
            "DEBUG - Processing batch starting at index 143872. Sample text: girls can play dota too...\n"
          ]
        },
        {
          "name": "stderr",
          "output_type": "stream",
          "text": [
            "\rProcessing Batches:  72%|███████▏  | 282/390 [42:41<16:59,  9.44s/batch]"
          ]
        },
        {
          "name": "stdout",
          "output_type": "stream",
          "text": [
            "DEBUG - Batch sample output: Sentiment: 1, Confidence: 1.00\n",
            "Processed 144384/199235 reviews. Time elapsed: 2561.98s. Estimated time remaining: 981.19s\n",
            "DEBUG - Processing batch starting at index 144384. Sample text: pls delete lol and play this one it will be worth it...\n"
          ]
        },
        {
          "name": "stderr",
          "output_type": "stream",
          "text": [
            "\rProcessing Batches:  73%|███████▎  | 283/390 [42:51<16:51,  9.46s/batch]"
          ]
        },
        {
          "name": "stdout",
          "output_type": "stream",
          "text": [
            "DEBUG - Batch sample output: Sentiment: 1, Confidence: 1.00\n",
            "Processed 144896/199235 reviews. Time elapsed: 2571.47s. Estimated time remaining: 972.25s\n",
            "DEBUG - Processing batch starting at index 144896. Sample text: good graphics and easy to understand it also improve your strategical and analytical skills while pl...\n"
          ]
        },
        {
          "name": "stderr",
          "output_type": "stream",
          "text": [
            "\rProcessing Batches:  73%|███████▎  | 284/390 [43:00<16:42,  9.46s/batch]"
          ]
        },
        {
          "name": "stdout",
          "output_type": "stream",
          "text": [
            "DEBUG - Batch sample output: Sentiment: 1, Confidence: 1.00\n",
            "Processed 145408/199235 reviews. Time elapsed: 2580.95s. Estimated time remaining: 963.31s\n",
            "DEBUG - Processing batch starting at index 145408. Sample text: dota  is popular freetoplay game by valve its fanbase is huge with an average of  players online at ...\n"
          ]
        },
        {
          "name": "stderr",
          "output_type": "stream",
          "text": [
            "\rProcessing Batches:  73%|███████▎  | 285/390 [43:10<16:34,  9.47s/batch]"
          ]
        },
        {
          "name": "stdout",
          "output_type": "stream",
          "text": [
            "DEBUG - Batch sample output: Sentiment: 1, Confidence: 1.00\n",
            "Processed 145920/199235 reviews. Time elapsed: 2590.43s. Estimated time remaining: 954.37s\n",
            "DEBUG - Processing batch starting at index 145920. Sample text: its nice...\n"
          ]
        },
        {
          "name": "stderr",
          "output_type": "stream",
          "text": [
            "\rProcessing Batches:  73%|███████▎  | 286/390 [43:19<16:20,  9.43s/batch]"
          ]
        },
        {
          "name": "stdout",
          "output_type": "stream",
          "text": [
            "DEBUG - Batch sample output: Sentiment: 1, Confidence: 1.00\n",
            "Processed 146432/199235 reviews. Time elapsed: 2599.76s. Estimated time remaining: 945.37s\n",
            "DEBUG - Processing batch starting at index 146432. Sample text: nice game...\n"
          ]
        },
        {
          "name": "stderr",
          "output_type": "stream",
          "text": [
            "\rProcessing Batches:  74%|███████▎  | 287/390 [43:29<16:12,  9.44s/batch]"
          ]
        },
        {
          "name": "stdout",
          "output_type": "stream",
          "text": [
            "DEBUG - Batch sample output: Sentiment: 1, Confidence: 1.00\n",
            "Processed 146944/199235 reviews. Time elapsed: 2609.23s. Estimated time remaining: 936.41s\n",
            "DEBUG - Processing batch starting at index 146944. Sample text: if your looking for a review on this game youve come to the wrong place but if your looking for an o...\n"
          ]
        },
        {
          "name": "stderr",
          "output_type": "stream",
          "text": [
            "\rProcessing Batches:  74%|███████▍  | 288/390 [43:38<16:03,  9.45s/batch]"
          ]
        },
        {
          "name": "stdout",
          "output_type": "stream",
          "text": [
            "DEBUG - Batch sample output: Sentiment: 1, Confidence: 1.00\n",
            "Processed 147456/199235 reviews. Time elapsed: 2618.70s. Estimated time remaining: 927.46s\n",
            "DEBUG - Processing batch starting at index 147456. Sample text:  would play again...\n"
          ]
        },
        {
          "name": "stderr",
          "output_type": "stream",
          "text": [
            "\rProcessing Batches:  74%|███████▍  | 289/390 [43:48<15:55,  9.46s/batch]"
          ]
        },
        {
          "name": "stdout",
          "output_type": "stream",
          "text": [
            "DEBUG - Batch sample output: Sentiment: 1, Confidence: 0.99\n",
            "Processed 147968/199235 reviews. Time elapsed: 2628.18s. Estimated time remaining: 918.50s\n",
            "DEBUG - Processing batch starting at index 147968. Sample text: people will cal you noobs hahaha trust me itll happen xd...\n"
          ]
        },
        {
          "name": "stderr",
          "output_type": "stream",
          "text": [
            "\rProcessing Batches:  74%|███████▍  | 290/390 [43:57<15:46,  9.46s/batch]"
          ]
        },
        {
          "name": "stdout",
          "output_type": "stream",
          "text": [
            "DEBUG - Batch sample output: Sentiment: 0, Confidence: 0.99\n",
            "Processed 148480/199235 reviews. Time elapsed: 2637.65s. Estimated time remaining: 909.53s\n",
            "DEBUG - Processing batch starting at index 148480. Sample text: i love to play dota and this is the nice version of it...\n"
          ]
        },
        {
          "name": "stderr",
          "output_type": "stream",
          "text": [
            "\rProcessing Batches:  75%|███████▍  | 291/390 [44:07<15:37,  9.47s/batch]"
          ]
        },
        {
          "name": "stdout",
          "output_type": "stream",
          "text": [
            "DEBUG - Batch sample output: Sentiment: 1, Confidence: 1.00\n",
            "Processed 148992/199235 reviews. Time elapsed: 2647.13s. Estimated time remaining: 900.57s\n",
            "DEBUG - Processing batch starting at index 148992. Sample text: an excellent sequal it has the same fantastic gameplay mechanics as the first with some welcomed new...\n"
          ]
        },
        {
          "name": "stderr",
          "output_type": "stream",
          "text": [
            "\rProcessing Batches:  75%|███████▍  | 292/390 [44:16<15:28,  9.47s/batch]"
          ]
        },
        {
          "name": "stdout",
          "output_type": "stream",
          "text": [
            "DEBUG - Batch sample output: Sentiment: 1, Confidence: 1.00\n",
            "Processed 149504/199235 reviews. Time elapsed: 2656.60s. Estimated time remaining: 891.60s\n",
            "DEBUG - Processing batch starting at index 149504. Sample text:  ...\n"
          ]
        },
        {
          "name": "stderr",
          "output_type": "stream",
          "text": [
            "\rProcessing Batches:  75%|███████▌  | 293/390 [44:26<15:27,  9.56s/batch]"
          ]
        },
        {
          "name": "stdout",
          "output_type": "stream",
          "text": [
            "DEBUG - Batch sample output: Sentiment: 1, Confidence: 0.97\n",
            "Processed 150016/199235 reviews. Time elapsed: 2666.38s. Estimated time remaining: 882.73s\n",
            "DEBUG - Processing batch starting at index 150016. Sample text: preparing you for life...\n"
          ]
        },
        {
          "name": "stderr",
          "output_type": "stream",
          "text": [
            "\rProcessing Batches:  75%|███████▌  | 294/390 [44:35<15:15,  9.53s/batch]"
          ]
        },
        {
          "name": "stdout",
          "output_type": "stream",
          "text": [
            "DEBUG - Batch sample output: Sentiment: 1, Confidence: 1.00\n",
            "Processed 150528/199235 reviews. Time elapsed: 2675.85s. Estimated time remaining: 873.75s\n",
            "DEBUG - Processing batch starting at index 150528. Sample text: ruined my life ...\n"
          ]
        },
        {
          "name": "stderr",
          "output_type": "stream",
          "text": [
            "\rProcessing Batches:  76%|███████▌  | 295/390 [44:45<15:04,  9.52s/batch]"
          ]
        },
        {
          "name": "stdout",
          "output_type": "stream",
          "text": [
            "DEBUG - Batch sample output: Sentiment: 0, Confidence: 1.00\n",
            "Processed 151040/199235 reviews. Time elapsed: 2685.32s. Estimated time remaining: 864.77s\n",
            "DEBUG - Processing batch starting at index 151040. Sample text: its a very fun game addictive...\n"
          ]
        },
        {
          "name": "stderr",
          "output_type": "stream",
          "text": [
            "\rProcessing Batches:  76%|███████▌  | 296/390 [44:54<14:53,  9.50s/batch]"
          ]
        },
        {
          "name": "stdout",
          "output_type": "stream",
          "text": [
            "DEBUG - Batch sample output: Sentiment: 1, Confidence: 1.00\n",
            "Processed 151552/199235 reviews. Time elapsed: 2694.80s. Estimated time remaining: 855.78s\n",
            "DEBUG - Processing batch starting at index 151552. Sample text: this game made me hate russians...\n"
          ]
        },
        {
          "name": "stderr",
          "output_type": "stream",
          "text": [
            "\rProcessing Batches:  76%|███████▌  | 297/390 [45:01<13:27,  8.69s/batch]"
          ]
        },
        {
          "name": "stdout",
          "output_type": "stream",
          "text": [
            "DEBUG - Batch sample output: Sentiment: 0, Confidence: 1.00\n",
            "Processed 152064/199235 reviews. Time elapsed: 2701.58s. Estimated time remaining: 845.95s\n",
            "DEBUG - Processing batch starting at index 152064. Sample text: what am i doing with my life...\n"
          ]
        },
        {
          "name": "stderr",
          "output_type": "stream",
          "text": [
            "\rProcessing Batches:  76%|███████▋  | 298/390 [45:11<13:40,  8.92s/batch]"
          ]
        },
        {
          "name": "stdout",
          "output_type": "stream",
          "text": [
            "DEBUG - Batch sample output: Sentiment: 0, Confidence: 1.00\n",
            "Processed 152576/199235 reviews. Time elapsed: 2711.05s. Estimated time remaining: 836.97s\n",
            "DEBUG - Processing batch starting at index 152576. Sample text: mepo is the best...\n"
          ]
        },
        {
          "name": "stderr",
          "output_type": "stream",
          "text": [
            "\rProcessing Batches:  77%|███████▋  | 299/390 [45:19<13:08,  8.67s/batch]"
          ]
        },
        {
          "name": "stdout",
          "output_type": "stream",
          "text": [
            "DEBUG - Batch sample output: Sentiment: 1, Confidence: 1.00\n",
            "Processed 153088/199235 reviews. Time elapsed: 2719.11s. Estimated time remaining: 827.56s\n",
            "DEBUG - Processing batch starting at index 153088. Sample text: dota is a fun and exciting game to play...\n"
          ]
        },
        {
          "name": "stderr",
          "output_type": "stream",
          "text": [
            "\rProcessing Batches:  77%|███████▋  | 300/390 [45:28<13:16,  8.85s/batch]"
          ]
        },
        {
          "name": "stdout",
          "output_type": "stream",
          "text": [
            "DEBUG - Batch sample output: Sentiment: 1, Confidence: 1.00\n",
            "Processed 153600/199235 reviews. Time elapsed: 2728.38s. Estimated time remaining: 818.52s\n",
            "DEBUG - Processing batch starting at index 153600. Sample text: well dota  one of the best strategic team play game that i ever played...\n"
          ]
        },
        {
          "name": "stderr",
          "output_type": "stream",
          "text": [
            "\rProcessing Batches:  77%|███████▋  | 301/390 [45:37<13:24,  9.03s/batch]"
          ]
        },
        {
          "name": "stdout",
          "output_type": "stream",
          "text": [
            "DEBUG - Batch sample output: Sentiment: 1, Confidence: 1.00\n",
            "Processed 154112/199235 reviews. Time elapsed: 2737.85s. Estimated time remaining: 809.53s\n",
            "DEBUG - Processing batch starting at index 154112. Sample text: nice game...\n"
          ]
        },
        {
          "name": "stderr",
          "output_type": "stream",
          "text": [
            "\rProcessing Batches:  77%|███████▋  | 302/390 [45:47<13:26,  9.17s/batch]"
          ]
        },
        {
          "name": "stdout",
          "output_type": "stream",
          "text": [
            "DEBUG - Batch sample output: Sentiment: 1, Confidence: 1.00\n",
            "Processed 154624/199235 reviews. Time elapsed: 2747.33s. Estimated time remaining: 800.55s\n",
            "DEBUG - Processing batch starting at index 154624. Sample text: i love the cosmetic heroes item without increasing skill or change anything in game so unique i love...\n"
          ]
        },
        {
          "name": "stderr",
          "output_type": "stream",
          "text": [
            "\rProcessing Batches:  78%|███████▊  | 303/390 [45:53<12:11,  8.41s/batch]"
          ]
        },
        {
          "name": "stdout",
          "output_type": "stream",
          "text": [
            "DEBUG - Batch sample output: Sentiment: 1, Confidence: 1.00\n",
            "Processed 155136/199235 reviews. Time elapsed: 2753.97s. Estimated time remaining: 790.74s\n",
            "DEBUG - Processing batch starting at index 155136. Sample text: hi guys lets play dota y...\n"
          ]
        },
        {
          "name": "stderr",
          "output_type": "stream",
          "text": [
            "\rProcessing Batches:  78%|███████▊  | 304/390 [46:03<12:30,  8.73s/batch]"
          ]
        },
        {
          "name": "stdout",
          "output_type": "stream",
          "text": [
            "DEBUG - Batch sample output: Sentiment: 1, Confidence: 1.00\n",
            "Processed 155648/199235 reviews. Time elapsed: 2763.44s. Estimated time remaining: 781.76s\n",
            "DEBUG - Processing batch starting at index 155648. Sample text: game tricked me into doing math and logic programming i actually pulled out a piece of paper and a p...\n"
          ]
        },
        {
          "name": "stderr",
          "output_type": "stream",
          "text": [
            "\rProcessing Batches:  78%|███████▊  | 305/390 [46:12<12:40,  8.95s/batch]"
          ]
        },
        {
          "name": "stdout",
          "output_type": "stream",
          "text": [
            "DEBUG - Batch sample output: Sentiment: 0, Confidence: 1.00\n",
            "Processed 156160/199235 reviews. Time elapsed: 2772.91s. Estimated time remaining: 772.78s\n",
            "DEBUG - Processing batch starting at index 156160. Sample text: nice game i think dota must have much immortal to get many player ...\n"
          ]
        },
        {
          "name": "stderr",
          "output_type": "stream",
          "text": [
            "\rProcessing Batches:  78%|███████▊  | 306/390 [46:22<12:45,  9.11s/batch]"
          ]
        },
        {
          "name": "stdout",
          "output_type": "stream",
          "text": [
            "DEBUG - Batch sample output: Sentiment: 1, Confidence: 1.00\n",
            "Processed 156672/199235 reviews. Time elapsed: 2782.39s. Estimated time remaining: 763.79s\n",
            "DEBUG - Processing batch starting at index 156672. Sample text: this game is so cool...\n"
          ]
        },
        {
          "name": "stderr",
          "output_type": "stream",
          "text": [
            "\rProcessing Batches:  79%|███████▊  | 307/390 [46:29<11:54,  8.60s/batch]"
          ]
        },
        {
          "name": "stdout",
          "output_type": "stream",
          "text": [
            "DEBUG - Batch sample output: Sentiment: 1, Confidence: 1.00\n",
            "Processed 157184/199235 reviews. Time elapsed: 2789.81s. Estimated time remaining: 754.25s\n",
            "DEBUG - Processing batch starting at index 157184. Sample text:   nice game...\n"
          ]
        },
        {
          "name": "stderr",
          "output_type": "stream",
          "text": [
            "\rProcessing Batches:  79%|███████▉  | 308/390 [46:39<12:06,  8.86s/batch]"
          ]
        },
        {
          "name": "stdout",
          "output_type": "stream",
          "text": [
            "DEBUG - Batch sample output: Sentiment: 1, Confidence: 1.00\n",
            "Processed 157696/199235 reviews. Time elapsed: 2799.28s. Estimated time remaining: 745.26s\n",
            "DEBUG - Processing batch starting at index 157696. Sample text: it help me to release stress  dota forever...\n"
          ]
        },
        {
          "name": "stderr",
          "output_type": "stream",
          "text": [
            "\rProcessing Batches:  79%|███████▉  | 309/390 [46:48<12:12,  9.05s/batch]"
          ]
        },
        {
          "name": "stdout",
          "output_type": "stream",
          "text": [
            "DEBUG - Batch sample output: Sentiment: 1, Confidence: 1.00\n",
            "Processed 158208/199235 reviews. Time elapsed: 2808.76s. Estimated time remaining: 736.28s\n",
            "DEBUG - Processing batch starting at index 158208. Sample text: one of the best free to play game and you cant get better at the game just by moneyit use skill to p...\n"
          ]
        },
        {
          "name": "stderr",
          "output_type": "stream",
          "text": [
            "\rProcessing Batches:  79%|███████▉  | 310/390 [46:54<10:35,  7.94s/batch]"
          ]
        },
        {
          "name": "stdout",
          "output_type": "stream",
          "text": [
            "DEBUG - Batch sample output: Sentiment: 1, Confidence: 1.00\n",
            "Processed 158720/199235 reviews. Time elapsed: 2814.12s. Estimated time remaining: 726.22s\n",
            "DEBUG - Processing batch starting at index 158720. Sample text: really fun game to play iwth friends but just doing this for badge...\n"
          ]
        },
        {
          "name": "stderr",
          "output_type": "stream",
          "text": [
            "\rProcessing Batches:  80%|███████▉  | 311/390 [47:03<10:53,  8.27s/batch]"
          ]
        },
        {
          "name": "stdout",
          "output_type": "stream",
          "text": [
            "DEBUG - Batch sample output: Sentiment: 1, Confidence: 1.00\n",
            "Processed 159232/199235 reviews. Time elapsed: 2823.15s. Estimated time remaining: 717.13s\n",
            "DEBUG - Processing batch starting at index 159232. Sample text:   dota  is a competitiveand strategic game which you interact with other players around the globe ...\n"
          ]
        },
        {
          "name": "stderr",
          "output_type": "stream",
          "text": [
            "\rProcessing Batches:  80%|████████  | 312/390 [47:12<11:13,  8.63s/batch]"
          ]
        },
        {
          "name": "stdout",
          "output_type": "stream",
          "text": [
            "DEBUG - Batch sample output: Sentiment: 1, Confidence: 1.00\n",
            "Processed 159744/199235 reviews. Time elapsed: 2832.62s. Estimated time remaining: 708.16s\n",
            "DEBUG - Processing batch starting at index 159744. Sample text: i play to much...\n"
          ]
        },
        {
          "name": "stderr",
          "output_type": "stream",
          "text": [
            "\rProcessing Batches:  80%|████████  | 313/390 [47:22<11:23,  8.88s/batch]"
          ]
        },
        {
          "name": "stdout",
          "output_type": "stream",
          "text": [
            "DEBUG - Batch sample output: Sentiment: 0, Confidence: 1.00\n",
            "Processed 160256/199235 reviews. Time elapsed: 2842.09s. Estimated time remaining: 699.17s\n",
            "DEBUG - Processing batch starting at index 160256. Sample text: this game is awesome...\n"
          ]
        },
        {
          "name": "stderr",
          "output_type": "stream",
          "text": [
            "\rProcessing Batches:  81%|████████  | 314/390 [47:31<11:28,  9.06s/batch]"
          ]
        },
        {
          "name": "stdout",
          "output_type": "stream",
          "text": [
            "DEBUG - Batch sample output: Sentiment: 1, Confidence: 1.00\n",
            "Processed 160768/199235 reviews. Time elapsed: 2851.57s. Estimated time remaining: 690.19s\n",
            "DEBUG - Processing batch starting at index 160768. Sample text: this game is awesome...\n"
          ]
        },
        {
          "name": "stderr",
          "output_type": "stream",
          "text": [
            "\rProcessing Batches:  81%|████████  | 315/390 [47:40<11:25,  9.14s/batch]"
          ]
        },
        {
          "name": "stdout",
          "output_type": "stream",
          "text": [
            "DEBUG - Batch sample output: Sentiment: 1, Confidence: 1.00\n",
            "Processed 161280/199235 reviews. Time elapsed: 2860.91s. Estimated time remaining: 681.17s\n",
            "DEBUG - Processing batch starting at index 161280. Sample text: this game is awesome ...\n"
          ]
        },
        {
          "name": "stderr",
          "output_type": "stream",
          "text": [
            "\rProcessing Batches:  81%|████████  | 316/390 [47:50<11:23,  9.24s/batch]"
          ]
        },
        {
          "name": "stdout",
          "output_type": "stream",
          "text": [
            "DEBUG - Batch sample output: Sentiment: 1, Confidence: 1.00\n",
            "Processed 161792/199235 reviews. Time elapsed: 2870.38s. Estimated time remaining: 672.18s\n",
            "DEBUG - Processing batch starting at index 161792. Sample text: i like the new ui...\n"
          ]
        },
        {
          "name": "stderr",
          "output_type": "stream",
          "text": [
            "\rProcessing Batches:  81%|████████▏ | 317/390 [47:56<10:12,  8.39s/batch]"
          ]
        },
        {
          "name": "stdout",
          "output_type": "stream",
          "text": [
            "DEBUG - Batch sample output: Sentiment: 1, Confidence: 1.00\n",
            "Processed 162304/199235 reviews. Time elapsed: 2876.78s. Estimated time remaining: 662.48s\n",
            "DEBUG - Processing batch starting at index 162304. Sample text: game worth wasting time and money for ...\n"
          ]
        },
        {
          "name": "stderr",
          "output_type": "stream",
          "text": [
            "\rProcessing Batches:  82%|████████▏ | 318/390 [48:06<10:27,  8.72s/batch]"
          ]
        },
        {
          "name": "stdout",
          "output_type": "stream",
          "text": [
            "DEBUG - Batch sample output: Sentiment: 1, Confidence: 1.00\n",
            "Processed 162816/199235 reviews. Time elapsed: 2886.26s. Estimated time remaining: 653.49s\n",
            "DEBUG - Processing batch starting at index 162816. Sample text: if you can get past the horrible community or avoid it by playing with friends the game is quite ful...\n"
          ]
        },
        {
          "name": "stderr",
          "output_type": "stream",
          "text": [
            "\rProcessing Batches:  82%|████████▏ | 319/390 [48:15<10:34,  8.94s/batch]"
          ]
        },
        {
          "name": "stdout",
          "output_type": "stream",
          "text": [
            "DEBUG - Batch sample output: Sentiment: 1, Confidence: 1.00\n",
            "Processed 163328/199235 reviews. Time elapsed: 2895.73s. Estimated time remaining: 644.50s\n",
            "DEBUG - Processing batch starting at index 163328. Sample text: dota lets you pick what servers you want to play in but no matter what your playing with russians or...\n"
          ]
        },
        {
          "name": "stderr",
          "output_type": "stream",
          "text": [
            "\rProcessing Batches:  82%|████████▏ | 320/390 [48:25<10:37,  9.10s/batch]"
          ]
        },
        {
          "name": "stdout",
          "output_type": "stream",
          "text": [
            "DEBUG - Batch sample output: Sentiment: 0, Confidence: 1.00\n",
            "Processed 163840/199235 reviews. Time elapsed: 2905.21s. Estimated time remaining: 635.51s\n",
            "DEBUG - Processing batch starting at index 163840. Sample text: the best game ever...\n"
          ]
        },
        {
          "name": "stderr",
          "output_type": "stream",
          "text": [
            "\rProcessing Batches:  82%|████████▏ | 321/390 [48:34<10:35,  9.22s/batch]"
          ]
        },
        {
          "name": "stdout",
          "output_type": "stream",
          "text": [
            "DEBUG - Batch sample output: Sentiment: 1, Confidence: 1.00\n",
            "Processed 164352/199235 reviews. Time elapsed: 2914.69s. Estimated time remaining: 626.52s\n",
            "DEBUG - Processing batch starting at index 164352. Sample text: very very nice game...\n"
          ]
        },
        {
          "name": "stderr",
          "output_type": "stream",
          "text": [
            "\rProcessing Batches:  83%|████████▎ | 322/390 [48:44<10:31,  9.29s/batch]"
          ]
        },
        {
          "name": "stdout",
          "output_type": "stream",
          "text": [
            "DEBUG - Batch sample output: Sentiment: 1, Confidence: 1.00\n",
            "Processed 164864/199235 reviews. Time elapsed: 2924.16s. Estimated time remaining: 617.52s\n",
            "DEBUG - Processing batch starting at index 164864. Sample text: this game sucks...\n"
          ]
        },
        {
          "name": "stderr",
          "output_type": "stream",
          "text": [
            "\rProcessing Batches:  83%|████████▎ | 323/390 [48:53<10:26,  9.35s/batch]"
          ]
        },
        {
          "name": "stdout",
          "output_type": "stream",
          "text": [
            "DEBUG - Batch sample output: Sentiment: 0, Confidence: 1.00\n",
            "Processed 165376/199235 reviews. Time elapsed: 2933.63s. Estimated time remaining: 608.52s\n",
            "DEBUG - Processing batch starting at index 165376. Sample text: balance game ...\n"
          ]
        },
        {
          "name": "stderr",
          "output_type": "stream",
          "text": [
            "\rProcessing Batches:  83%|████████▎ | 324/390 [49:03<10:19,  9.39s/batch]"
          ]
        },
        {
          "name": "stdout",
          "output_type": "stream",
          "text": [
            "DEBUG - Batch sample output: Sentiment: 1, Confidence: 1.00\n",
            "Processed 165888/199235 reviews. Time elapsed: 2943.11s. Estimated time remaining: 599.52s\n",
            "DEBUG - Processing batch starting at index 165888. Sample text: what are friends family school sport or hobbies all is doto now  good luck have fun  report mid...\n"
          ]
        },
        {
          "name": "stderr",
          "output_type": "stream",
          "text": [
            "\rProcessing Batches:  83%|████████▎ | 325/390 [49:12<10:11,  9.41s/batch]"
          ]
        },
        {
          "name": "stdout",
          "output_type": "stream",
          "text": [
            "DEBUG - Batch sample output: Sentiment: 1, Confidence: 1.00\n",
            "Processed 166400/199235 reviews. Time elapsed: 2952.58s. Estimated time remaining: 590.52s\n",
            "DEBUG - Processing batch starting at index 166400. Sample text: iest game ever spent high part of my life here  same as drugs...\n"
          ]
        },
        {
          "name": "stderr",
          "output_type": "stream",
          "text": [
            "\rProcessing Batches:  84%|████████▎ | 326/390 [49:19<09:11,  8.62s/batch]"
          ]
        },
        {
          "name": "stdout",
          "output_type": "stream",
          "text": [
            "DEBUG - Batch sample output: Sentiment: 1, Confidence: 1.00\n",
            "Processed 166912/199235 reviews. Time elapsed: 2959.36s. Estimated time remaining: 580.98s\n",
            "DEBUG - Processing batch starting at index 166912. Sample text: makes you laugh makes you cry makes friends rage at you you filthy venomancer spammer feelsbadman  g...\n"
          ]
        },
        {
          "name": "stderr",
          "output_type": "stream",
          "text": [
            "\rProcessing Batches:  84%|████████▍ | 327/390 [49:28<09:19,  8.88s/batch]"
          ]
        },
        {
          "name": "stdout",
          "output_type": "stream",
          "text": [
            "DEBUG - Batch sample output: Sentiment: 0, Confidence: 0.99\n",
            "Processed 167424/199235 reviews. Time elapsed: 2968.84s. Estimated time remaining: 571.98s\n",
            "DEBUG - Processing batch starting at index 167424. Sample text: tell us why you think it should win...\n"
          ]
        },
        {
          "name": "stderr",
          "output_type": "stream",
          "text": [
            "\rProcessing Batches:  84%|████████▍ | 328/390 [49:38<09:21,  9.06s/batch]"
          ]
        },
        {
          "name": "stdout",
          "output_type": "stream",
          "text": [
            "DEBUG - Batch sample output: Sentiment: 1, Confidence: 1.00\n",
            "Processed 167936/199235 reviews. Time elapsed: 2978.31s. Estimated time remaining: 562.97s\n",
            "DEBUG - Processing batch starting at index 167936. Sample text: best moba it never gets old...\n"
          ]
        },
        {
          "name": "stderr",
          "output_type": "stream",
          "text": [
            "\rProcessing Batches:  84%|████████▍ | 329/390 [49:47<09:20,  9.18s/batch]"
          ]
        },
        {
          "name": "stdout",
          "output_type": "stream",
          "text": [
            "DEBUG - Batch sample output: Sentiment: 1, Confidence: 1.00\n",
            "Processed 168448/199235 reviews. Time elapsed: 2987.79s. Estimated time remaining: 553.97s\n",
            "DEBUG - Processing batch starting at index 168448. Sample text: this game is so awesome...\n"
          ]
        },
        {
          "name": "stderr",
          "output_type": "stream",
          "text": [
            "\rProcessing Batches:  85%|████████▍ | 330/390 [49:57<09:16,  9.27s/batch]"
          ]
        },
        {
          "name": "stdout",
          "output_type": "stream",
          "text": [
            "DEBUG - Batch sample output: Sentiment: 1, Confidence: 1.00\n",
            "Processed 168960/199235 reviews. Time elapsed: 2997.26s. Estimated time remaining: 544.96s\n",
            "DEBUG - Processing batch starting at index 168960. Sample text: great game...\n"
          ]
        },
        {
          "name": "stderr",
          "output_type": "stream",
          "text": [
            "\rProcessing Batches:  85%|████████▍ | 331/390 [50:06<09:10,  9.33s/batch]"
          ]
        },
        {
          "name": "stdout",
          "output_type": "stream",
          "text": [
            "DEBUG - Batch sample output: Sentiment: 1, Confidence: 1.00\n",
            "Processed 169472/199235 reviews. Time elapsed: 3006.74s. Estimated time remaining: 535.94s\n",
            "DEBUG - Processing batch starting at index 169472. Sample text: this game is  i think it should be more like csgo...\n"
          ]
        },
        {
          "name": "stderr",
          "output_type": "stream",
          "text": [
            "\rProcessing Batches:  85%|████████▌ | 332/390 [50:16<09:03,  9.38s/batch]"
          ]
        },
        {
          "name": "stdout",
          "output_type": "stream",
          "text": [
            "DEBUG - Batch sample output: Sentiment: 0, Confidence: 1.00\n",
            "Processed 169984/199235 reviews. Time elapsed: 3016.21s. Estimated time remaining: 526.93s\n",
            "DEBUG - Processing batch starting at index 169984. Sample text: better than lol for sure...\n"
          ]
        },
        {
          "name": "stderr",
          "output_type": "stream",
          "text": [
            "\rProcessing Batches:  85%|████████▌ | 333/390 [50:25<08:56,  9.41s/batch]"
          ]
        },
        {
          "name": "stdout",
          "output_type": "stream",
          "text": [
            "DEBUG - Batch sample output: Sentiment: 1, Confidence: 1.00\n",
            "Processed 170496/199235 reviews. Time elapsed: 3025.69s. Estimated time remaining: 517.91s\n",
            "DEBUG - Processing batch starting at index 170496. Sample text: played over khours dont try to play this game or else your life will be over your dreams will never ...\n"
          ]
        },
        {
          "name": "stderr",
          "output_type": "stream",
          "text": [
            "\rProcessing Batches:  86%|████████▌ | 334/390 [50:35<08:47,  9.43s/batch]"
          ]
        },
        {
          "name": "stdout",
          "output_type": "stream",
          "text": [
            "DEBUG - Batch sample output: Sentiment: 0, Confidence: 1.00\n",
            "Processed 171008/199235 reviews. Time elapsed: 3035.17s. Estimated time remaining: 508.89s\n",
            "DEBUG - Processing batch starting at index 171008. Sample text: best single player game of  ign...\n"
          ]
        },
        {
          "name": "stderr",
          "output_type": "stream",
          "text": [
            "\rProcessing Batches:  86%|████████▌ | 335/390 [50:44<08:39,  9.44s/batch]"
          ]
        },
        {
          "name": "stdout",
          "output_type": "stream",
          "text": [
            "DEBUG - Batch sample output: Sentiment: 1, Confidence: 1.00\n",
            "Processed 171520/199235 reviews. Time elapsed: 3044.65s. Estimated time remaining: 499.87s\n",
            "DEBUG - Processing batch starting at index 171520. Sample text: at first i wasnt really into this game as i thought it was extremely hard to play but the challenges...\n"
          ]
        },
        {
          "name": "stderr",
          "output_type": "stream",
          "text": [
            "\rProcessing Batches:  86%|████████▌ | 336/390 [50:54<08:30,  9.45s/batch]"
          ]
        },
        {
          "name": "stdout",
          "output_type": "stream",
          "text": [
            "DEBUG - Batch sample output: Sentiment: 1, Confidence: 1.00\n",
            "Processed 172032/199235 reviews. Time elapsed: 3054.12s. Estimated time remaining: 490.84s\n",
            "DEBUG - Processing batch starting at index 172032. Sample text: this game should not be the first on steam tf or maybe wrframe because dota is a borring gamei tell ...\n"
          ]
        },
        {
          "name": "stderr",
          "output_type": "stream",
          "text": [
            "\rProcessing Batches:  86%|████████▋ | 337/390 [51:03<08:21,  9.46s/batch]"
          ]
        },
        {
          "name": "stdout",
          "output_type": "stream",
          "text": [
            "DEBUG - Batch sample output: Sentiment: 0, Confidence: 1.00\n",
            "Processed 172544/199235 reviews. Time elapsed: 3063.60s. Estimated time remaining: 481.81s\n",
            "DEBUG - Processing batch starting at index 172544. Sample text: you should play this game...\n"
          ]
        },
        {
          "name": "stderr",
          "output_type": "stream",
          "text": [
            "\rProcessing Batches:  87%|████████▋ | 338/390 [51:13<08:12,  9.46s/batch]"
          ]
        },
        {
          "name": "stdout",
          "output_type": "stream",
          "text": [
            "DEBUG - Batch sample output: Sentiment: 1, Confidence: 1.00\n",
            "Processed 173056/199235 reviews. Time elapsed: 3073.07s. Estimated time remaining: 472.78s\n",
            "DEBUG - Processing batch starting at index 173056. Sample text: eh ill figure it out eventually  good game complicated for me ppp...\n"
          ]
        },
        {
          "name": "stderr",
          "output_type": "stream",
          "text": [
            "\rProcessing Batches:  87%|████████▋ | 339/390 [51:22<08:02,  9.47s/batch]"
          ]
        },
        {
          "name": "stdout",
          "output_type": "stream",
          "text": [
            "DEBUG - Batch sample output: Sentiment: 1, Confidence: 1.00\n",
            "Processed 173568/199235 reviews. Time elapsed: 3082.55s. Estimated time remaining: 463.75s\n",
            "DEBUG - Processing batch starting at index 173568. Sample text: ive been a gamer since counter strike and never played somthin enjoyable and never gets boring like ...\n"
          ]
        },
        {
          "name": "stderr",
          "output_type": "stream",
          "text": [
            "\rProcessing Batches:  87%|████████▋ | 340/390 [51:32<07:53,  9.47s/batch]"
          ]
        },
        {
          "name": "stdout",
          "output_type": "stream",
          "text": [
            "DEBUG - Batch sample output: Sentiment: 0, Confidence: 1.00\n",
            "Processed 174080/199235 reviews. Time elapsed: 3092.03s. Estimated time remaining: 454.71s\n",
            "DEBUG - Processing batch starting at index 174080. Sample text: say goodbye to your life...\n"
          ]
        },
        {
          "name": "stderr",
          "output_type": "stream",
          "text": [
            "\rProcessing Batches:  87%|████████▋ | 341/390 [51:41<07:44,  9.47s/batch]"
          ]
        },
        {
          "name": "stdout",
          "output_type": "stream",
          "text": [
            "DEBUG - Batch sample output: Sentiment: 0, Confidence: 1.00\n",
            "Processed 174592/199235 reviews. Time elapsed: 3101.50s. Estimated time remaining: 445.67s\n",
            "DEBUG - Processing batch starting at index 174592. Sample text: one word addicted...\n"
          ]
        },
        {
          "name": "stderr",
          "output_type": "stream",
          "text": [
            "\rProcessing Batches:  88%|████████▊ | 342/390 [51:50<07:34,  9.47s/batch]"
          ]
        },
        {
          "name": "stdout",
          "output_type": "stream",
          "text": [
            "DEBUG - Batch sample output: Sentiment: 1, Confidence: 0.99\n",
            "Processed 175104/199235 reviews. Time elapsed: 3110.97s. Estimated time remaining: 436.63s\n",
            "DEBUG - Processing batch starting at index 175104. Sample text: dota is very good game i think so  we want some turkish servers ...\n"
          ]
        },
        {
          "name": "stderr",
          "output_type": "stream",
          "text": [
            "\rProcessing Batches:  88%|████████▊ | 343/390 [52:00<07:25,  9.47s/batch]"
          ]
        },
        {
          "name": "stdout",
          "output_type": "stream",
          "text": [
            "DEBUG - Batch sample output: Sentiment: 1, Confidence: 1.00\n",
            "Processed 175616/199235 reviews. Time elapsed: 3120.45s. Estimated time remaining: 427.58s\n",
            "DEBUG - Processing batch starting at index 175616. Sample text: my grandfather smoked his whole life i was about  years old when my mother said to him if you ever w...\n"
          ]
        },
        {
          "name": "stderr",
          "output_type": "stream",
          "text": [
            "\rProcessing Batches:  88%|████████▊ | 344/390 [52:09<07:15,  9.47s/batch]"
          ]
        },
        {
          "name": "stdout",
          "output_type": "stream",
          "text": [
            "DEBUG - Batch sample output: Sentiment: 0, Confidence: 1.00\n",
            "Processed 176128/199235 reviews. Time elapsed: 3129.93s. Estimated time remaining: 418.54s\n",
            "DEBUG - Processing batch starting at index 176128. Sample text: one of the worst games ive ever played i tried to find something good in this game  but i just could...\n"
          ]
        },
        {
          "name": "stderr",
          "output_type": "stream",
          "text": [
            "\rProcessing Batches:  88%|████████▊ | 345/390 [52:19<07:06,  9.48s/batch]"
          ]
        },
        {
          "name": "stdout",
          "output_type": "stream",
          "text": [
            "DEBUG - Batch sample output: Sentiment: 0, Confidence: 1.00\n",
            "Processed 176640/199235 reviews. Time elapsed: 3139.41s. Estimated time remaining: 409.49s\n",
            "DEBUG - Processing batch starting at index 176640. Sample text:  scoped my friend   would scope again...\n"
          ]
        },
        {
          "name": "stderr",
          "output_type": "stream",
          "text": [
            "\rProcessing Batches:  89%|████████▊ | 346/390 [52:28<06:56,  9.48s/batch]"
          ]
        },
        {
          "name": "stdout",
          "output_type": "stream",
          "text": [
            "DEBUG - Batch sample output: Sentiment: 1, Confidence: 0.99\n",
            "Processed 177152/199235 reviews. Time elapsed: 3148.88s. Estimated time remaining: 400.44s\n",
            "DEBUG - Processing batch starting at index 177152. Sample text: id write something witty here about how its mediocre rts crap or the playerbase being on par with is...\n"
          ]
        },
        {
          "name": "stderr",
          "output_type": "stream",
          "text": [
            "\rProcessing Batches:  89%|████████▉ | 347/390 [52:38<06:47,  9.48s/batch]"
          ]
        },
        {
          "name": "stdout",
          "output_type": "stream",
          "text": [
            "DEBUG - Batch sample output: Sentiment: 0, Confidence: 1.00\n",
            "Processed 177664/199235 reviews. Time elapsed: 3158.36s. Estimated time remaining: 391.38s\n",
            "DEBUG - Processing batch starting at index 177664. Sample text: best game ever win lose fail cry nobody cares everyone wants items cause they be so awesome  but ser...\n"
          ]
        },
        {
          "name": "stderr",
          "output_type": "stream",
          "text": [
            "\rProcessing Batches:  89%|████████▉ | 348/390 [52:45<06:06,  8.72s/batch]"
          ]
        },
        {
          "name": "stdout",
          "output_type": "stream",
          "text": [
            "DEBUG - Batch sample output: Sentiment: 1, Confidence: 1.00\n",
            "Processed 178176/199235 reviews. Time elapsed: 3165.32s. Estimated time remaining: 382.02s\n",
            "DEBUG - Processing batch starting at index 178176. Sample text: my favorit game in my whole world i like it i wish you make it realistic so much and add some hero y...\n"
          ]
        },
        {
          "name": "stderr",
          "output_type": "stream",
          "text": [
            "\rProcessing Batches:  89%|████████▉ | 349/390 [52:54<06:06,  8.95s/batch]"
          ]
        },
        {
          "name": "stdout",
          "output_type": "stream",
          "text": [
            "DEBUG - Batch sample output: Sentiment: 1, Confidence: 1.00\n",
            "Processed 178688/199235 reviews. Time elapsed: 3174.80s. Estimated time remaining: 372.97s\n",
            "DEBUG - Processing batch starting at index 178688. Sample text: this game is really great played some hours of it it changed my life  would recommend ...\n"
          ]
        },
        {
          "name": "stderr",
          "output_type": "stream",
          "text": [
            "\rProcessing Batches:  90%|████████▉ | 350/390 [53:04<06:04,  9.11s/batch]"
          ]
        },
        {
          "name": "stdout",
          "output_type": "stream",
          "text": [
            "DEBUG - Batch sample output: Sentiment: 1, Confidence: 1.00\n",
            "Processed 179200/199235 reviews. Time elapsed: 3184.27s. Estimated time remaining: 363.92s\n",
            "DEBUG - Processing batch starting at index 179200. Sample text: i like dota  but i also like lol dunno what to rate      ps dota sucks go play lol ...\n"
          ]
        },
        {
          "name": "stderr",
          "output_type": "stream",
          "text": [
            "\rProcessing Batches:  90%|█████████ | 351/390 [53:09<05:05,  7.82s/batch]"
          ]
        },
        {
          "name": "stdout",
          "output_type": "stream",
          "text": [
            "DEBUG - Batch sample output: Sentiment: 1, Confidence: 1.00\n",
            "Processed 179712/199235 reviews. Time elapsed: 3189.10s. Estimated time remaining: 354.34s\n",
            "DEBUG - Processing batch starting at index 179712. Sample text: i hate it...\n"
          ]
        },
        {
          "name": "stderr",
          "output_type": "stream",
          "text": [
            "\rProcessing Batches:  90%|█████████ | 352/390 [53:18<05:16,  8.32s/batch]"
          ]
        },
        {
          "name": "stdout",
          "output_type": "stream",
          "text": [
            "DEBUG - Batch sample output: Sentiment: 0, Confidence: 1.00\n",
            "Processed 180224/199235 reviews. Time elapsed: 3198.57s. Estimated time remaining: 345.30s\n",
            "DEBUG - Processing batch starting at index 180224. Sample text: best game in the world pravda dlya xyesosov ...\n"
          ]
        },
        {
          "name": "stderr",
          "output_type": "stream",
          "text": [
            "\rProcessing Batches:  91%|█████████ | 353/390 [53:28<05:20,  8.66s/batch]"
          ]
        },
        {
          "name": "stdout",
          "output_type": "stream",
          "text": [
            "DEBUG - Batch sample output: Sentiment: 1, Confidence: 1.00\n",
            "Processed 180736/199235 reviews. Time elapsed: 3208.05s. Estimated time remaining: 336.25s\n",
            "DEBUG - Processing batch starting at index 180736. Sample text: well dont get discouraged by the little steep learning curve it has  you need atmost  hrs to get hol...\n"
          ]
        },
        {
          "name": "stderr",
          "output_type": "stream",
          "text": [
            "\rProcessing Batches:  91%|█████████ | 354/390 [53:37<05:20,  8.91s/batch]"
          ]
        },
        {
          "name": "stdout",
          "output_type": "stream",
          "text": [
            "DEBUG - Batch sample output: Sentiment: 1, Confidence: 1.00\n",
            "Processed 181248/199235 reviews. Time elapsed: 3217.53s. Estimated time remaining: 327.21s\n",
            "DEBUG - Processing batch starting at index 181248. Sample text: love this...\n"
          ]
        },
        {
          "name": "stderr",
          "output_type": "stream",
          "text": [
            "\rProcessing Batches:  91%|█████████ | 355/390 [53:47<05:17,  9.08s/batch]"
          ]
        },
        {
          "name": "stdout",
          "output_type": "stream",
          "text": [
            "DEBUG - Batch sample output: Sentiment: 1, Confidence: 1.00\n",
            "Processed 181760/199235 reviews. Time elapsed: 3227.01s. Estimated time remaining: 318.16s\n",
            "DEBUG - Processing batch starting at index 181760. Sample text: the best game ever...\n"
          ]
        },
        {
          "name": "stderr",
          "output_type": "stream",
          "text": [
            "\rProcessing Batches:  91%|█████████▏| 356/390 [53:56<05:12,  9.20s/batch]"
          ]
        },
        {
          "name": "stdout",
          "output_type": "stream",
          "text": [
            "DEBUG - Batch sample output: Sentiment: 1, Confidence: 1.00\n",
            "Processed 182272/199235 reviews. Time elapsed: 3236.49s. Estimated time remaining: 309.10s\n",
            "DEBUG - Processing batch starting at index 182272. Sample text: fab if you love russians...\n"
          ]
        },
        {
          "name": "stderr",
          "output_type": "stream",
          "text": [
            "\rProcessing Batches:  92%|█████████▏| 357/390 [54:05<05:06,  9.28s/batch]"
          ]
        },
        {
          "name": "stdout",
          "output_type": "stream",
          "text": [
            "DEBUG - Batch sample output: Sentiment: 1, Confidence: 1.00\n",
            "Processed 182784/199235 reviews. Time elapsed: 3245.96s. Estimated time remaining: 300.05s\n",
            "DEBUG - Processing batch starting at index 182784. Sample text: unistall now before it ruins your life andor pclaptop learining russian is a requirement and accept ...\n"
          ]
        },
        {
          "name": "stderr",
          "output_type": "stream",
          "text": [
            "\rProcessing Batches:  92%|█████████▏| 358/390 [54:15<04:58,  9.34s/batch]"
          ]
        },
        {
          "name": "stdout",
          "output_type": "stream",
          "text": [
            "DEBUG - Batch sample output: Sentiment: 1, Confidence: 1.00\n",
            "Processed 183296/199235 reviews. Time elapsed: 3255.44s. Estimated time remaining: 290.99s\n",
            "DEBUG - Processing batch starting at index 183296. Sample text: no need for comment cause this game rock but if you dont play this maybe becuase you never like game...\n"
          ]
        },
        {
          "name": "stderr",
          "output_type": "stream",
          "text": [
            "\rProcessing Batches:  92%|█████████▏| 359/390 [54:24<04:50,  9.38s/batch]"
          ]
        },
        {
          "name": "stdout",
          "output_type": "stream",
          "text": [
            "DEBUG - Batch sample output: Sentiment: 1, Confidence: 1.00\n",
            "Processed 183808/199235 reviews. Time elapsed: 3264.92s. Estimated time remaining: 281.93s\n",
            "DEBUG - Processing batch starting at index 183808. Sample text: this game fck  im not play this sht anymore...\n"
          ]
        },
        {
          "name": "stderr",
          "output_type": "stream",
          "text": [
            "\rProcessing Batches:  92%|█████████▏| 360/390 [54:34<04:39,  9.33s/batch]"
          ]
        },
        {
          "name": "stdout",
          "output_type": "stream",
          "text": [
            "DEBUG - Batch sample output: Sentiment: 0, Confidence: 1.00\n",
            "Processed 184320/199235 reviews. Time elapsed: 3274.13s. Estimated time remaining: 272.84s\n",
            "DEBUG - Processing batch starting at index 184320. Sample text: great game...\n"
          ]
        },
        {
          "name": "stderr",
          "output_type": "stream",
          "text": [
            "\rProcessing Batches:  93%|█████████▎| 361/390 [54:43<04:31,  9.37s/batch]"
          ]
        },
        {
          "name": "stdout",
          "output_type": "stream",
          "text": [
            "DEBUG - Batch sample output: Sentiment: 1, Confidence: 1.00\n",
            "Processed 184832/199235 reviews. Time elapsed: 3283.60s. Estimated time remaining: 263.78s\n",
            "DEBUG - Processing batch starting at index 184832. Sample text: too many changes...\n"
          ]
        },
        {
          "name": "stderr",
          "output_type": "stream",
          "text": [
            "\rProcessing Batches:  93%|█████████▎| 362/390 [54:52<04:16,  9.14s/batch]"
          ]
        },
        {
          "name": "stdout",
          "output_type": "stream",
          "text": [
            "DEBUG - Batch sample output: Sentiment: 0, Confidence: 1.00\n",
            "Processed 185344/199235 reviews. Time elapsed: 3292.21s. Estimated time remaining: 254.65s\n",
            "DEBUG - Processing batch starting at index 185344. Sample text: please back the hero to their best skills like techies please back all  ...\n"
          ]
        },
        {
          "name": "stderr",
          "output_type": "stream",
          "text": [
            "\rProcessing Batches:  93%|█████████▎| 363/390 [55:01<04:09,  9.24s/batch]"
          ]
        },
        {
          "name": "stdout",
          "output_type": "stream",
          "text": [
            "DEBUG - Batch sample output: Sentiment: 1, Confidence: 1.00\n",
            "Processed 185856/199235 reviews. Time elapsed: 3301.68s. Estimated time remaining: 245.58s\n",
            "DEBUG - Processing batch starting at index 185856. Sample text: thanks for such an addictive game and make sure to keep it free...\n"
          ]
        },
        {
          "name": "stderr",
          "output_type": "stream",
          "text": [
            "\rProcessing Batches:  93%|█████████▎| 364/390 [55:10<03:59,  9.19s/batch]"
          ]
        },
        {
          "name": "stdout",
          "output_type": "stream",
          "text": [
            "DEBUG - Batch sample output: Sentiment: 1, Confidence: 1.00\n",
            "Processed 186368/199235 reviews. Time elapsed: 3310.76s. Estimated time remaining: 236.48s\n",
            "DEBUG - Processing batch starting at index 186368. Sample text: this game is the best game this game is the definition of game...\n"
          ]
        },
        {
          "name": "stderr",
          "output_type": "stream",
          "text": [
            "\rProcessing Batches:  94%|█████████▎| 365/390 [55:20<03:51,  9.28s/batch]"
          ]
        },
        {
          "name": "stdout",
          "output_type": "stream",
          "text": [
            "DEBUG - Batch sample output: Sentiment: 1, Confidence: 1.00\n",
            "Processed 186880/199235 reviews. Time elapsed: 3320.23s. Estimated time remaining: 227.41s\n",
            "DEBUG - Processing batch starting at index 186880. Sample text: this game is free all charters are free you get free stuff this what leauge of legends should be...\n"
          ]
        },
        {
          "name": "stderr",
          "output_type": "stream",
          "text": [
            "\rProcessing Batches:  94%|█████████▍| 366/390 [55:29<03:44,  9.34s/batch]"
          ]
        },
        {
          "name": "stdout",
          "output_type": "stream",
          "text": [
            "DEBUG - Batch sample output: Sentiment: 1, Confidence: 1.00\n",
            "Processed 187392/199235 reviews. Time elapsed: 3329.70s. Estimated time remaining: 218.34s\n",
            "DEBUG - Processing batch starting at index 187392. Sample text: very fun moba game would highly recommend over lol and hon but if youve never played mobas before i ...\n"
          ]
        },
        {
          "name": "stderr",
          "output_type": "stream",
          "text": [
            "\rProcessing Batches:  94%|█████████▍| 367/390 [55:39<03:35,  9.38s/batch]"
          ]
        },
        {
          "name": "stdout",
          "output_type": "stream",
          "text": [
            "DEBUG - Batch sample output: Sentiment: 1, Confidence: 1.00\n",
            "Processed 187904/199235 reviews. Time elapsed: 3339.18s. Estimated time remaining: 209.27s\n",
            "DEBUG - Processing batch starting at index 187904. Sample text: awesome played it for a long time then stopped as it got a tad boring and had to focus on other thin...\n"
          ]
        },
        {
          "name": "stderr",
          "output_type": "stream",
          "text": [
            "\rProcessing Batches:  94%|█████████▍| 368/390 [55:47<03:21,  9.14s/batch]"
          ]
        },
        {
          "name": "stdout",
          "output_type": "stream",
          "text": [
            "DEBUG - Batch sample output: Sentiment: 1, Confidence: 1.00\n",
            "Processed 188416/199235 reviews. Time elapsed: 3347.77s. Estimated time remaining: 200.14s\n",
            "DEBUG - Processing batch starting at index 188416. Sample text: dont like the gameplay i prefer smite style with wasd movement...\n"
          ]
        },
        {
          "name": "stderr",
          "output_type": "stream",
          "text": [
            "\rProcessing Batches:  95%|█████████▍| 369/390 [55:57<03:14,  9.24s/batch]"
          ]
        },
        {
          "name": "stdout",
          "output_type": "stream",
          "text": [
            "DEBUG - Batch sample output: Sentiment: 0, Confidence: 1.00\n",
            "Processed 188928/199235 reviews. Time elapsed: 3357.25s. Estimated time remaining: 191.06s\n",
            "DEBUG - Processing batch starting at index 188928. Sample text: i never get bored of this game its epic in its own way if you love roleplay and have patience then t...\n"
          ]
        },
        {
          "name": "stderr",
          "output_type": "stream",
          "text": [
            "\rProcessing Batches:  95%|█████████▍| 370/390 [56:05<03:00,  9.02s/batch]"
          ]
        },
        {
          "name": "stdout",
          "output_type": "stream",
          "text": [
            "DEBUG - Batch sample output: Sentiment: 1, Confidence: 1.00\n",
            "Processed 189440/199235 reviews. Time elapsed: 3365.74s. Estimated time remaining: 181.93s\n",
            "DEBUG - Processing batch starting at index 189440. Sample text: remove this ing game on my library damn...\n"
          ]
        },
        {
          "name": "stderr",
          "output_type": "stream",
          "text": [
            "\rProcessing Batches:  95%|█████████▌| 371/390 [56:15<02:53,  9.15s/batch]"
          ]
        },
        {
          "name": "stdout",
          "output_type": "stream",
          "text": [
            "DEBUG - Batch sample output: Sentiment: 0, Confidence: 1.00\n",
            "Processed 189952/199235 reviews. Time elapsed: 3375.21s. Estimated time remaining: 172.85s\n",
            "DEBUG - Processing batch starting at index 189952. Sample text: game is ...\n"
          ]
        },
        {
          "name": "stderr",
          "output_type": "stream",
          "text": [
            "\rProcessing Batches:  95%|█████████▌| 372/390 [56:24<02:46,  9.25s/batch]"
          ]
        },
        {
          "name": "stdout",
          "output_type": "stream",
          "text": [
            "DEBUG - Batch sample output: Sentiment: 1, Confidence: 1.00\n",
            "Processed 190464/199235 reviews. Time elapsed: 3384.69s. Estimated time remaining: 163.78s\n",
            "DEBUG - Processing batch starting at index 190464. Sample text: i like this game but patch    this is not lol     this is not lol     this is not lol     ...\n"
          ]
        },
        {
          "name": "stderr",
          "output_type": "stream",
          "text": [
            "\rProcessing Batches:  96%|█████████▌| 373/390 [56:34<02:38,  9.32s/batch]"
          ]
        },
        {
          "name": "stdout",
          "output_type": "stream",
          "text": [
            "DEBUG - Batch sample output: Sentiment: 0, Confidence: 1.00\n",
            "Processed 190976/199235 reviews. Time elapsed: 3394.16s. Estimated time remaining: 154.69s\n",
            "DEBUG - Processing batch starting at index 190976. Sample text: you can eat trees    goty ...\n"
          ]
        },
        {
          "name": "stderr",
          "output_type": "stream",
          "text": [
            "\rProcessing Batches:  96%|█████████▌| 374/390 [56:43<02:29,  9.37s/batch]"
          ]
        },
        {
          "name": "stdout",
          "output_type": "stream",
          "text": [
            "DEBUG - Batch sample output: Sentiment: 0, Confidence: 0.99\n",
            "Processed 191488/199235 reviews. Time elapsed: 3403.64s. Estimated time remaining: 145.61s\n",
            "DEBUG - Processing batch starting at index 191488. Sample text: worse than leagues...\n"
          ]
        },
        {
          "name": "stderr",
          "output_type": "stream",
          "text": [
            "\rProcessing Batches:  96%|█████████▌| 375/390 [56:53<02:20,  9.40s/batch]"
          ]
        },
        {
          "name": "stdout",
          "output_type": "stream",
          "text": [
            "DEBUG - Batch sample output: Sentiment: 0, Confidence: 1.00\n",
            "Processed 192000/199235 reviews. Time elapsed: 3413.12s. Estimated time remaining: 136.52s\n",
            "DEBUG - Processing batch starting at index 192000. Sample text: ruined my life ...\n"
          ]
        },
        {
          "name": "stderr",
          "output_type": "stream",
          "text": [
            "\rProcessing Batches:  96%|█████████▋| 376/390 [57:02<02:11,  9.42s/batch]"
          ]
        },
        {
          "name": "stdout",
          "output_type": "stream",
          "text": [
            "DEBUG - Batch sample output: Sentiment: 0, Confidence: 1.00\n",
            "Processed 192512/199235 reviews. Time elapsed: 3422.59s. Estimated time remaining: 127.44s\n",
            "DEBUG - Processing batch starting at index 192512. Sample text: the best game of decade its moba gaming belive me its not just moba  its my life ...\n"
          ]
        },
        {
          "name": "stderr",
          "output_type": "stream",
          "text": [
            "\rProcessing Batches:  97%|█████████▋| 377/390 [57:11<01:59,  9.22s/batch]"
          ]
        },
        {
          "name": "stdout",
          "output_type": "stream",
          "text": [
            "DEBUG - Batch sample output: Sentiment: 1, Confidence: 1.00\n",
            "Processed 193024/199235 reviews. Time elapsed: 3431.35s. Estimated time remaining: 118.32s\n",
            "DEBUG - Processing batch starting at index 193024. Sample text: chi long qua needs to dumpster these  stains...\n"
          ]
        },
        {
          "name": "stderr",
          "output_type": "stream",
          "text": [
            "\rProcessing Batches:  97%|█████████▋| 378/390 [57:20<01:51,  9.30s/batch]"
          ]
        },
        {
          "name": "stdout",
          "output_type": "stream",
          "text": [
            "DEBUG - Batch sample output: Sentiment: 0, Confidence: 1.00\n",
            "Processed 193536/199235 reviews. Time elapsed: 3440.83s. Estimated time remaining: 109.23s\n",
            "DEBUG - Processing batch starting at index 193536. Sample text: lol is better this game sucked               its just my opinion jk this game sucks...\n"
          ]
        },
        {
          "name": "stderr",
          "output_type": "stream",
          "text": [
            "\rProcessing Batches:  97%|█████████▋| 379/390 [57:30<01:42,  9.35s/batch]"
          ]
        },
        {
          "name": "stdout",
          "output_type": "stream",
          "text": [
            "DEBUG - Batch sample output: Sentiment: 0, Confidence: 1.00\n",
            "Processed 194048/199235 reviews. Time elapsed: 3450.31s. Estimated time remaining: 100.14s\n",
            "DEBUG - Processing batch starting at index 194048. Sample text: its a good game...\n"
          ]
        },
        {
          "name": "stderr",
          "output_type": "stream",
          "text": [
            "\rProcessing Batches:  97%|█████████▋| 380/390 [57:39<01:33,  9.39s/batch]"
          ]
        },
        {
          "name": "stdout",
          "output_type": "stream",
          "text": [
            "DEBUG - Batch sample output: Sentiment: 1, Confidence: 1.00\n",
            "Processed 194560/199235 reviews. Time elapsed: 3459.78s. Estimated time remaining: 91.05s\n",
            "DEBUG - Processing batch starting at index 194560. Sample text: great game a step up from the typical moba game not noob friendly tho give it a try...\n"
          ]
        },
        {
          "name": "stderr",
          "output_type": "stream",
          "text": [
            "\rProcessing Batches:  98%|█████████▊| 381/390 [57:49<01:24,  9.42s/batch]"
          ]
        },
        {
          "name": "stdout",
          "output_type": "stream",
          "text": [
            "DEBUG - Batch sample output: Sentiment: 1, Confidence: 1.00\n",
            "Processed 195072/199235 reviews. Time elapsed: 3469.26s. Estimated time remaining: 81.95s\n",
            "DEBUG - Processing batch starting at index 195072. Sample text: amazing way better than lol...\n"
          ]
        },
        {
          "name": "stderr",
          "output_type": "stream",
          "text": [
            "\rProcessing Batches:  98%|█████████▊| 382/390 [57:57<01:12,  9.06s/batch]"
          ]
        },
        {
          "name": "stdout",
          "output_type": "stream",
          "text": [
            "DEBUG - Batch sample output: Sentiment: 1, Confidence: 1.00\n",
            "Processed 195584/199235 reviews. Time elapsed: 3477.48s. Estimated time remaining: 72.83s\n",
            "DEBUG - Processing batch starting at index 195584. Sample text: addictive d...\n"
          ]
        },
        {
          "name": "stderr",
          "output_type": "stream",
          "text": [
            "\rProcessing Batches:  98%|█████████▊| 383/390 [58:06<01:04,  9.18s/batch]"
          ]
        },
        {
          "name": "stdout",
          "output_type": "stream",
          "text": [
            "DEBUG - Batch sample output: Sentiment: 1, Confidence: 1.00\n",
            "Processed 196096/199235 reviews. Time elapsed: 3486.95s. Estimated time remaining: 63.73s\n",
            "DEBUG - Processing batch starting at index 196096. Sample text:   this game is awesome it may be the same map and heroes over and over again  but the playstyle alwa...\n"
          ]
        },
        {
          "name": "stderr",
          "output_type": "stream",
          "text": [
            "\rProcessing Batches:  98%|█████████▊| 384/390 [58:12<00:47,  7.95s/batch]"
          ]
        },
        {
          "name": "stdout",
          "output_type": "stream",
          "text": [
            "DEBUG - Batch sample output: Sentiment: 1, Confidence: 1.00\n",
            "Processed 196608/199235 reviews. Time elapsed: 3492.02s. Estimated time remaining: 54.56s\n",
            "DEBUG - Processing batch starting at index 196608. Sample text: most fun online game that there is...\n"
          ]
        },
        {
          "name": "stderr",
          "output_type": "stream",
          "text": [
            "\rProcessing Batches:  99%|█████████▊| 385/390 [58:21<00:42,  8.41s/batch]"
          ]
        },
        {
          "name": "stdout",
          "output_type": "stream",
          "text": [
            "DEBUG - Batch sample output: Sentiment: 1, Confidence: 1.00\n",
            "Processed 197120/199235 reviews. Time elapsed: 3501.50s. Estimated time remaining: 45.47s\n",
            "DEBUG - Processing batch starting at index 197120. Sample text: first and foremost i have to give props to the art department at bethesda the art direction for this...\n"
          ]
        },
        {
          "name": "stderr",
          "output_type": "stream",
          "text": [
            "\rProcessing Batches:  99%|█████████▉| 386/390 [58:30<00:34,  8.74s/batch]"
          ]
        },
        {
          "name": "stdout",
          "output_type": "stream",
          "text": [
            "DEBUG - Batch sample output: Sentiment: 1, Confidence: 1.00\n",
            "Processed 197632/199235 reviews. Time elapsed: 3511.00s. Estimated time remaining: 36.38s\n",
            "DEBUG - Processing batch starting at index 197632. Sample text:  paid mods to very negative we go...\n"
          ]
        },
        {
          "name": "stderr",
          "output_type": "stream",
          "text": [
            "\rProcessing Batches:  99%|█████████▉| 387/390 [58:40<00:26,  8.96s/batch]"
          ]
        },
        {
          "name": "stdout",
          "output_type": "stream",
          "text": [
            "DEBUG - Batch sample output: Sentiment: 0, Confidence: 1.00\n",
            "Processed 198144/199235 reviews. Time elapsed: 3520.49s. Estimated time remaining: 27.29s\n",
            "DEBUG - Processing batch starting at index 198144. Sample text: i very rarely review games most people can say what i want to say but better however it breaks my he...\n"
          ]
        },
        {
          "name": "stderr",
          "output_type": "stream",
          "text": [
            "\rProcessing Batches:  99%|█████████▉| 388/390 [58:49<00:18,  9.12s/batch]"
          ]
        },
        {
          "name": "stdout",
          "output_type": "stream",
          "text": [
            "DEBUG - Batch sample output: Sentiment: 1, Confidence: 1.00\n",
            "Processed 198656/199235 reviews. Time elapsed: 3529.97s. Estimated time remaining: 18.20s\n",
            "DEBUG - Processing batch starting at index 198656. Sample text: valve introduced paid workshop mods for skyrim as a result changing my review to negative you dont g...\n"
          ]
        },
        {
          "name": "stderr",
          "output_type": "stream",
          "text": [
            "\rProcessing Batches: 100%|█████████▉| 389/390 [58:59<00:09,  9.23s/batch]"
          ]
        },
        {
          "name": "stdout",
          "output_type": "stream",
          "text": [
            "DEBUG - Batch sample output: Sentiment: 0, Confidence: 1.00\n",
            "Processed 199168/199235 reviews. Time elapsed: 3539.46s. Estimated time remaining: 9.10s\n",
            "DEBUG - Processing batch starting at index 199168. Sample text: i am unhappy with valves decision to allow mods to be placed behind a paywall...\n"
          ]
        },
        {
          "name": "stderr",
          "output_type": "stream",
          "text": [
            "Processing Batches: 100%|██████████| 390/390 [59:00<00:00,  9.08s/batch]"
          ]
        },
        {
          "name": "stdout",
          "output_type": "stream",
          "text": [
            "DEBUG - Batch sample output: Sentiment: 0, Confidence: 1.00\n",
            "Processed 199235/199235 reviews. Time elapsed: 3540.42s. Estimated time remaining: 0.00s\n"
          ]
        },
        {
          "name": "stderr",
          "output_type": "stream",
          "text": [
            "\n"
          ]
        },
        {
          "name": "stdout",
          "output_type": "stream",
          "text": [
            "Processing complete. Output saved to /content/drive/MyDrive/output_sentiments.csv\n"
          ]
        }
      ],
      "source": [
        "from transformers import AutoModelForSequenceClassification, AutoTokenizer\n",
        "import torch\n",
        "import pandas as pd\n",
        "from tqdm import tqdm\n",
        "import time\n",
        "\n",
        "# Load sentiment model from \"siebert/sentiment-roberta-large-english\"\n",
        "model_name = \"siebert/sentiment-roberta-large-english\"\n",
        "tokenizer = AutoTokenizer.from_pretrained(model_name)\n",
        "model = AutoModelForSequenceClassification.from_pretrained(model_name)\n",
        "\n",
        "# Move model to GPU if available\n",
        "device = torch.device(\"cuda\" if torch.cuda.is_available() else \"cpu\")\n",
        "model.to(device)\n",
        "\n",
        "# Clean the DataFrame: drop rows with NaN or empty 'review_text'\n",
        "df = df.dropna(subset=['review_text'])\n",
        "df = df[df['review_text'] != '']\n",
        "\n",
        "def get_sentiments_batch(text_list, batch_size=32):\n",
        "    sentiments = []\n",
        "    total = len(text_list)\n",
        "    start_time = time.time()\n",
        "\n",
        "    # Process batches with tqdm for progress tracking\n",
        "    for i in tqdm(range(0, total, batch_size), desc=\"Processing Batches\", unit=\"batch\"):\n",
        "        batch = text_list[i:i+batch_size]\n",
        "\n",
        "        # Debug: log the sample text from this batch (first 100 characters)\n",
        "        print(f\"DEBUG - Processing batch starting at index {i}. Sample text: {batch[0][:100]}...\")\n",
        "\n",
        "        # Tokenize the batch\n",
        "        inputs = tokenizer(\n",
        "            batch,\n",
        "            return_tensors=\"pt\",\n",
        "            padding=True,\n",
        "            truncation=True,\n",
        "            max_length=512\n",
        "        ).to(device)\n",
        "\n",
        "        # Perform inference\n",
        "        with torch.no_grad():\n",
        "            outputs = model(**inputs)\n",
        "        probs = torch.nn.functional.softmax(outputs.logits, dim=-1)\n",
        "\n",
        "        # Extract sentiment and confidence for each sample in the batch\n",
        "        batch_sentiments = [(torch.argmax(p).item(), torch.max(p).item()) for p in probs]\n",
        "        sentiments.extend(batch_sentiments)\n",
        "\n",
        "        # Log sentiment and confidence for the first sample in the batch\n",
        "        sample_sentiment, sample_confidence = batch_sentiments[0]\n",
        "        print(f\"DEBUG - Batch sample output: Sentiment: {sample_sentiment}, Confidence: {sample_confidence:.2f}\")\n",
        "\n",
        "        # Logging progress\n",
        "        processed = min(i + batch_size, total)\n",
        "        elapsed = time.time() - start_time\n",
        "        batches_done = (i // batch_size) + 1\n",
        "        avg_time_per_batch = elapsed / batches_done\n",
        "        batches_remaining = ((total - i) // batch_size)\n",
        "        estimated_remaining = avg_time_per_batch * batches_remaining\n",
        "\n",
        "        print(f\"Processed {processed}/{total} reviews. Time elapsed: {elapsed:.2f}s. Estimated time remaining: {estimated_remaining:.2f}s\")\n",
        "\n",
        "    return sentiments\n",
        "\n",
        "# Process reviews in batches\n",
        "reviews = df['review_text'].tolist()\n",
        "sentiments = get_sentiments_batch(reviews, batch_size=512)  # Adjust batch_size as needed\n",
        "\n",
        "# Add sentiment and confidence to the DataFrame\n",
        "df['sentiment'] = [s[0] for s in sentiments]\n",
        "df['confidence'] = [s[1] for s in sentiments]\n",
        "\n",
        "# Output the results to a CSV file\n",
        "output_csv = \"/content/drive/MyDrive/output_sentiments.csv\"\n",
        "df.to_csv(output_csv, index=False)\n",
        "print(f\"Processing complete. Output saved to {output_csv}\")\n"
      ]
    }
  ],
  "metadata": {
    "accelerator": "GPU",
    "colab": {
      "gpuType": "A100",
      "machine_shape": "hm",
      "provenance": []
    },
    "kernelspec": {
      "display_name": "Python 3",
      "name": "python3"
    },
    "language_info": {
      "name": "python"
    }
  },
  "nbformat": 4,
  "nbformat_minor": 0
}
