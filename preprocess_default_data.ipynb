{
 "cells": [
  {
   "cell_type": "code",
   "execution_count": 1,
   "metadata": {},
   "outputs": [
    {
     "name": "stdout",
     "output_type": "stream",
     "text": [
      "Note: you may need to restart the kernel to use updated packages.\n"
     ]
    },
    {
     "name": "stderr",
     "output_type": "stream",
     "text": [
      "WARNING: Ignoring invalid distribution -rotobuf (c:\\users\\ethan\\anaconda3\\lib\\site-packages)\n",
      "WARNING: Ignoring invalid distribution -atplotlib (c:\\users\\ethan\\anaconda3\\lib\\site-packages)\n",
      "WARNING: Ignoring invalid distribution -rotobuf (c:\\users\\ethan\\anaconda3\\lib\\site-packages)\n",
      "WARNING: Ignoring invalid distribution -atplotlib (c:\\users\\ethan\\anaconda3\\lib\\site-packages)\n",
      "ERROR: Could not find a version that satisfies the requirement os (from versions: none)\n",
      "ERROR: No matching distribution found for os\n",
      "WARNING: Ignoring invalid distribution -rotobuf (c:\\users\\ethan\\anaconda3\\lib\\site-packages)\n",
      "WARNING: Ignoring invalid distribution -atplotlib (c:\\users\\ethan\\anaconda3\\lib\\site-packages)\n",
      "WARNING: Ignoring invalid distribution -rotobuf (c:\\users\\ethan\\anaconda3\\lib\\site-packages)\n",
      "WARNING: Ignoring invalid distribution -atplotlib (c:\\users\\ethan\\anaconda3\\lib\\site-packages)\n",
      "WARNING: Ignoring invalid distribution -rotobuf (c:\\users\\ethan\\anaconda3\\lib\\site-packages)\n",
      "WARNING: Ignoring invalid distribution -atplotlib (c:\\users\\ethan\\anaconda3\\lib\\site-packages)\n"
     ]
    },
    {
     "name": "stdout",
     "output_type": "stream",
     "text": [
      "Requirement already satisfied: pandas in c:\\users\\ethan\\anaconda3\\lib\\site-packages (2.2.3)\n",
      "Requirement already satisfied: numpy>=1.22.4 in c:\\users\\ethan\\anaconda3\\lib\\site-packages (from pandas) (1.26.4)\n",
      "Requirement already satisfied: tzdata>=2022.7 in c:\\users\\ethan\\anaconda3\\lib\\site-packages (from pandas) (2023.4)\n",
      "Requirement already satisfied: pytz>=2020.1 in c:\\users\\ethan\\anaconda3\\lib\\site-packages (from pandas) (2023.3.post1)\n",
      "Requirement already satisfied: python-dateutil>=2.8.2 in c:\\users\\ethan\\anaconda3\\lib\\site-packages (from pandas) (2.9.0.post0)\n",
      "Requirement already satisfied: six>=1.5 in c:\\users\\ethan\\anaconda3\\lib\\site-packages (from python-dateutil>=2.8.2->pandas) (1.16.0)\n",
      "Note: you may need to restart the kernel to use updated packages.\n"
     ]
    },
    {
     "name": "stderr",
     "output_type": "stream",
     "text": [
      "WARNING: Ignoring invalid distribution -rotobuf (c:\\users\\ethan\\anaconda3\\lib\\site-packages)\n",
      "WARNING: Ignoring invalid distribution -atplotlib (c:\\users\\ethan\\anaconda3\\lib\\site-packages)\n",
      "WARNING: Ignoring invalid distribution -rotobuf (c:\\users\\ethan\\anaconda3\\lib\\site-packages)\n",
      "WARNING: Ignoring invalid distribution -atplotlib (c:\\users\\ethan\\anaconda3\\lib\\site-packages)\n",
      "WARNING: Ignoring invalid distribution -rotobuf (c:\\users\\ethan\\anaconda3\\lib\\site-packages)\n",
      "WARNING: Ignoring invalid distribution -atplotlib (c:\\users\\ethan\\anaconda3\\lib\\site-packages)\n",
      "WARNING: Ignoring invalid distribution -rotobuf (c:\\users\\ethan\\anaconda3\\lib\\site-packages)\n",
      "WARNING: Ignoring invalid distribution -atplotlib (c:\\users\\ethan\\anaconda3\\lib\\site-packages)\n",
      "WARNING: Ignoring invalid distribution -rotobuf (c:\\users\\ethan\\anaconda3\\lib\\site-packages)\n",
      "WARNING: Ignoring invalid distribution -atplotlib (c:\\users\\ethan\\anaconda3\\lib\\site-packages)\n",
      "WARNING: Ignoring invalid distribution -rotobuf (c:\\users\\ethan\\anaconda3\\lib\\site-packages)\n",
      "WARNING: Ignoring invalid distribution -atplotlib (c:\\users\\ethan\\anaconda3\\lib\\site-packages)\n"
     ]
    },
    {
     "name": "stdout",
     "output_type": "stream",
     "text": [
      "Requirement already satisfied: nltk in c:\\users\\ethan\\anaconda3\\lib\\site-packages (3.9.1)\n",
      "Requirement already satisfied: tqdm in c:\\users\\ethan\\anaconda3\\lib\\site-packages (from nltk) (4.64.0)\n",
      "Requirement already satisfied: regex>=2021.8.3 in c:\\users\\ethan\\anaconda3\\lib\\site-packages (from nltk) (2022.3.15)\n",
      "Requirement already satisfied: joblib in c:\\users\\ethan\\anaconda3\\lib\\site-packages (from nltk) (1.4.2)\n",
      "Requirement already satisfied: click in c:\\users\\ethan\\anaconda3\\lib\\site-packages (from nltk) (8.1.7)\n",
      "Requirement already satisfied: colorama in c:\\users\\ethan\\anaconda3\\lib\\site-packages (from click->nltk) (0.4.4)\n",
      "Note: you may need to restart the kernel to use updated packages.\n"
     ]
    },
    {
     "name": "stderr",
     "output_type": "stream",
     "text": [
      "WARNING: Ignoring invalid distribution -rotobuf (c:\\users\\ethan\\anaconda3\\lib\\site-packages)\n",
      "WARNING: Ignoring invalid distribution -atplotlib (c:\\users\\ethan\\anaconda3\\lib\\site-packages)\n",
      "WARNING: Ignoring invalid distribution -rotobuf (c:\\users\\ethan\\anaconda3\\lib\\site-packages)\n",
      "WARNING: Ignoring invalid distribution -atplotlib (c:\\users\\ethan\\anaconda3\\lib\\site-packages)\n",
      "WARNING: Ignoring invalid distribution -rotobuf (c:\\users\\ethan\\anaconda3\\lib\\site-packages)\n",
      "WARNING: Ignoring invalid distribution -atplotlib (c:\\users\\ethan\\anaconda3\\lib\\site-packages)\n",
      "WARNING: Ignoring invalid distribution -rotobuf (c:\\users\\ethan\\anaconda3\\lib\\site-packages)\n",
      "WARNING: Ignoring invalid distribution -atplotlib (c:\\users\\ethan\\anaconda3\\lib\\site-packages)\n",
      "WARNING: Ignoring invalid distribution -rotobuf (c:\\users\\ethan\\anaconda3\\lib\\site-packages)\n",
      "WARNING: Ignoring invalid distribution -atplotlib (c:\\users\\ethan\\anaconda3\\lib\\site-packages)\n",
      "WARNING: Ignoring invalid distribution -rotobuf (c:\\users\\ethan\\anaconda3\\lib\\site-packages)\n",
      "WARNING: Ignoring invalid distribution -atplotlib (c:\\users\\ethan\\anaconda3\\lib\\site-packages)\n"
     ]
    },
    {
     "name": "stdout",
     "output_type": "stream",
     "text": [
      "Note: you may need to restart the kernel to use updated packages.\n"
     ]
    },
    {
     "name": "stderr",
     "output_type": "stream",
     "text": [
      "WARNING: Ignoring invalid distribution -rotobuf (c:\\users\\ethan\\anaconda3\\lib\\site-packages)\n",
      "WARNING: Ignoring invalid distribution -atplotlib (c:\\users\\ethan\\anaconda3\\lib\\site-packages)\n",
      "WARNING: Ignoring invalid distribution -rotobuf (c:\\users\\ethan\\anaconda3\\lib\\site-packages)\n",
      "WARNING: Ignoring invalid distribution -atplotlib (c:\\users\\ethan\\anaconda3\\lib\\site-packages)\n",
      "ERROR: Could not find a version that satisfies the requirement re (from versions: none)\n",
      "ERROR: No matching distribution found for re\n",
      "WARNING: Ignoring invalid distribution -rotobuf (c:\\users\\ethan\\anaconda3\\lib\\site-packages)\n",
      "WARNING: Ignoring invalid distribution -atplotlib (c:\\users\\ethan\\anaconda3\\lib\\site-packages)\n",
      "WARNING: Ignoring invalid distribution -rotobuf (c:\\users\\ethan\\anaconda3\\lib\\site-packages)\n",
      "WARNING: Ignoring invalid distribution -atplotlib (c:\\users\\ethan\\anaconda3\\lib\\site-packages)\n",
      "WARNING: Ignoring invalid distribution -rotobuf (c:\\users\\ethan\\anaconda3\\lib\\site-packages)\n",
      "WARNING: Ignoring invalid distribution -atplotlib (c:\\users\\ethan\\anaconda3\\lib\\site-packages)\n"
     ]
    },
    {
     "name": "stdout",
     "output_type": "stream",
     "text": [
      "Requirement already satisfied: gensim in c:\\users\\ethan\\anaconda3\\lib\\site-packages (4.3.3)\n",
      "Requirement already satisfied: numpy<2.0,>=1.18.5 in c:\\users\\ethan\\anaconda3\\lib\\site-packages (from gensim) (1.26.4)\n",
      "Requirement already satisfied: scipy<1.14.0,>=1.7.0 in c:\\users\\ethan\\anaconda3\\lib\\site-packages (from gensim) (1.13.1)\n",
      "Requirement already satisfied: smart-open>=1.8.1 in c:\\users\\ethan\\anaconda3\\lib\\site-packages (from gensim) (5.1.0)\n",
      "Note: you may need to restart the kernel to use updated packages.\n"
     ]
    },
    {
     "name": "stderr",
     "output_type": "stream",
     "text": [
      "WARNING: Ignoring invalid distribution -rotobuf (c:\\users\\ethan\\anaconda3\\lib\\site-packages)\n",
      "WARNING: Ignoring invalid distribution -atplotlib (c:\\users\\ethan\\anaconda3\\lib\\site-packages)\n",
      "WARNING: Ignoring invalid distribution -rotobuf (c:\\users\\ethan\\anaconda3\\lib\\site-packages)\n",
      "WARNING: Ignoring invalid distribution -atplotlib (c:\\users\\ethan\\anaconda3\\lib\\site-packages)\n",
      "WARNING: Ignoring invalid distribution -rotobuf (c:\\users\\ethan\\anaconda3\\lib\\site-packages)\n",
      "WARNING: Ignoring invalid distribution -atplotlib (c:\\users\\ethan\\anaconda3\\lib\\site-packages)\n",
      "WARNING: Ignoring invalid distribution -rotobuf (c:\\users\\ethan\\anaconda3\\lib\\site-packages)\n",
      "WARNING: Ignoring invalid distribution -atplotlib (c:\\users\\ethan\\anaconda3\\lib\\site-packages)\n",
      "WARNING: Ignoring invalid distribution -rotobuf (c:\\users\\ethan\\anaconda3\\lib\\site-packages)\n",
      "WARNING: Ignoring invalid distribution -atplotlib (c:\\users\\ethan\\anaconda3\\lib\\site-packages)\n",
      "WARNING: Ignoring invalid distribution -rotobuf (c:\\users\\ethan\\anaconda3\\lib\\site-packages)\n",
      "WARNING: Ignoring invalid distribution -atplotlib (c:\\users\\ethan\\anaconda3\\lib\\site-packages)\n"
     ]
    },
    {
     "name": "stdout",
     "output_type": "stream",
     "text": [
      "Requirement already satisfied: pyLDAvis in c:\\users\\ethan\\anaconda3\\lib\\site-packages (3.4.1)\n",
      "Requirement already satisfied: joblib>=1.2.0 in c:\\users\\ethan\\anaconda3\\lib\\site-packages (from pyLDAvis) (1.4.2)\n",
      "Requirement already satisfied: numpy>=1.24.2 in c:\\users\\ethan\\anaconda3\\lib\\site-packages (from pyLDAvis) (1.26.4)\n",
      "Requirement already satisfied: funcy in c:\\users\\ethan\\anaconda3\\lib\\site-packages (from pyLDAvis) (2.0)\n",
      "Requirement already satisfied: scipy in c:\\users\\ethan\\anaconda3\\lib\\site-packages (from pyLDAvis) (1.13.1)\n",
      "Requirement already satisfied: numexpr in c:\\users\\ethan\\anaconda3\\lib\\site-packages (from pyLDAvis) (2.10.2)\n",
      "Requirement already satisfied: scikit-learn>=1.0.0 in c:\\users\\ethan\\anaconda3\\lib\\site-packages (from pyLDAvis) (1.6.0)\n",
      "Requirement already satisfied: setuptools in c:\\users\\ethan\\anaconda3\\lib\\site-packages (from pyLDAvis) (61.2.0)\n",
      "Requirement already satisfied: gensim in c:\\users\\ethan\\anaconda3\\lib\\site-packages (from pyLDAvis) (4.3.3)\n",
      "Requirement already satisfied: pandas>=2.0.0 in c:\\users\\ethan\\anaconda3\\lib\\site-packages (from pyLDAvis) (2.2.3)\n",
      "Requirement already satisfied: jinja2 in c:\\users\\ethan\\anaconda3\\lib\\site-packages (from pyLDAvis) (3.1.3)\n",
      "Requirement already satisfied: pytz>=2020.1 in c:\\users\\ethan\\anaconda3\\lib\\site-packages (from pandas>=2.0.0->pyLDAvis) (2023.3.post1)\n",
      "Requirement already satisfied: tzdata>=2022.7 in c:\\users\\ethan\\anaconda3\\lib\\site-packages (from pandas>=2.0.0->pyLDAvis) (2023.4)\n",
      "Requirement already satisfied: python-dateutil>=2.8.2 in c:\\users\\ethan\\anaconda3\\lib\\site-packages (from pandas>=2.0.0->pyLDAvis) (2.9.0.post0)\n",
      "Requirement already satisfied: six>=1.5 in c:\\users\\ethan\\anaconda3\\lib\\site-packages (from python-dateutil>=2.8.2->pandas>=2.0.0->pyLDAvis) (1.16.0)\n",
      "Requirement already satisfied: threadpoolctl>=3.1.0 in c:\\users\\ethan\\anaconda3\\lib\\site-packages (from scikit-learn>=1.0.0->pyLDAvis) (3.5.0)\n",
      "Requirement already satisfied: smart-open>=1.8.1 in c:\\users\\ethan\\anaconda3\\lib\\site-packages (from gensim->pyLDAvis) (5.1.0)\n",
      "Requirement already satisfied: MarkupSafe>=2.0 in c:\\users\\ethan\\anaconda3\\lib\\site-packages (from jinja2->pyLDAvis) (2.1.3)\n",
      "Note: you may need to restart the kernel to use updated packages.\n"
     ]
    },
    {
     "name": "stderr",
     "output_type": "stream",
     "text": [
      "WARNING: Ignoring invalid distribution -rotobuf (c:\\users\\ethan\\anaconda3\\lib\\site-packages)\n",
      "WARNING: Ignoring invalid distribution -atplotlib (c:\\users\\ethan\\anaconda3\\lib\\site-packages)\n",
      "WARNING: Ignoring invalid distribution -rotobuf (c:\\users\\ethan\\anaconda3\\lib\\site-packages)\n",
      "WARNING: Ignoring invalid distribution -atplotlib (c:\\users\\ethan\\anaconda3\\lib\\site-packages)\n",
      "WARNING: Ignoring invalid distribution -rotobuf (c:\\users\\ethan\\anaconda3\\lib\\site-packages)\n",
      "WARNING: Ignoring invalid distribution -atplotlib (c:\\users\\ethan\\anaconda3\\lib\\site-packages)\n",
      "WARNING: Ignoring invalid distribution -rotobuf (c:\\users\\ethan\\anaconda3\\lib\\site-packages)\n",
      "WARNING: Ignoring invalid distribution -atplotlib (c:\\users\\ethan\\anaconda3\\lib\\site-packages)\n",
      "WARNING: Ignoring invalid distribution -rotobuf (c:\\users\\ethan\\anaconda3\\lib\\site-packages)\n",
      "WARNING: Ignoring invalid distribution -atplotlib (c:\\users\\ethan\\anaconda3\\lib\\site-packages)\n",
      "WARNING: Ignoring invalid distribution -rotobuf (c:\\users\\ethan\\anaconda3\\lib\\site-packages)\n",
      "WARNING: Ignoring invalid distribution -atplotlib (c:\\users\\ethan\\anaconda3\\lib\\site-packages)\n"
     ]
    },
    {
     "name": "stdout",
     "output_type": "stream",
     "text": [
      "Note: you may need to restart the kernel to use updated packages.\n"
     ]
    },
    {
     "name": "stderr",
     "output_type": "stream",
     "text": [
      "WARNING: Ignoring invalid distribution -rotobuf (c:\\users\\ethan\\anaconda3\\lib\\site-packages)\n",
      "WARNING: Ignoring invalid distribution -atplotlib (c:\\users\\ethan\\anaconda3\\lib\\site-packages)\n",
      "WARNING: Ignoring invalid distribution -rotobuf (c:\\users\\ethan\\anaconda3\\lib\\site-packages)\n",
      "WARNING: Ignoring invalid distribution -atplotlib (c:\\users\\ethan\\anaconda3\\lib\\site-packages)\n",
      "ERROR: Could not find a version that satisfies the requirement pyLDAvis.gensim (from versions: none)\n",
      "ERROR: No matching distribution found for pyLDAvis.gensim\n",
      "WARNING: Ignoring invalid distribution -rotobuf (c:\\users\\ethan\\anaconda3\\lib\\site-packages)\n",
      "WARNING: Ignoring invalid distribution -atplotlib (c:\\users\\ethan\\anaconda3\\lib\\site-packages)\n",
      "WARNING: Ignoring invalid distribution -rotobuf (c:\\users\\ethan\\anaconda3\\lib\\site-packages)\n",
      "WARNING: Ignoring invalid distribution -atplotlib (c:\\users\\ethan\\anaconda3\\lib\\site-packages)\n",
      "WARNING: Ignoring invalid distribution -rotobuf (c:\\users\\ethan\\anaconda3\\lib\\site-packages)\n",
      "WARNING: Ignoring invalid distribution -atplotlib (c:\\users\\ethan\\anaconda3\\lib\\site-packages)\n"
     ]
    },
    {
     "name": "stdout",
     "output_type": "stream",
     "text": [
      "Note: you may need to restart the kernel to use updated packages.Requirement already satisfied: textblob in c:\\users\\ethan\\anaconda3\\lib\\site-packages (0.19.0)\n",
      "Requirement already satisfied: nltk>=3.9 in c:\\users\\ethan\\anaconda3\\lib\\site-packages (from textblob) (3.9.1)\n",
      "Requirement already satisfied: regex>=2021.8.3 in c:\\users\\ethan\\anaconda3\\lib\\site-packages (from nltk>=3.9->textblob) (2022.3.15)\n",
      "Requirement already satisfied: tqdm in c:\\users\\ethan\\anaconda3\\lib\\site-packages (from nltk>=3.9->textblob) (4.64.0)\n",
      "Requirement already satisfied: click in c:\\users\\ethan\\anaconda3\\lib\\site-packages (from nltk>=3.9->textblob) (8.1.7)\n",
      "Requirement already satisfied: joblib in c:\\users\\ethan\\anaconda3\\lib\\site-packages (from nltk>=3.9->textblob) (1.4.2)\n",
      "Requirement already satisfied: colorama in c:\\users\\ethan\\anaconda3\\lib\\site-packages (from click->nltk>=3.9->textblob) (0.4.4)\n",
      "\n"
     ]
    },
    {
     "name": "stderr",
     "output_type": "stream",
     "text": [
      "WARNING: Ignoring invalid distribution -rotobuf (c:\\users\\ethan\\anaconda3\\lib\\site-packages)\n",
      "WARNING: Ignoring invalid distribution -atplotlib (c:\\users\\ethan\\anaconda3\\lib\\site-packages)\n",
      "WARNING: Ignoring invalid distribution -rotobuf (c:\\users\\ethan\\anaconda3\\lib\\site-packages)\n",
      "WARNING: Ignoring invalid distribution -atplotlib (c:\\users\\ethan\\anaconda3\\lib\\site-packages)\n",
      "WARNING: Ignoring invalid distribution -rotobuf (c:\\users\\ethan\\anaconda3\\lib\\site-packages)\n",
      "WARNING: Ignoring invalid distribution -atplotlib (c:\\users\\ethan\\anaconda3\\lib\\site-packages)\n",
      "WARNING: Ignoring invalid distribution -rotobuf (c:\\users\\ethan\\anaconda3\\lib\\site-packages)\n",
      "WARNING: Ignoring invalid distribution -atplotlib (c:\\users\\ethan\\anaconda3\\lib\\site-packages)\n",
      "WARNING: Ignoring invalid distribution -rotobuf (c:\\users\\ethan\\anaconda3\\lib\\site-packages)\n",
      "WARNING: Ignoring invalid distribution -atplotlib (c:\\users\\ethan\\anaconda3\\lib\\site-packages)\n",
      "WARNING: Ignoring invalid distribution -rotobuf (c:\\users\\ethan\\anaconda3\\lib\\site-packages)\n",
      "WARNING: Ignoring invalid distribution -atplotlib (c:\\users\\ethan\\anaconda3\\lib\\site-packages)\n"
     ]
    }
   ],
   "source": [
    "# Install necessary libraries\n",
    "%pip install os\n",
    "%pip install pandas\n",
    "%pip install nltk\n",
    "%pip install re\n",
    "%pip install gensim\n",
    "%pip install pyLDAvis\n",
    "%pip install pyLDAvis.gensim\n",
    "%pip install textblob"
   ]
  },
  {
   "cell_type": "code",
   "execution_count": null,
   "metadata": {},
   "outputs": [
    {
     "name": "stderr",
     "output_type": "stream",
     "text": [
      "[nltk_data] Downloading package stopwords to\n",
      "[nltk_data]     C:\\Users\\ethan\\AppData\\Roaming\\nltk_data...\n",
      "[nltk_data]   Package stopwords is already up-to-date!\n",
      "[nltk_data] Downloading package punkt to\n",
      "[nltk_data]     C:\\Users\\ethan\\AppData\\Roaming\\nltk_data...\n",
      "[nltk_data]   Package punkt is already up-to-date!\n"
     ]
    },
    {
     "name": "stdout",
     "output_type": "stream",
     "text": [
      "Loading default dataset from steam_reviews.csv...\n"
     ]
    }
   ],
   "source": [
    "# Import necessary libraries\n",
    "import os\n",
    "import pandas as pd\n",
    "import nltk\n",
    "import re\n",
    "import gensim\n",
    "from gensim import corpora\n",
    "from gensim.models import LdaModel, CoherenceModel\n",
    "from textblob import TextBlob\n",
    "\n",
    "# Download NLTK resources\n",
    "nltk.download('stopwords')\n",
    "nltk.download('punkt')\n",
    "\n",
    "# Define constants\n",
    "DATA_FOLDER = \"processed_data\"\n",
    "DEFAULT_FILE = \"steam_reviews.csv\"\n",
    "SENTIMENT_CSV = os.path.join(DATA_FOLDER, \"sentiment_results.csv\")\n",
    "LDA_TOPICS_CSV = os.path.join(DATA_FOLDER, \"lda_topics.csv\")\n",
    "\n",
    "# Ensure data folder exists\n",
    "os.makedirs(DATA_FOLDER, exist_ok=True)\n",
    "\n",
    "# Custom stopword list based on frequency graph\n",
    "stop_list = nltk.corpus.stopwords.words('english')\n",
    "stop_list += [\n",
    "    \"game\", \"play\", \"like\", \"good\", \"best\", \"one\", \"great\", \"really\", \"get\", \"time\",\n",
    "    \"ever\", \"played\", \"playing\", \"would\", \"even\", \"much\", \"hours\", \"love\", \"still\",\n",
    "    \"buy\", \"amazing\", \"in\", \"u\", \"it\", \"xd\", \"lol\", \"ive\", \"im\", \"could\", \"also\", \"many\",\n",
    "    \"im\", \"lol\", \"cant\", \"ing\"\n",
    "]\n",
    "\n",
    "# Function to preprocess and tokenize reviews\n",
    "def preprocess_reviews(df, text_column='review_text'):\n",
    "    \"\"\" Tokenizes, removes stopwords, and cleans review text. \"\"\"\n",
    "    # Drop missing values in the review_text column\n",
    "    df = df.dropna(subset=[text_column])\n",
    "    \n",
    "    # Create a copy of the dataframe with tokenized reviews\n",
    "    df_processed = df.copy()\n",
    "    \n",
    "    # Tokenize and clean reviews\n",
    "    df_processed['tokens'] = df[text_column].astype(str).apply(nltk.word_tokenize)\n",
    "    df_processed['tokens'] = df_processed['tokens'].apply(lambda x: [w.lower() for w in x if re.search('^[a-z]+$', w) and w.lower() not in stop_list])\n",
    "    \n",
    "    return df_processed\n",
    "\n",
    "# Load the default dataset\n",
    "print(f\"Loading default dataset from {DEFAULT_FILE}...\")\n",
    "df = pd.read_csv(DEFAULT_FILE)\n",
    "\n",
    "# Preprocess the reviews\n",
    "df_processed = preprocess_reviews(df)\n",
    "\n",
    "# Perform sentiment analysis\n",
    "print(\"Performing sentiment analysis...\")\n",
    "df_processed['sentiment'] = df_processed['review_text'].apply(lambda x: TextBlob(str(x)).sentiment.polarity)\n",
    "df_processed['sentiment_category'] = df_processed['sentiment'].apply(lambda x: 'Positive' if x > 0 else 'Negative' if x < 0 else 'Neutral')\n",
    "\n",
    "# Save sentiment results\n",
    "df_processed.to_csv(SENTIMENT_CSV, index=False)\n",
    "print(f\"Sentiment analysis results saved to {SENTIMENT_CSV}\")\n",
    "\n",
    "# Extract tokenized documents\n",
    "docs = df_processed['tokens'].tolist()\n",
    "\n",
    "# Create Dictionary\n",
    "dictionary = corpora.Dictionary(docs)\n",
    "\n",
    "# Convert documents into Bag of Words representation\n",
    "corpus_bow = [dictionary.doc2bow(doc) for doc in docs]\n",
    "\n",
    "# Train LDA Model\n",
    "print(\"Training LDA model...\")\n",
    "num_topics = 10  # Adjust as needed\n",
    "lda_model = LdaModel(corpus=corpus_bow, id2word=dictionary, num_topics=num_topics, passes=10, random_state=42)\n",
    "\n",
    "# Print topics\n",
    "for idx, topic in lda_model.print_topics():\n",
    "    print(f\"Topic {idx}: {topic}\")\n",
    "\n",
    "# Save topic words to CSV\n",
    "topic_words = []\n",
    "for idx, topic in lda_model.show_topics(num_topics=10, num_words=10, formatted=False):\n",
    "    for word, weight in topic:\n",
    "        topic_words.append({\"topic\": idx, \"word\": word, \"weight\": weight})\n",
    "\n",
    "pd.DataFrame(topic_words).to_csv(LDA_TOPICS_CSV, index=False)\n",
    "print(f\"LDA topics saved to {LDA_TOPICS_CSV}\")\n",
    "\n",
    "print(\"Processing complete. CSV files have been saved for frontend visualization.\")"
   ]
  },
  {
   "cell_type": "code",
   "execution_count": null,
   "metadata": {},
   "outputs": [],
   "source": []
  }
 ],
 "metadata": {
  "kernelspec": {
   "display_name": "Python 3",
   "language": "python",
   "name": "python3"
  },
  "language_info": {
   "codemirror_mode": {
    "name": "ipython",
    "version": 3
   },
   "file_extension": ".py",
   "mimetype": "text/x-python",
   "name": "python",
   "nbconvert_exporter": "python",
   "pygments_lexer": "ipython3",
   "version": "3.12.9"
  }
 },
 "nbformat": 4,
 "nbformat_minor": 2
}
